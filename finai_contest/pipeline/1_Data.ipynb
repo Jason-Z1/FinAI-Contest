{
 "cells": [
  {
   "cell_type": "markdown",
   "metadata": {
    "id": "Sy8r7_g5WjAT"
   },
   "source": [
    "# Stock NeurIPS2018 Part 1. Data\n",
    "This series is a reproduction of paper *the process in the paper Practical Deep Reinforcement Learning Approach for Stock Trading*. \n",
    "\n",
    "This is the first part of the NeurIPS2018 series, introducing how to use FinRL to fetch and process data that we need for ML/RL trading.\n",
    "\n",
    "Other demos can be found at the repo of [FinRL-Tutorials]((https://github.com/AI4Finance-Foundation/FinRL-Tutorials))."
   ]
  },
  {
   "cell_type": "markdown",
   "metadata": {
    "id": "2uH1KXctgnoJ"
   },
   "source": [
    "# Part 1. Install Packages"
   ]
  },
  {
   "cell_type": "code",
   "execution_count": 1,
   "metadata": {
    "id": "a2oD49e_N_05"
   },
   "outputs": [
    {
     "name": "stdout",
     "output_type": "stream",
     "text": [
      "Collecting git+https://github.com/AI4Finance-Foundation/FinRL.git\n",
      "  Cloning https://github.com/AI4Finance-Foundation/FinRL.git to c:\\users\\jason\\appdata\\local\\temp\\pip-req-build-s_pqhegj\n",
      "  Resolved https://github.com/AI4Finance-Foundation/FinRL.git to commit 9e8c38aa5b92bbf0e20f65fc611fd43b43196859\n",
      "  Installing build dependencies: started\n",
      "  Installing build dependencies: finished with status 'done'\n",
      "  Getting requirements to build wheel: started\n",
      "  Getting requirements to build wheel: finished with status 'done'\n",
      "  Preparing metadata (pyproject.toml): started\n",
      "  Preparing metadata (pyproject.toml): finished with status 'done'\n",
      "Collecting elegantrl@ git+https://github.com/AI4Finance-Foundation/ElegantRL.git (from finrl==0.3.8)\n",
      "  Cloning https://github.com/AI4Finance-Foundation/ElegantRL.git to c:\\users\\jason\\appdata\\local\\temp\\pip-install-hfzpu27r\\elegantrl_ce015a11694041ff80cebd2595ad63f1\n",
      "  Resolved https://github.com/AI4Finance-Foundation/ElegantRL.git to commit 37aac1f592e1add9f9fd37ae8db1094656009b76\n",
      "  Preparing metadata (setup.py): started\n",
      "  Preparing metadata (setup.py): finished with status 'done'\n",
      "Requirement already satisfied: alpaca-py<0.38,>=0.37 in c:\\users\\jason\\miniconda3\\lib\\site-packages (from finrl==0.3.8) (0.37.0)\n",
      "Requirement already satisfied: alpaca-trade-api<4,>=3 in c:\\users\\jason\\miniconda3\\lib\\site-packages (from finrl==0.3.8) (3.2.0)\n",
      "Requirement already satisfied: ccxt<4,>=3 in c:\\users\\jason\\miniconda3\\lib\\site-packages (from finrl==0.3.8) (3.1.60)\n",
      "Requirement already satisfied: jqdatasdk<2,>=1 in c:\\users\\jason\\miniconda3\\lib\\site-packages (from finrl==0.3.8) (1.9.7)\n",
      "Requirement already satisfied: pandas-market-calendars<6,>=5 in c:\\users\\jason\\miniconda3\\lib\\site-packages (from finrl==0.3.8) (5.1.1)\n",
      "Requirement already satisfied: pyfolio-reloaded<0.10,>=0.9 in c:\\users\\jason\\miniconda3\\lib\\site-packages (from finrl==0.3.8) (0.9.9)\n",
      "Requirement already satisfied: pyportfolioopt<2,>=1 in c:\\users\\jason\\miniconda3\\lib\\site-packages (from finrl==0.3.8) (1.5.6)\n",
      "Requirement already satisfied: ray<3,>=2 in c:\\users\\jason\\miniconda3\\lib\\site-packages (from ray[default,tune]<3,>=2->finrl==0.3.8) (2.49.1)\n",
      "Requirement already satisfied: scikit-learn<2,>=1 in c:\\users\\jason\\miniconda3\\lib\\site-packages (from finrl==0.3.8) (1.7.2)\n",
      "Requirement already satisfied: selenium<5,>=4 in c:\\users\\jason\\miniconda3\\lib\\site-packages (from finrl==0.3.8) (4.32.0)\n",
      "Requirement already satisfied: stable-baselines3>=2.0.0a5 in c:\\users\\jason\\miniconda3\\lib\\site-packages (from stable-baselines3[extra]>=2.0.0a5->finrl==0.3.8) (2.7.0)\n",
      "Requirement already satisfied: stockstats<0.6,>=0.5 in c:\\users\\jason\\miniconda3\\lib\\site-packages (from finrl==0.3.8) (0.5.4)\n",
      "Requirement already satisfied: webdriver-manager<5,>=4 in c:\\users\\jason\\miniconda3\\lib\\site-packages (from finrl==0.3.8) (4.0.2)\n",
      "Requirement already satisfied: wrds<4,>=3 in c:\\users\\jason\\miniconda3\\lib\\site-packages (from finrl==0.3.8) (3.4.0)\n",
      "Requirement already satisfied: yfinance<0.3,>=0.2 in c:\\users\\jason\\miniconda3\\lib\\site-packages (from finrl==0.3.8) (0.2.58)\n",
      "Requirement already satisfied: msgpack<2.0.0,>=1.0.3 in c:\\users\\jason\\miniconda3\\lib\\site-packages (from alpaca-py<0.38,>=0.37->finrl==0.3.8) (1.0.3)\n",
      "Requirement already satisfied: pandas>=1.5.3 in c:\\users\\jason\\miniconda3\\lib\\site-packages (from alpaca-py<0.38,>=0.37->finrl==0.3.8) (2.2.3)\n",
      "Requirement already satisfied: pydantic<3.0.0,>=2.0.3 in c:\\users\\jason\\miniconda3\\lib\\site-packages (from alpaca-py<0.38,>=0.37->finrl==0.3.8) (2.11.9)\n",
      "Requirement already satisfied: requests<3.0.0,>=2.30.0 in c:\\users\\jason\\miniconda3\\lib\\site-packages (from alpaca-py<0.38,>=0.37->finrl==0.3.8) (2.32.5)\n",
      "Requirement already satisfied: sseclient-py<2.0.0,>=1.7.2 in c:\\users\\jason\\miniconda3\\lib\\site-packages (from alpaca-py<0.38,>=0.37->finrl==0.3.8) (1.8.0)\n",
      "Requirement already satisfied: websockets>=10.4 in c:\\users\\jason\\miniconda3\\lib\\site-packages (from alpaca-py<0.38,>=0.37->finrl==0.3.8) (10.4)\n",
      "Requirement already satisfied: numpy>=1.11.1 in c:\\users\\jason\\miniconda3\\lib\\site-packages (from alpaca-trade-api<4,>=3->finrl==0.3.8) (2.2.6)\n",
      "Requirement already satisfied: urllib3<2,>1.24 in c:\\users\\jason\\miniconda3\\lib\\site-packages (from alpaca-trade-api<4,>=3->finrl==0.3.8) (1.26.20)\n",
      "Requirement already satisfied: websocket-client<2,>=0.56.0 in c:\\users\\jason\\miniconda3\\lib\\site-packages (from alpaca-trade-api<4,>=3->finrl==0.3.8) (1.8.0)\n",
      "Requirement already satisfied: aiohttp<4,>=3.8.3 in c:\\users\\jason\\miniconda3\\lib\\site-packages (from alpaca-trade-api<4,>=3->finrl==0.3.8) (3.12.15)\n",
      "Requirement already satisfied: PyYAML==6.0.1 in c:\\users\\jason\\miniconda3\\lib\\site-packages (from alpaca-trade-api<4,>=3->finrl==0.3.8) (6.0.1)\n",
      "Requirement already satisfied: deprecation==2.1.0 in c:\\users\\jason\\miniconda3\\lib\\site-packages (from alpaca-trade-api<4,>=3->finrl==0.3.8) (2.1.0)\n",
      "Requirement already satisfied: packaging in c:\\users\\jason\\miniconda3\\lib\\site-packages (from deprecation==2.1.0->alpaca-trade-api<4,>=3->finrl==0.3.8) (24.1)\n",
      "Requirement already satisfied: setuptools>=60.9.0 in c:\\users\\jason\\miniconda3\\lib\\site-packages (from ccxt<4,>=3->finrl==0.3.8) (72.1.0)\n",
      "Requirement already satisfied: certifi>=2018.1.18 in c:\\users\\jason\\miniconda3\\lib\\site-packages (from ccxt<4,>=3->finrl==0.3.8) (2025.8.3)\n",
      "Requirement already satisfied: cryptography>=2.6.1 in c:\\users\\jason\\miniconda3\\lib\\site-packages (from ccxt<4,>=3->finrl==0.3.8) (42.0.5)\n",
      "Requirement already satisfied: aiodns>=1.1.1 in c:\\users\\jason\\miniconda3\\lib\\site-packages (from ccxt<4,>=3->finrl==0.3.8) (3.5.0)\n",
      "Requirement already satisfied: yarl>=1.7.2 in c:\\users\\jason\\miniconda3\\lib\\site-packages (from ccxt<4,>=3->finrl==0.3.8) (1.20.1)\n",
      "Requirement already satisfied: six in c:\\users\\jason\\miniconda3\\lib\\site-packages (from jqdatasdk<2,>=1->finrl==0.3.8) (1.16.0)\n",
      "Requirement already satisfied: SQLAlchemy>=1.2.8 in c:\\users\\jason\\miniconda3\\lib\\site-packages (from jqdatasdk<2,>=1->finrl==0.3.8) (2.0.43)\n",
      "Requirement already satisfied: pymysql>=0.7.6 in c:\\users\\jason\\miniconda3\\lib\\site-packages (from jqdatasdk<2,>=1->finrl==0.3.8) (1.1.2)\n",
      "Requirement already satisfied: thriftpy2<=0.4.20,>=0.3.9 in c:\\users\\jason\\miniconda3\\lib\\site-packages (from jqdatasdk<2,>=1->finrl==0.3.8) (0.4.20)\n",
      "Requirement already satisfied: tzdata in c:\\users\\jason\\miniconda3\\lib\\site-packages (from pandas-market-calendars<6,>=5->finrl==0.3.8) (2025.2)\n",
      "Requirement already satisfied: python-dateutil in c:\\users\\jason\\miniconda3\\lib\\site-packages (from pandas-market-calendars<6,>=5->finrl==0.3.8) (2.9.0.post0)\n",
      "Requirement already satisfied: exchange-calendars>=3.3 in c:\\users\\jason\\miniconda3\\lib\\site-packages (from pandas-market-calendars<6,>=5->finrl==0.3.8) (4.11.1)\n",
      "Requirement already satisfied: ipython>=3.2.3 in c:\\users\\jason\\miniconda3\\lib\\site-packages (from pyfolio-reloaded<0.10,>=0.9->finrl==0.3.8) (8.25.0)\n",
      "Requirement already satisfied: matplotlib>=1.4.0 in c:\\users\\jason\\miniconda3\\lib\\site-packages (from pyfolio-reloaded<0.10,>=0.9->finrl==0.3.8) (3.10.6)\n",
      "Requirement already satisfied: pytz>=2014.10 in c:\\users\\jason\\miniconda3\\lib\\site-packages (from pyfolio-reloaded<0.10,>=0.9->finrl==0.3.8) (2024.1)\n",
      "Requirement already satisfied: scipy>=0.14.0 in c:\\users\\jason\\miniconda3\\lib\\site-packages (from pyfolio-reloaded<0.10,>=0.9->finrl==0.3.8) (1.16.2)\n",
      "Requirement already satisfied: seaborn>=0.7.1 in c:\\users\\jason\\miniconda3\\lib\\site-packages (from pyfolio-reloaded<0.10,>=0.9->finrl==0.3.8) (0.13.2)\n",
      "Requirement already satisfied: empyrical-reloaded>=0.5.9 in c:\\users\\jason\\miniconda3\\lib\\site-packages (from pyfolio-reloaded<0.10,>=0.9->finrl==0.3.8) (0.5.12)\n",
      "Requirement already satisfied: cvxpy>=1.1.19 in c:\\users\\jason\\miniconda3\\lib\\site-packages (from pyportfolioopt<2,>=1->finrl==0.3.8) (1.7.2)\n",
      "Requirement already satisfied: ecos<3.0.0,>=2.0.14 in c:\\users\\jason\\miniconda3\\lib\\site-packages (from pyportfolioopt<2,>=1->finrl==0.3.8) (2.0.14)\n",
      "Requirement already satisfied: plotly<6.0.0,>=5.0.0 in c:\\users\\jason\\miniconda3\\lib\\site-packages (from pyportfolioopt<2,>=1->finrl==0.3.8) (5.24.1)\n",
      "Requirement already satisfied: click>=7.0 in c:\\users\\jason\\miniconda3\\lib\\site-packages (from ray<3,>=2->ray[default,tune]<3,>=2->finrl==0.3.8) (8.1.7)\n",
      "Requirement already satisfied: filelock in c:\\users\\jason\\miniconda3\\lib\\site-packages (from ray<3,>=2->ray[default,tune]<3,>=2->finrl==0.3.8) (3.19.1)\n",
      "Requirement already satisfied: jsonschema in c:\\users\\jason\\miniconda3\\lib\\site-packages (from ray<3,>=2->ray[default,tune]<3,>=2->finrl==0.3.8) (4.19.2)\n",
      "Requirement already satisfied: protobuf>=3.20.3 in c:\\users\\jason\\miniconda3\\lib\\site-packages (from ray<3,>=2->ray[default,tune]<3,>=2->finrl==0.3.8) (6.32.1)\n",
      "Requirement already satisfied: aiohttp_cors in c:\\users\\jason\\miniconda3\\lib\\site-packages (from ray[default,tune]<3,>=2->finrl==0.3.8) (0.8.1)\n",
      "Requirement already satisfied: colorful in c:\\users\\jason\\miniconda3\\lib\\site-packages (from ray[default,tune]<3,>=2->finrl==0.3.8) (0.5.7)\n",
      "Requirement already satisfied: py-spy>=0.4.0 in c:\\users\\jason\\miniconda3\\lib\\site-packages (from ray[default,tune]<3,>=2->finrl==0.3.8) (0.4.1)\n",
      "Requirement already satisfied: grpcio>=1.42.0 in c:\\users\\jason\\miniconda3\\lib\\site-packages (from ray[default,tune]<3,>=2->finrl==0.3.8) (1.75.0)\n",
      "Requirement already satisfied: opencensus in c:\\users\\jason\\miniconda3\\lib\\site-packages (from ray[default,tune]<3,>=2->finrl==0.3.8) (0.11.4)\n",
      "Requirement already satisfied: opentelemetry-sdk>=1.30.0 in c:\\users\\jason\\miniconda3\\lib\\site-packages (from ray[default,tune]<3,>=2->finrl==0.3.8) (1.37.0)\n",
      "Requirement already satisfied: opentelemetry-exporter-prometheus in c:\\users\\jason\\miniconda3\\lib\\site-packages (from ray[default,tune]<3,>=2->finrl==0.3.8) (0.58b0)\n",
      "Requirement already satisfied: opentelemetry-proto in c:\\users\\jason\\miniconda3\\lib\\site-packages (from ray[default,tune]<3,>=2->finrl==0.3.8) (1.37.0)\n",
      "Requirement already satisfied: prometheus_client>=0.7.1 in c:\\users\\jason\\miniconda3\\lib\\site-packages (from ray[default,tune]<3,>=2->finrl==0.3.8) (0.23.1)\n",
      "Requirement already satisfied: smart_open in c:\\users\\jason\\miniconda3\\lib\\site-packages (from ray[default,tune]<3,>=2->finrl==0.3.8) (7.3.1)\n",
      "Requirement already satisfied: virtualenv!=20.21.1,>=20.0.24 in c:\\users\\jason\\miniconda3\\lib\\site-packages (from ray[default,tune]<3,>=2->finrl==0.3.8) (20.34.0)\n",
      "Requirement already satisfied: tensorboardX>=1.9 in c:\\users\\jason\\miniconda3\\lib\\site-packages (from ray[default,tune]<3,>=2->finrl==0.3.8) (2.6.4)\n",
      "Requirement already satisfied: pyarrow>=9.0.0 in c:\\users\\jason\\miniconda3\\lib\\site-packages (from ray[default,tune]<3,>=2->finrl==0.3.8) (21.0.0)\n",
      "Requirement already satisfied: fsspec in c:\\users\\jason\\miniconda3\\lib\\site-packages (from ray[default,tune]<3,>=2->finrl==0.3.8) (2025.9.0)\n",
      "Requirement already satisfied: joblib>=1.2.0 in c:\\users\\jason\\miniconda3\\lib\\site-packages (from scikit-learn<2,>=1->finrl==0.3.8) (1.5.2)\n",
      "Requirement already satisfied: threadpoolctl>=3.1.0 in c:\\users\\jason\\miniconda3\\lib\\site-packages (from scikit-learn<2,>=1->finrl==0.3.8) (3.6.0)\n",
      "Requirement already satisfied: trio~=0.17 in c:\\users\\jason\\miniconda3\\lib\\site-packages (from selenium<5,>=4->finrl==0.3.8) (0.31.0)\n",
      "Requirement already satisfied: trio-websocket~=0.9 in c:\\users\\jason\\miniconda3\\lib\\site-packages (from selenium<5,>=4->finrl==0.3.8) (0.12.2)\n",
      "Requirement already satisfied: typing_extensions~=4.9 in c:\\users\\jason\\miniconda3\\lib\\site-packages (from selenium<5,>=4->finrl==0.3.8) (4.15.0)\n",
      "Requirement already satisfied: gymnasium<1.3.0,>=0.29.1 in c:\\users\\jason\\miniconda3\\lib\\site-packages (from stable-baselines3>=2.0.0a5->stable-baselines3[extra]>=2.0.0a5->finrl==0.3.8) (1.2.0)\n",
      "Requirement already satisfied: torch<3.0,>=2.3 in c:\\users\\jason\\miniconda3\\lib\\site-packages (from stable-baselines3>=2.0.0a5->stable-baselines3[extra]>=2.0.0a5->finrl==0.3.8) (2.8.0)\n",
      "Requirement already satisfied: cloudpickle in c:\\users\\jason\\miniconda3\\lib\\site-packages (from stable-baselines3>=2.0.0a5->stable-baselines3[extra]>=2.0.0a5->finrl==0.3.8) (3.0.0)\n",
      "Requirement already satisfied: opencv-python in c:\\users\\jason\\miniconda3\\lib\\site-packages (from stable-baselines3[extra]>=2.0.0a5->finrl==0.3.8) (4.12.0.88)\n",
      "Requirement already satisfied: pygame in c:\\users\\jason\\miniconda3\\lib\\site-packages (from stable-baselines3[extra]>=2.0.0a5->finrl==0.3.8) (2.6.1)\n",
      "Requirement already satisfied: tensorboard>=2.9.1 in c:\\users\\jason\\miniconda3\\lib\\site-packages (from stable-baselines3[extra]>=2.0.0a5->finrl==0.3.8) (2.20.0)\n",
      "Requirement already satisfied: psutil in c:\\users\\jason\\miniconda3\\lib\\site-packages (from stable-baselines3[extra]>=2.0.0a5->finrl==0.3.8) (5.9.0)\n",
      "Requirement already satisfied: tqdm in c:\\users\\jason\\miniconda3\\lib\\site-packages (from stable-baselines3[extra]>=2.0.0a5->finrl==0.3.8) (4.66.4)\n",
      "Requirement already satisfied: rich in c:\\users\\jason\\miniconda3\\lib\\site-packages (from stable-baselines3[extra]>=2.0.0a5->finrl==0.3.8) (13.7.1)\n",
      "Requirement already satisfied: ale-py>=0.9.0 in c:\\users\\jason\\miniconda3\\lib\\site-packages (from stable-baselines3[extra]>=2.0.0a5->finrl==0.3.8) (0.11.2)\n",
      "Requirement already satisfied: pillow in c:\\users\\jason\\miniconda3\\lib\\site-packages (from stable-baselines3[extra]>=2.0.0a5->finrl==0.3.8) (10.4.0)\n",
      "Requirement already satisfied: python-dotenv in c:\\users\\jason\\miniconda3\\lib\\site-packages (from webdriver-manager<5,>=4->finrl==0.3.8) (1.1.0)\n",
      "Requirement already satisfied: psycopg2-binary<2.10,>=2.9 in c:\\users\\jason\\miniconda3\\lib\\site-packages (from wrds<4,>=3->finrl==0.3.8) (2.9.10)\n",
      "Requirement already satisfied: multitasking>=0.0.7 in c:\\users\\jason\\miniconda3\\lib\\site-packages (from yfinance<0.3,>=0.2->finrl==0.3.8) (0.0.12)\n",
      "Requirement already satisfied: platformdirs>=2.0.0 in c:\\users\\jason\\miniconda3\\lib\\site-packages (from yfinance<0.3,>=0.2->finrl==0.3.8) (3.10.0)\n",
      "Requirement already satisfied: frozendict>=2.3.4 in c:\\users\\jason\\miniconda3\\lib\\site-packages (from yfinance<0.3,>=0.2->finrl==0.3.8) (2.4.2)\n",
      "Requirement already satisfied: peewee>=3.16.2 in c:\\users\\jason\\miniconda3\\lib\\site-packages (from yfinance<0.3,>=0.2->finrl==0.3.8) (3.17.3)\n",
      "Requirement already satisfied: beautifulsoup4>=4.11.1 in c:\\users\\jason\\miniconda3\\lib\\site-packages (from yfinance<0.3,>=0.2->finrl==0.3.8) (4.12.3)\n",
      "Requirement already satisfied: curl_cffi>=0.7 in c:\\users\\jason\\miniconda3\\lib\\site-packages (from yfinance<0.3,>=0.2->finrl==0.3.8) (0.13.0)\n",
      "Requirement already satisfied: th in c:\\users\\jason\\miniconda3\\lib\\site-packages (from elegantrl@ git+https://github.com/AI4Finance-Foundation/ElegantRL.git->finrl==0.3.8) (0.4.1)\n",
      "Requirement already satisfied: pycares>=4.9.0 in c:\\users\\jason\\miniconda3\\lib\\site-packages (from aiodns>=1.1.1->ccxt<4,>=3->finrl==0.3.8) (4.11.0)\n",
      "Requirement already satisfied: aiohappyeyeballs>=2.5.0 in c:\\users\\jason\\miniconda3\\lib\\site-packages (from aiohttp<4,>=3.8.3->alpaca-trade-api<4,>=3->finrl==0.3.8) (2.6.1)\n",
      "Requirement already satisfied: aiosignal>=1.4.0 in c:\\users\\jason\\miniconda3\\lib\\site-packages (from aiohttp<4,>=3.8.3->alpaca-trade-api<4,>=3->finrl==0.3.8) (1.4.0)\n",
      "Requirement already satisfied: attrs>=17.3.0 in c:\\users\\jason\\miniconda3\\lib\\site-packages (from aiohttp<4,>=3.8.3->alpaca-trade-api<4,>=3->finrl==0.3.8) (25.3.0)\n",
      "Requirement already satisfied: frozenlist>=1.1.1 in c:\\users\\jason\\miniconda3\\lib\\site-packages (from aiohttp<4,>=3.8.3->alpaca-trade-api<4,>=3->finrl==0.3.8) (1.7.0)\n",
      "Requirement already satisfied: multidict<7.0,>=4.5 in c:\\users\\jason\\miniconda3\\lib\\site-packages (from aiohttp<4,>=3.8.3->alpaca-trade-api<4,>=3->finrl==0.3.8) (6.6.4)\n",
      "Requirement already satisfied: propcache>=0.2.0 in c:\\users\\jason\\miniconda3\\lib\\site-packages (from aiohttp<4,>=3.8.3->alpaca-trade-api<4,>=3->finrl==0.3.8) (0.3.2)\n",
      "Requirement already satisfied: soupsieve>1.2 in c:\\users\\jason\\miniconda3\\lib\\site-packages (from beautifulsoup4>=4.11.1->yfinance<0.3,>=0.2->finrl==0.3.8) (2.5)\n",
      "Requirement already satisfied: colorama in c:\\users\\jason\\miniconda3\\lib\\site-packages (from click>=7.0->ray<3,>=2->ray[default,tune]<3,>=2->finrl==0.3.8) (0.4.6)\n",
      "Requirement already satisfied: cffi>=1.12 in c:\\users\\jason\\miniconda3\\lib\\site-packages (from cryptography>=2.6.1->ccxt<4,>=3->finrl==0.3.8) (1.16.0)\n",
      "Requirement already satisfied: osqp>=0.6.2 in c:\\users\\jason\\miniconda3\\lib\\site-packages (from cvxpy>=1.1.19->pyportfolioopt<2,>=1->finrl==0.3.8) (1.0.4)\n",
      "Requirement already satisfied: clarabel>=0.5.0 in c:\\users\\jason\\miniconda3\\lib\\site-packages (from cvxpy>=1.1.19->pyportfolioopt<2,>=1->finrl==0.3.8) (0.11.1)\n",
      "Requirement already satisfied: scs>=3.2.4.post1 in c:\\users\\jason\\miniconda3\\lib\\site-packages (from cvxpy>=1.1.19->pyportfolioopt<2,>=1->finrl==0.3.8) (3.2.8)\n",
      "Requirement already satisfied: bottleneck>=1.3.0 in c:\\users\\jason\\miniconda3\\lib\\site-packages (from empyrical-reloaded>=0.5.9->pyfolio-reloaded<0.10,>=0.9->finrl==0.3.8) (1.6.0)\n",
      "Requirement already satisfied: pyluach in c:\\users\\jason\\miniconda3\\lib\\site-packages (from exchange-calendars>=3.3->pandas-market-calendars<6,>=5->finrl==0.3.8) (2.3.0)\n",
      "Requirement already satisfied: toolz in c:\\users\\jason\\miniconda3\\lib\\site-packages (from exchange-calendars>=3.3->pandas-market-calendars<6,>=5->finrl==0.3.8) (1.0.0)\n",
      "Requirement already satisfied: korean_lunar_calendar in c:\\users\\jason\\miniconda3\\lib\\site-packages (from exchange-calendars>=3.3->pandas-market-calendars<6,>=5->finrl==0.3.8) (0.3.1)\n",
      "Requirement already satisfied: farama-notifications>=0.0.1 in c:\\users\\jason\\miniconda3\\lib\\site-packages (from gymnasium<1.3.0,>=0.29.1->stable-baselines3>=2.0.0a5->stable-baselines3[extra]>=2.0.0a5->finrl==0.3.8) (0.0.4)\n",
      "Requirement already satisfied: decorator in c:\\users\\jason\\miniconda3\\lib\\site-packages (from ipython>=3.2.3->pyfolio-reloaded<0.10,>=0.9->finrl==0.3.8) (5.1.1)\n",
      "Requirement already satisfied: jedi>=0.16 in c:\\users\\jason\\miniconda3\\lib\\site-packages (from ipython>=3.2.3->pyfolio-reloaded<0.10,>=0.9->finrl==0.3.8) (0.19.1)\n",
      "Requirement already satisfied: matplotlib-inline in c:\\users\\jason\\miniconda3\\lib\\site-packages (from ipython>=3.2.3->pyfolio-reloaded<0.10,>=0.9->finrl==0.3.8) (0.1.6)\n",
      "Requirement already satisfied: prompt-toolkit<3.1.0,>=3.0.41 in c:\\users\\jason\\miniconda3\\lib\\site-packages (from ipython>=3.2.3->pyfolio-reloaded<0.10,>=0.9->finrl==0.3.8) (3.0.43)\n",
      "Requirement already satisfied: pygments>=2.4.0 in c:\\users\\jason\\miniconda3\\lib\\site-packages (from ipython>=3.2.3->pyfolio-reloaded<0.10,>=0.9->finrl==0.3.8) (2.15.1)\n",
      "Requirement already satisfied: stack-data in c:\\users\\jason\\miniconda3\\lib\\site-packages (from ipython>=3.2.3->pyfolio-reloaded<0.10,>=0.9->finrl==0.3.8) (0.2.0)\n",
      "Requirement already satisfied: traitlets>=5.13.0 in c:\\users\\jason\\miniconda3\\lib\\site-packages (from ipython>=3.2.3->pyfolio-reloaded<0.10,>=0.9->finrl==0.3.8) (5.14.3)\n",
      "Requirement already satisfied: contourpy>=1.0.1 in c:\\users\\jason\\miniconda3\\lib\\site-packages (from matplotlib>=1.4.0->pyfolio-reloaded<0.10,>=0.9->finrl==0.3.8) (1.3.3)\n",
      "Requirement already satisfied: cycler>=0.10 in c:\\users\\jason\\miniconda3\\lib\\site-packages (from matplotlib>=1.4.0->pyfolio-reloaded<0.10,>=0.9->finrl==0.3.8) (0.12.1)\n",
      "Requirement already satisfied: fonttools>=4.22.0 in c:\\users\\jason\\miniconda3\\lib\\site-packages (from matplotlib>=1.4.0->pyfolio-reloaded<0.10,>=0.9->finrl==0.3.8) (4.60.0)\n",
      "Requirement already satisfied: kiwisolver>=1.3.1 in c:\\users\\jason\\miniconda3\\lib\\site-packages (from matplotlib>=1.4.0->pyfolio-reloaded<0.10,>=0.9->finrl==0.3.8) (1.4.9)\n",
      "Requirement already satisfied: pyparsing>=2.3.1 in c:\\users\\jason\\miniconda3\\lib\\site-packages (from matplotlib>=1.4.0->pyfolio-reloaded<0.10,>=0.9->finrl==0.3.8) (3.2.4)\n",
      "Requirement already satisfied: opentelemetry-api==1.37.0 in c:\\users\\jason\\miniconda3\\lib\\site-packages (from opentelemetry-sdk>=1.30.0->ray[default,tune]<3,>=2->finrl==0.3.8) (1.37.0)\n",
      "Requirement already satisfied: opentelemetry-semantic-conventions==0.58b0 in c:\\users\\jason\\miniconda3\\lib\\site-packages (from opentelemetry-sdk>=1.30.0->ray[default,tune]<3,>=2->finrl==0.3.8) (0.58b0)\n",
      "Requirement already satisfied: importlib-metadata<8.8.0,>=6.0 in c:\\users\\jason\\miniconda3\\lib\\site-packages (from opentelemetry-api==1.37.0->opentelemetry-sdk>=1.30.0->ray[default,tune]<3,>=2->finrl==0.3.8) (7.0.1)\n",
      "Requirement already satisfied: tenacity>=6.2.0 in c:\\users\\jason\\miniconda3\\lib\\site-packages (from plotly<6.0.0,>=5.0.0->pyportfolioopt<2,>=1->finrl==0.3.8) (9.1.2)\n",
      "Requirement already satisfied: annotated-types>=0.6.0 in c:\\users\\jason\\miniconda3\\lib\\site-packages (from pydantic<3.0.0,>=2.0.3->alpaca-py<0.38,>=0.37->finrl==0.3.8) (0.7.0)\n",
      "Requirement already satisfied: pydantic-core==2.33.2 in c:\\users\\jason\\miniconda3\\lib\\site-packages (from pydantic<3.0.0,>=2.0.3->alpaca-py<0.38,>=0.37->finrl==0.3.8) (2.33.2)\n",
      "Requirement already satisfied: typing-inspection>=0.4.0 in c:\\users\\jason\\miniconda3\\lib\\site-packages (from pydantic<3.0.0,>=2.0.3->alpaca-py<0.38,>=0.37->finrl==0.3.8) (0.4.1)\n",
      "Requirement already satisfied: charset_normalizer<4,>=2 in c:\\users\\jason\\miniconda3\\lib\\site-packages (from requests<3.0.0,>=2.30.0->alpaca-py<0.38,>=0.37->finrl==0.3.8) (3.3.2)\n",
      "Requirement already satisfied: idna<4,>=2.5 in c:\\users\\jason\\miniconda3\\lib\\site-packages (from requests<3.0.0,>=2.30.0->alpaca-py<0.38,>=0.37->finrl==0.3.8) (3.7)\n",
      "Requirement already satisfied: greenlet>=1 in c:\\users\\jason\\miniconda3\\lib\\site-packages (from SQLAlchemy>=1.2.8->jqdatasdk<2,>=1->finrl==0.3.8) (3.2.4)\n",
      "Requirement already satisfied: absl-py>=0.4 in c:\\users\\jason\\miniconda3\\lib\\site-packages (from tensorboard>=2.9.1->stable-baselines3[extra]>=2.0.0a5->finrl==0.3.8) (2.3.1)\n",
      "Requirement already satisfied: markdown>=2.6.8 in c:\\users\\jason\\miniconda3\\lib\\site-packages (from tensorboard>=2.9.1->stable-baselines3[extra]>=2.0.0a5->finrl==0.3.8) (3.9)\n",
      "Requirement already satisfied: tensorboard-data-server<0.8.0,>=0.7.0 in c:\\users\\jason\\miniconda3\\lib\\site-packages (from tensorboard>=2.9.1->stable-baselines3[extra]>=2.0.0a5->finrl==0.3.8) (0.7.2)\n",
      "Requirement already satisfied: werkzeug>=1.0.1 in c:\\users\\jason\\miniconda3\\lib\\site-packages (from tensorboard>=2.9.1->stable-baselines3[extra]>=2.0.0a5->finrl==0.3.8) (3.1.3)\n",
      "Requirement already satisfied: ply<4.0,>=3.4 in c:\\users\\jason\\miniconda3\\lib\\site-packages (from thriftpy2<=0.4.20,>=0.3.9->jqdatasdk<2,>=1->finrl==0.3.8) (3.11)\n",
      "Requirement already satisfied: sympy>=1.13.3 in c:\\users\\jason\\miniconda3\\lib\\site-packages (from torch<3.0,>=2.3->stable-baselines3>=2.0.0a5->stable-baselines3[extra]>=2.0.0a5->finrl==0.3.8) (1.14.0)\n",
      "Requirement already satisfied: networkx in c:\\users\\jason\\miniconda3\\lib\\site-packages (from torch<3.0,>=2.3->stable-baselines3>=2.0.0a5->stable-baselines3[extra]>=2.0.0a5->finrl==0.3.8) (3.5)\n",
      "Requirement already satisfied: jinja2 in c:\\users\\jason\\miniconda3\\lib\\site-packages (from torch<3.0,>=2.3->stable-baselines3>=2.0.0a5->stable-baselines3[extra]>=2.0.0a5->finrl==0.3.8) (3.1.4)\n",
      "Requirement already satisfied: sortedcontainers in c:\\users\\jason\\miniconda3\\lib\\site-packages (from trio~=0.17->selenium<5,>=4->finrl==0.3.8) (2.4.0)\n",
      "Requirement already satisfied: outcome in c:\\users\\jason\\miniconda3\\lib\\site-packages (from trio~=0.17->selenium<5,>=4->finrl==0.3.8) (1.3.0.post0)\n",
      "Requirement already satisfied: sniffio>=1.3.0 in c:\\users\\jason\\miniconda3\\lib\\site-packages (from trio~=0.17->selenium<5,>=4->finrl==0.3.8) (1.3.1)\n",
      "Requirement already satisfied: wsproto>=0.14 in c:\\users\\jason\\miniconda3\\lib\\site-packages (from trio-websocket~=0.9->selenium<5,>=4->finrl==0.3.8) (1.2.0)\n",
      "Requirement already satisfied: PySocks!=1.5.7,<2.0,>=1.5.6 in c:\\users\\jason\\miniconda3\\lib\\site-packages (from urllib3[socks]<3,>=1.26->selenium<5,>=4->finrl==0.3.8) (1.7.1)\n",
      "Requirement already satisfied: distlib<1,>=0.3.7 in c:\\users\\jason\\miniconda3\\lib\\site-packages (from virtualenv!=20.21.1,>=20.0.24->ray[default,tune]<3,>=2->finrl==0.3.8) (0.4.0)\n",
      "Requirement already satisfied: jsonschema-specifications>=2023.03.6 in c:\\users\\jason\\miniconda3\\lib\\site-packages (from jsonschema->ray<3,>=2->ray[default,tune]<3,>=2->finrl==0.3.8) (2023.7.1)\n",
      "Requirement already satisfied: referencing>=0.28.4 in c:\\users\\jason\\miniconda3\\lib\\site-packages (from jsonschema->ray<3,>=2->ray[default,tune]<3,>=2->finrl==0.3.8) (0.30.2)\n",
      "Requirement already satisfied: rpds-py>=0.7.1 in c:\\users\\jason\\miniconda3\\lib\\site-packages (from jsonschema->ray<3,>=2->ray[default,tune]<3,>=2->finrl==0.3.8) (0.10.6)\n",
      "Requirement already satisfied: opencensus-context>=0.1.3 in c:\\users\\jason\\miniconda3\\lib\\site-packages (from opencensus->ray[default,tune]<3,>=2->finrl==0.3.8) (0.1.3)\n",
      "Requirement already satisfied: google-api-core<3.0.0,>=1.0.0 in c:\\users\\jason\\miniconda3\\lib\\site-packages (from opencensus->ray[default,tune]<3,>=2->finrl==0.3.8) (2.25.1)\n",
      "Requirement already satisfied: markdown-it-py>=2.2.0 in c:\\users\\jason\\miniconda3\\lib\\site-packages (from rich->stable-baselines3[extra]>=2.0.0a5->finrl==0.3.8) (2.2.0)\n",
      "Requirement already satisfied: wrapt in c:\\users\\jason\\miniconda3\\lib\\site-packages (from smart_open->ray[default,tune]<3,>=2->finrl==0.3.8) (1.14.1)\n",
      "Requirement already satisfied: niltype<2.0,>=0.3 in c:\\users\\jason\\miniconda3\\lib\\site-packages (from th->elegantrl@ git+https://github.com/AI4Finance-Foundation/ElegantRL.git->finrl==0.3.8) (1.0.2)\n",
      "Requirement already satisfied: pycparser in c:\\users\\jason\\miniconda3\\lib\\site-packages (from cffi>=1.12->cryptography>=2.6.1->ccxt<4,>=3->finrl==0.3.8) (2.21)\n",
      "Requirement already satisfied: googleapis-common-protos<2.0.0,>=1.56.2 in c:\\users\\jason\\miniconda3\\lib\\site-packages (from google-api-core<3.0.0,>=1.0.0->opencensus->ray[default,tune]<3,>=2->finrl==0.3.8) (1.70.0)\n",
      "Requirement already satisfied: proto-plus<2.0.0,>=1.22.3 in c:\\users\\jason\\miniconda3\\lib\\site-packages (from google-api-core<3.0.0,>=1.0.0->opencensus->ray[default,tune]<3,>=2->finrl==0.3.8) (1.26.1)\n",
      "Requirement already satisfied: google-auth<3.0.0,>=2.14.1 in c:\\users\\jason\\miniconda3\\lib\\site-packages (from google-api-core<3.0.0,>=1.0.0->opencensus->ray[default,tune]<3,>=2->finrl==0.3.8) (2.40.3)\n",
      "Requirement already satisfied: parso<0.9.0,>=0.8.3 in c:\\users\\jason\\miniconda3\\lib\\site-packages (from jedi>=0.16->ipython>=3.2.3->pyfolio-reloaded<0.10,>=0.9->finrl==0.3.8) (0.8.3)\n",
      "Requirement already satisfied: mdurl~=0.1 in c:\\users\\jason\\miniconda3\\lib\\site-packages (from markdown-it-py>=2.2.0->rich->stable-baselines3[extra]>=2.0.0a5->finrl==0.3.8) (0.1.0)\n",
      "Requirement already satisfied: wcwidth in c:\\users\\jason\\miniconda3\\lib\\site-packages (from prompt-toolkit<3.1.0,>=3.0.41->ipython>=3.2.3->pyfolio-reloaded<0.10,>=0.9->finrl==0.3.8) (0.2.5)\n",
      "Requirement already satisfied: mpmath<1.4,>=1.1.0 in c:\\users\\jason\\miniconda3\\lib\\site-packages (from sympy>=1.13.3->torch<3.0,>=2.3->stable-baselines3>=2.0.0a5->stable-baselines3[extra]>=2.0.0a5->finrl==0.3.8) (1.3.0)\n",
      "Requirement already satisfied: MarkupSafe>=2.1.1 in c:\\users\\jason\\miniconda3\\lib\\site-packages (from werkzeug>=1.0.1->tensorboard>=2.9.1->stable-baselines3[extra]>=2.0.0a5->finrl==0.3.8) (2.1.3)\n",
      "Requirement already satisfied: h11<1,>=0.9.0 in c:\\users\\jason\\miniconda3\\lib\\site-packages (from wsproto>=0.14->trio-websocket~=0.9->selenium<5,>=4->finrl==0.3.8) (0.16.0)\n",
      "Requirement already satisfied: executing in c:\\users\\jason\\miniconda3\\lib\\site-packages (from stack-data->ipython>=3.2.3->pyfolio-reloaded<0.10,>=0.9->finrl==0.3.8) (0.8.3)\n",
      "Requirement already satisfied: asttokens in c:\\users\\jason\\miniconda3\\lib\\site-packages (from stack-data->ipython>=3.2.3->pyfolio-reloaded<0.10,>=0.9->finrl==0.3.8) (2.0.5)\n",
      "Requirement already satisfied: pure-eval in c:\\users\\jason\\miniconda3\\lib\\site-packages (from stack-data->ipython>=3.2.3->pyfolio-reloaded<0.10,>=0.9->finrl==0.3.8) (0.2.2)\n",
      "Requirement already satisfied: cachetools<6.0,>=2.0.0 in c:\\users\\jason\\miniconda3\\lib\\site-packages (from google-auth<3.0.0,>=2.14.1->google-api-core<3.0.0,>=1.0.0->opencensus->ray[default,tune]<3,>=2->finrl==0.3.8) (5.5.2)\n",
      "Requirement already satisfied: pyasn1-modules>=0.2.1 in c:\\users\\jason\\miniconda3\\lib\\site-packages (from google-auth<3.0.0,>=2.14.1->google-api-core<3.0.0,>=1.0.0->opencensus->ray[default,tune]<3,>=2->finrl==0.3.8) (0.4.2)\n",
      "Requirement already satisfied: rsa<5,>=3.1.4 in c:\\users\\jason\\miniconda3\\lib\\site-packages (from google-auth<3.0.0,>=2.14.1->google-api-core<3.0.0,>=1.0.0->opencensus->ray[default,tune]<3,>=2->finrl==0.3.8) (4.9.1)\n",
      "Requirement already satisfied: zipp>=0.5 in c:\\users\\jason\\miniconda3\\lib\\site-packages (from importlib-metadata<8.8.0,>=6.0->opentelemetry-api==1.37.0->opentelemetry-sdk>=1.30.0->ray[default,tune]<3,>=2->finrl==0.3.8) (3.17.0)\n",
      "Requirement already satisfied: pyasn1<0.7.0,>=0.6.1 in c:\\users\\jason\\miniconda3\\lib\\site-packages (from pyasn1-modules>=0.2.1->google-auth<3.0.0,>=2.14.1->google-api-core<3.0.0,>=1.0.0->opencensus->ray[default,tune]<3,>=2->finrl==0.3.8) (0.6.1)\n"
     ]
    },
    {
     "name": "stderr",
     "output_type": "stream",
     "text": [
      "  Running command git clone --filter=blob:none --quiet https://github.com/AI4Finance-Foundation/FinRL.git 'C:\\Users\\Jason\\AppData\\Local\\Temp\\pip-req-build-s_pqhegj'\n",
      "  Running command git clone --filter=blob:none --quiet https://github.com/AI4Finance-Foundation/ElegantRL.git 'C:\\Users\\Jason\\AppData\\Local\\Temp\\pip-install-hfzpu27r\\elegantrl_ce015a11694041ff80cebd2595ad63f1'\n"
     ]
    }
   ],
   "source": [
    "## install finrl library\n",
    "!pip install git+https://github.com/AI4Finance-Foundation/FinRL.git"
   ]
  },
  {
   "cell_type": "code",
   "execution_count": 2,
   "metadata": {
    "id": "j37flV31OJGW"
   },
   "outputs": [],
   "source": [
    "import pandas as pd\n",
    "import yfinance as yf\n",
    "\n",
    "from finrl.meta.preprocessor.yahoodownloader import YahooDownloader\n",
    "from finrl.meta.preprocessor.preprocessors import FeatureEngineer, data_split\n",
    "from finrl import config_tickers\n",
    "from finrl.config import INDICATORS\n",
    "from finrl.config import *\n",
    "import itertools"
   ]
  },
  {
   "cell_type": "markdown",
   "metadata": {
    "id": "wxsN8i7tg07U"
   },
   "source": [
    "# Part 2. Fetch data"
   ]
  },
  {
   "cell_type": "markdown",
   "metadata": {
    "id": "fMNm9tCMXy8J"
   },
   "source": [
    "[yfinance](https://github.com/ranaroussi/yfinance) is an open-source library that provides APIs fetching historical data form Yahoo Finance. In FinRL, we have a class called [YahooDownloader](https://github.com/AI4Finance-Foundation/FinRL/blob/master/finrl/meta/preprocessor/yahoodownloader.py) that use yfinance to fetch data from Yahoo Finance."
   ]
  },
  {
   "cell_type": "markdown",
   "metadata": {
    "id": "CWVXUkzaZE8m"
   },
   "source": [
    "**OHLCV**: Data downloaded are in the form of OHLCV, corresponding to **open, high, low, close, volume,** respectively. OHLCV is important because they contain most of numerical information of a stock in time series. From OHLCV, traders can get further judgement and prediction like the momentum, people's interest, market trends, etc."
   ]
  },
  {
   "cell_type": "markdown",
   "metadata": {
    "id": "jRYlbdMpW9Np"
   },
   "source": [
    "## Data for a single ticker"
   ]
  },
  {
   "cell_type": "markdown",
   "metadata": {
    "id": "1wo6pCQYXDbz"
   },
   "source": [
    "Here we provide two ways to fetch data with single ticker, let's take Apple Inc. (AAPL) as an example."
   ]
  },
  {
   "cell_type": "markdown",
   "metadata": {
    "id": "yzVRe90WXLB1"
   },
   "source": [
    "### Using yfinance"
   ]
  },
  {
   "cell_type": "code",
   "execution_count": 3,
   "metadata": {
    "colab": {
     "base_uri": "https://localhost:8080/"
    },
    "id": "SSl6mVV7XNw6",
    "outputId": "460c06eb-c71d-4ebb-fe17-481295d70cff"
   },
   "outputs": [
    {
     "name": "stdout",
     "output_type": "stream",
     "text": [
      "YF.download() has changed argument auto_adjust default to True\n"
     ]
    },
    {
     "name": "stderr",
     "output_type": "stream",
     "text": [
      "[*********************100%***********************]  1 of 1 completed\n"
     ]
    }
   ],
   "source": [
    "TRAIN_START_DATE = '2020-01-01'\n",
    "TRADE_END_DATE = '2020-01-31'\n",
    "aapl_df_yf = yf.download(tickers = \"aapl\", start=TRAIN_START_DATE, end=TRADE_END_DATE)"
   ]
  },
  {
   "cell_type": "code",
   "execution_count": 4,
   "metadata": {
    "colab": {
     "base_uri": "https://localhost:8080/",
     "height": 238
    },
    "id": "Rjutz22rXrpR",
    "outputId": "62aadc8c-b854-403d-ac73-6cf86d53fa22"
   },
   "outputs": [
    {
     "data": {
      "text/html": [
       "<div>\n",
       "<style scoped>\n",
       "    .dataframe tbody tr th:only-of-type {\n",
       "        vertical-align: middle;\n",
       "    }\n",
       "\n",
       "    .dataframe tbody tr th {\n",
       "        vertical-align: top;\n",
       "    }\n",
       "\n",
       "    .dataframe thead tr th {\n",
       "        text-align: left;\n",
       "    }\n",
       "\n",
       "    .dataframe thead tr:last-of-type th {\n",
       "        text-align: right;\n",
       "    }\n",
       "</style>\n",
       "<table border=\"1\" class=\"dataframe\">\n",
       "  <thead>\n",
       "    <tr>\n",
       "      <th>Price</th>\n",
       "      <th>Close</th>\n",
       "      <th>High</th>\n",
       "      <th>Low</th>\n",
       "      <th>Open</th>\n",
       "      <th>Volume</th>\n",
       "    </tr>\n",
       "    <tr>\n",
       "      <th>Ticker</th>\n",
       "      <th>AAPL</th>\n",
       "      <th>AAPL</th>\n",
       "      <th>AAPL</th>\n",
       "      <th>AAPL</th>\n",
       "      <th>AAPL</th>\n",
       "    </tr>\n",
       "    <tr>\n",
       "      <th>Date</th>\n",
       "      <th></th>\n",
       "      <th></th>\n",
       "      <th></th>\n",
       "      <th></th>\n",
       "      <th></th>\n",
       "    </tr>\n",
       "  </thead>\n",
       "  <tbody>\n",
       "    <tr>\n",
       "      <th>2020-01-02</th>\n",
       "      <td>72.538513</td>\n",
       "      <td>72.598892</td>\n",
       "      <td>71.292304</td>\n",
       "      <td>71.545890</td>\n",
       "      <td>135480400</td>\n",
       "    </tr>\n",
       "    <tr>\n",
       "      <th>2020-01-03</th>\n",
       "      <td>71.833290</td>\n",
       "      <td>72.594055</td>\n",
       "      <td>71.608685</td>\n",
       "      <td>71.765667</td>\n",
       "      <td>146322800</td>\n",
       "    </tr>\n",
       "    <tr>\n",
       "      <th>2020-01-06</th>\n",
       "      <td>72.405663</td>\n",
       "      <td>72.444306</td>\n",
       "      <td>70.702997</td>\n",
       "      <td>70.954173</td>\n",
       "      <td>118387200</td>\n",
       "    </tr>\n",
       "    <tr>\n",
       "      <th>2020-01-07</th>\n",
       "      <td>72.065163</td>\n",
       "      <td>72.671356</td>\n",
       "      <td>71.845385</td>\n",
       "      <td>72.415353</td>\n",
       "      <td>108872000</td>\n",
       "    </tr>\n",
       "    <tr>\n",
       "      <th>2020-01-08</th>\n",
       "      <td>73.224426</td>\n",
       "      <td>73.526318</td>\n",
       "      <td>71.768101</td>\n",
       "      <td>71.768101</td>\n",
       "      <td>132079200</td>\n",
       "    </tr>\n",
       "  </tbody>\n",
       "</table>\n",
       "</div>"
      ],
      "text/plain": [
       "Price           Close       High        Low       Open     Volume\n",
       "Ticker           AAPL       AAPL       AAPL       AAPL       AAPL\n",
       "Date                                                             \n",
       "2020-01-02  72.538513  72.598892  71.292304  71.545890  135480400\n",
       "2020-01-03  71.833290  72.594055  71.608685  71.765667  146322800\n",
       "2020-01-06  72.405663  72.444306  70.702997  70.954173  118387200\n",
       "2020-01-07  72.065163  72.671356  71.845385  72.415353  108872000\n",
       "2020-01-08  73.224426  73.526318  71.768101  71.768101  132079200"
      ]
     },
     "execution_count": 4,
     "metadata": {},
     "output_type": "execute_result"
    }
   ],
   "source": [
    "aapl_df_yf.head()"
   ]
  },
  {
   "cell_type": "markdown",
   "metadata": {
    "id": "fHZLDmnsXOK0"
   },
   "source": [
    "### Using FinRL"
   ]
  },
  {
   "cell_type": "markdown",
   "metadata": {
    "id": "VFB77ohNbXCc"
   },
   "source": [
    "In FinRL's YahooDownloader, we modified the data frame to the form that convenient for further data processing process. We use adjusted close price instead of close price, and add a column representing the day of a week (0-4 corresponding to Monday-Friday)."
   ]
  },
  {
   "cell_type": "code",
   "execution_count": 5,
   "metadata": {
    "colab": {
     "base_uri": "https://localhost:8080/"
    },
    "id": "7ufDHvt4XBWT",
    "outputId": "41603042-4f14-4814-c569-305d85fa7f9d"
   },
   "outputs": [
    {
     "name": "stdout",
     "output_type": "stream",
     "text": [
      "YF deprecation warning: set proxy via new config function: yf.set_config(proxy=proxy)\n"
     ]
    },
    {
     "name": "stderr",
     "output_type": "stream",
     "text": [
      "[*********************100%***********************]  1 of 1 completed"
     ]
    },
    {
     "name": "stdout",
     "output_type": "stream",
     "text": [
      "Shape of DataFrame:  (146, 8)\n"
     ]
    },
    {
     "name": "stderr",
     "output_type": "stream",
     "text": [
      "\n"
     ]
    }
   ],
   "source": [
    "aapl_df_finrl = YahooDownloader(start_date = TRAIN_START_DATE,\n",
    "                                end_date = TRAIN_END_DATE,\n",
    "                                ticker_list = ['aapl']).fetch_data()"
   ]
  },
  {
   "cell_type": "code",
   "execution_count": 6,
   "metadata": {
    "colab": {
     "base_uri": "https://localhost:8080/",
     "height": 206
    },
    "id": "_TgEjXxhXtT_",
    "outputId": "a8e8a9e2-a1ea-472e-eddf-2227e6c901d8"
   },
   "outputs": [
    {
     "data": {
      "text/html": [
       "<div>\n",
       "<style scoped>\n",
       "    .dataframe tbody tr th:only-of-type {\n",
       "        vertical-align: middle;\n",
       "    }\n",
       "\n",
       "    .dataframe tbody tr th {\n",
       "        vertical-align: top;\n",
       "    }\n",
       "\n",
       "    .dataframe thead th {\n",
       "        text-align: right;\n",
       "    }\n",
       "</style>\n",
       "<table border=\"1\" class=\"dataframe\">\n",
       "  <thead>\n",
       "    <tr style=\"text-align: right;\">\n",
       "      <th>Price</th>\n",
       "      <th>date</th>\n",
       "      <th>close</th>\n",
       "      <th>high</th>\n",
       "      <th>low</th>\n",
       "      <th>open</th>\n",
       "      <th>volume</th>\n",
       "      <th>tic</th>\n",
       "      <th>day</th>\n",
       "    </tr>\n",
       "  </thead>\n",
       "  <tbody>\n",
       "    <tr>\n",
       "      <th>0</th>\n",
       "      <td>2020-01-02</td>\n",
       "      <td>72.538513</td>\n",
       "      <td>72.598892</td>\n",
       "      <td>71.292304</td>\n",
       "      <td>71.545890</td>\n",
       "      <td>135480400</td>\n",
       "      <td>aapl</td>\n",
       "      <td>3</td>\n",
       "    </tr>\n",
       "    <tr>\n",
       "      <th>1</th>\n",
       "      <td>2020-01-03</td>\n",
       "      <td>71.833298</td>\n",
       "      <td>72.594063</td>\n",
       "      <td>71.608692</td>\n",
       "      <td>71.765674</td>\n",
       "      <td>146322800</td>\n",
       "      <td>aapl</td>\n",
       "      <td>4</td>\n",
       "    </tr>\n",
       "    <tr>\n",
       "      <th>2</th>\n",
       "      <td>2020-01-06</td>\n",
       "      <td>72.405678</td>\n",
       "      <td>72.444321</td>\n",
       "      <td>70.703012</td>\n",
       "      <td>70.954188</td>\n",
       "      <td>118387200</td>\n",
       "      <td>aapl</td>\n",
       "      <td>0</td>\n",
       "    </tr>\n",
       "    <tr>\n",
       "      <th>3</th>\n",
       "      <td>2020-01-07</td>\n",
       "      <td>72.065140</td>\n",
       "      <td>72.671333</td>\n",
       "      <td>71.845362</td>\n",
       "      <td>72.415330</td>\n",
       "      <td>108872000</td>\n",
       "      <td>aapl</td>\n",
       "      <td>1</td>\n",
       "    </tr>\n",
       "    <tr>\n",
       "      <th>4</th>\n",
       "      <td>2020-01-08</td>\n",
       "      <td>73.224419</td>\n",
       "      <td>73.526310</td>\n",
       "      <td>71.768094</td>\n",
       "      <td>71.768094</td>\n",
       "      <td>132079200</td>\n",
       "      <td>aapl</td>\n",
       "      <td>2</td>\n",
       "    </tr>\n",
       "  </tbody>\n",
       "</table>\n",
       "</div>"
      ],
      "text/plain": [
       "Price        date      close       high        low       open     volume  \\\n",
       "0      2020-01-02  72.538513  72.598892  71.292304  71.545890  135480400   \n",
       "1      2020-01-03  71.833298  72.594063  71.608692  71.765674  146322800   \n",
       "2      2020-01-06  72.405678  72.444321  70.703012  70.954188  118387200   \n",
       "3      2020-01-07  72.065140  72.671333  71.845362  72.415330  108872000   \n",
       "4      2020-01-08  73.224419  73.526310  71.768094  71.768094  132079200   \n",
       "\n",
       "Price   tic  day  \n",
       "0      aapl    3  \n",
       "1      aapl    4  \n",
       "2      aapl    0  \n",
       "3      aapl    1  \n",
       "4      aapl    2  "
      ]
     },
     "execution_count": 6,
     "metadata": {},
     "output_type": "execute_result"
    }
   ],
   "source": [
    "aapl_df_finrl.head()"
   ]
  },
  {
   "cell_type": "markdown",
   "metadata": {
    "id": "9kcOE5nbic6R"
   },
   "source": [
    "## Data for the chosen tickers"
   ]
  },
  {
   "cell_type": "code",
   "execution_count": 7,
   "metadata": {
    "colab": {
     "base_uri": "https://localhost:8080/"
    },
    "id": "FKBjtAo2uIq5",
    "outputId": "927f682a-9cc3-4c11-c3f1-094ae811af6b"
   },
   "outputs": [
    {
     "data": {
      "text/plain": [
       "['AXP',\n",
       " 'AMGN',\n",
       " 'AAPL',\n",
       " 'BA',\n",
       " 'CAT',\n",
       " 'CSCO',\n",
       " 'CVX',\n",
       " 'GS',\n",
       " 'HD',\n",
       " 'HON',\n",
       " 'IBM',\n",
       " 'INTC',\n",
       " 'JNJ',\n",
       " 'KO',\n",
       " 'JPM',\n",
       " 'MCD',\n",
       " 'MMM',\n",
       " 'MRK',\n",
       " 'MSFT',\n",
       " 'NKE',\n",
       " 'PG',\n",
       " 'TRV',\n",
       " 'UNH',\n",
       " 'CRM',\n",
       " 'VZ',\n",
       " 'V',\n",
       " 'WBA',\n",
       " 'WMT',\n",
       " 'DIS',\n",
       " 'DOW']"
      ]
     },
     "execution_count": 7,
     "metadata": {},
     "output_type": "execute_result"
    }
   ],
   "source": [
    "config_tickers.DOW_30_TICKER"
   ]
  },
  {
   "cell_type": "code",
   "execution_count": 8,
   "metadata": {
    "id": "9xTPG4Fhc-zL"
   },
   "outputs": [],
   "source": [
    "TRAIN_START_DATE = '2009-01-01'\n",
    "TRAIN_END_DATE = '2022-01-01'\n",
    "VALID_START_DATE = '2022-01-01'\n",
    "VALID_END_DATE = '2022-12-31'\n",
    "TRADE_START_DATE = '2023-01-01'\n",
    "TRADE_END_DATE = '2024-12-31'"
   ]
  },
  {
   "cell_type": "code",
   "execution_count": 9,
   "metadata": {
    "colab": {
     "base_uri": "https://localhost:8080/"
    },
    "id": "9LblMI8CO0F3",
    "outputId": "7be76385-50eb-4e8d-f2e5-1795d77b70ba"
   },
   "outputs": [
    {
     "name": "stderr",
     "output_type": "stream",
     "text": [
      "[*********************100%***********************]  1 of 1 completed\n",
      "[*********************100%***********************]  1 of 1 completed\n",
      "[*********************100%***********************]  1 of 1 completed\n",
      "[*********************100%***********************]  1 of 1 completed\n",
      "[*********************100%***********************]  1 of 1 completed\n",
      "[*********************100%***********************]  1 of 1 completed\n",
      "[*********************100%***********************]  1 of 1 completed\n",
      "[*********************100%***********************]  1 of 1 completed\n",
      "[*********************100%***********************]  1 of 1 completed\n",
      "[*********************100%***********************]  1 of 1 completed\n",
      "[*********************100%***********************]  1 of 1 completed\n",
      "[*********************100%***********************]  1 of 1 completed\n",
      "[*********************100%***********************]  1 of 1 completed\n",
      "[*********************100%***********************]  1 of 1 completed\n",
      "[*********************100%***********************]  1 of 1 completed\n",
      "[*********************100%***********************]  1 of 1 completed\n",
      "[*********************100%***********************]  1 of 1 completed\n",
      "[*********************100%***********************]  1 of 1 completed\n",
      "[*********************100%***********************]  1 of 1 completed\n",
      "[*********************100%***********************]  1 of 1 completed\n",
      "[*********************100%***********************]  1 of 1 completed\n",
      "[*********************100%***********************]  1 of 1 completed\n",
      "[*********************100%***********************]  1 of 1 completed\n",
      "[*********************100%***********************]  1 of 1 completed\n",
      "[*********************100%***********************]  1 of 1 completed\n",
      "[*********************100%***********************]  1 of 1 completed\n",
      "[*********************100%***********************]  1 of 1 completed\n",
      "[*********************100%***********************]  1 of 1 completed\n",
      "[*********************100%***********************]  1 of 1 completed\n",
      "[*********************100%***********************]  1 of 1 completed\n"
     ]
    },
    {
     "name": "stdout",
     "output_type": "stream",
     "text": [
      "Shape of DataFrame:  (118181, 8)\n"
     ]
    }
   ],
   "source": [
    "df_raw = YahooDownloader(start_date = TRAIN_START_DATE,\n",
    "                     end_date = TRADE_END_DATE,\n",
    "                     ticker_list = config_tickers.DOW_30_TICKER).fetch_data()"
   ]
  },
  {
   "cell_type": "code",
   "execution_count": 11,
   "metadata": {},
   "outputs": [
    {
     "name": "stderr",
     "output_type": "stream",
     "text": [
      "[*********************100%***********************]  1 of 1 completed"
     ]
    },
    {
     "name": "stdout",
     "output_type": "stream",
     "text": [
      "Shape of DataFrame:  (501, 8)\n"
     ]
    },
    {
     "name": "stderr",
     "output_type": "stream",
     "text": [
      "\n"
     ]
    },
    {
     "data": {
      "text/html": [
       "<div>\n",
       "<style scoped>\n",
       "    .dataframe tbody tr th:only-of-type {\n",
       "        vertical-align: middle;\n",
       "    }\n",
       "\n",
       "    .dataframe tbody tr th {\n",
       "        vertical-align: top;\n",
       "    }\n",
       "\n",
       "    .dataframe thead th {\n",
       "        text-align: right;\n",
       "    }\n",
       "</style>\n",
       "<table border=\"1\" class=\"dataframe\">\n",
       "  <thead>\n",
       "    <tr style=\"text-align: right;\">\n",
       "      <th>Price</th>\n",
       "      <th>date</th>\n",
       "      <th>close</th>\n",
       "      <th>high</th>\n",
       "      <th>low</th>\n",
       "      <th>open</th>\n",
       "      <th>volume</th>\n",
       "      <th>tic</th>\n",
       "      <th>day</th>\n",
       "    </tr>\n",
       "  </thead>\n",
       "  <tbody>\n",
       "    <tr>\n",
       "      <th>0</th>\n",
       "      <td>2023-01-03</td>\n",
       "      <td>33136.371094</td>\n",
       "      <td>33387.519531</td>\n",
       "      <td>32850.570312</td>\n",
       "      <td>33148.898438</td>\n",
       "      <td>355930000</td>\n",
       "      <td>^DJI</td>\n",
       "      <td>1</td>\n",
       "    </tr>\n",
       "    <tr>\n",
       "      <th>1</th>\n",
       "      <td>2023-01-04</td>\n",
       "      <td>33269.769531</td>\n",
       "      <td>33409.101562</td>\n",
       "      <td>33033.480469</td>\n",
       "      <td>33165.140625</td>\n",
       "      <td>379400000</td>\n",
       "      <td>^DJI</td>\n",
       "      <td>2</td>\n",
       "    </tr>\n",
       "    <tr>\n",
       "      <th>2</th>\n",
       "      <td>2023-01-05</td>\n",
       "      <td>32930.078125</td>\n",
       "      <td>33191.718750</td>\n",
       "      <td>32812.328125</td>\n",
       "      <td>33191.718750</td>\n",
       "      <td>337920000</td>\n",
       "      <td>^DJI</td>\n",
       "      <td>3</td>\n",
       "    </tr>\n",
       "    <tr>\n",
       "      <th>3</th>\n",
       "      <td>2023-01-06</td>\n",
       "      <td>33630.609375</td>\n",
       "      <td>33710.660156</td>\n",
       "      <td>32997.390625</td>\n",
       "      <td>33055.300781</td>\n",
       "      <td>360740000</td>\n",
       "      <td>^DJI</td>\n",
       "      <td>4</td>\n",
       "    </tr>\n",
       "    <tr>\n",
       "      <th>4</th>\n",
       "      <td>2023-01-09</td>\n",
       "      <td>33517.648438</td>\n",
       "      <td>33935.109375</td>\n",
       "      <td>33487.660156</td>\n",
       "      <td>33664.390625</td>\n",
       "      <td>327840000</td>\n",
       "      <td>^DJI</td>\n",
       "      <td>0</td>\n",
       "    </tr>\n",
       "    <tr>\n",
       "      <th>...</th>\n",
       "      <td>...</td>\n",
       "      <td>...</td>\n",
       "      <td>...</td>\n",
       "      <td>...</td>\n",
       "      <td>...</td>\n",
       "      <td>...</td>\n",
       "      <td>...</td>\n",
       "      <td>...</td>\n",
       "    </tr>\n",
       "    <tr>\n",
       "      <th>496</th>\n",
       "      <td>2024-12-23</td>\n",
       "      <td>42906.949219</td>\n",
       "      <td>42957.789062</td>\n",
       "      <td>42516.871094</td>\n",
       "      <td>42800.488281</td>\n",
       "      <td>449390000</td>\n",
       "      <td>^DJI</td>\n",
       "      <td>0</td>\n",
       "    </tr>\n",
       "    <tr>\n",
       "      <th>497</th>\n",
       "      <td>2024-12-24</td>\n",
       "      <td>43297.031250</td>\n",
       "      <td>43297.648438</td>\n",
       "      <td>42871.761719</td>\n",
       "      <td>42916.480469</td>\n",
       "      <td>230410000</td>\n",
       "      <td>^DJI</td>\n",
       "      <td>1</td>\n",
       "    </tr>\n",
       "    <tr>\n",
       "      <th>498</th>\n",
       "      <td>2024-12-26</td>\n",
       "      <td>43325.800781</td>\n",
       "      <td>43373.980469</td>\n",
       "      <td>43115.089844</td>\n",
       "      <td>43201.851562</td>\n",
       "      <td>270350000</td>\n",
       "      <td>^DJI</td>\n",
       "      <td>3</td>\n",
       "    </tr>\n",
       "    <tr>\n",
       "      <th>499</th>\n",
       "      <td>2024-12-27</td>\n",
       "      <td>42992.210938</td>\n",
       "      <td>43238.851562</td>\n",
       "      <td>42761.558594</td>\n",
       "      <td>43142.371094</td>\n",
       "      <td>376960000</td>\n",
       "      <td>^DJI</td>\n",
       "      <td>4</td>\n",
       "    </tr>\n",
       "    <tr>\n",
       "      <th>500</th>\n",
       "      <td>2024-12-30</td>\n",
       "      <td>42573.730469</td>\n",
       "      <td>42863.859375</td>\n",
       "      <td>42263.511719</td>\n",
       "      <td>42863.859375</td>\n",
       "      <td>383300000</td>\n",
       "      <td>^DJI</td>\n",
       "      <td>0</td>\n",
       "    </tr>\n",
       "  </tbody>\n",
       "</table>\n",
       "<p>501 rows × 8 columns</p>\n",
       "</div>"
      ],
      "text/plain": [
       "Price        date         close          high           low          open  \\\n",
       "0      2023-01-03  33136.371094  33387.519531  32850.570312  33148.898438   \n",
       "1      2023-01-04  33269.769531  33409.101562  33033.480469  33165.140625   \n",
       "2      2023-01-05  32930.078125  33191.718750  32812.328125  33191.718750   \n",
       "3      2023-01-06  33630.609375  33710.660156  32997.390625  33055.300781   \n",
       "4      2023-01-09  33517.648438  33935.109375  33487.660156  33664.390625   \n",
       "..            ...           ...           ...           ...           ...   \n",
       "496    2024-12-23  42906.949219  42957.789062  42516.871094  42800.488281   \n",
       "497    2024-12-24  43297.031250  43297.648438  42871.761719  42916.480469   \n",
       "498    2024-12-26  43325.800781  43373.980469  43115.089844  43201.851562   \n",
       "499    2024-12-27  42992.210938  43238.851562  42761.558594  43142.371094   \n",
       "500    2024-12-30  42573.730469  42863.859375  42263.511719  42863.859375   \n",
       "\n",
       "Price     volume   tic  day  \n",
       "0      355930000  ^DJI    1  \n",
       "1      379400000  ^DJI    2  \n",
       "2      337920000  ^DJI    3  \n",
       "3      360740000  ^DJI    4  \n",
       "4      327840000  ^DJI    0  \n",
       "..           ...   ...  ...  \n",
       "496    449390000  ^DJI    0  \n",
       "497    230410000  ^DJI    1  \n",
       "498    270350000  ^DJI    3  \n",
       "499    376960000  ^DJI    4  \n",
       "500    383300000  ^DJI    0  \n",
       "\n",
       "[501 rows x 8 columns]"
      ]
     },
     "execution_count": 11,
     "metadata": {},
     "output_type": "execute_result"
    }
   ],
   "source": [
    "df_dji = YahooDownloader(\n",
    "    start_date=TRADE_START_DATE, end_date=TRADE_END_DATE, ticker_list=[\"^DJI\"]\n",
    ").fetch_data()\n",
    "df_dji"
   ]
  },
  {
   "cell_type": "code",
   "execution_count": 12,
   "metadata": {
    "colab": {
     "base_uri": "https://localhost:8080/",
     "height": 206
    },
    "id": "RD9cjHzt8X3A",
    "outputId": "051acda5-c8fd-440a-a5af-6be04cfdc018"
   },
   "outputs": [
    {
     "data": {
      "text/html": [
       "<div>\n",
       "<style scoped>\n",
       "    .dataframe tbody tr th:only-of-type {\n",
       "        vertical-align: middle;\n",
       "    }\n",
       "\n",
       "    .dataframe tbody tr th {\n",
       "        vertical-align: top;\n",
       "    }\n",
       "\n",
       "    .dataframe thead th {\n",
       "        text-align: right;\n",
       "    }\n",
       "</style>\n",
       "<table border=\"1\" class=\"dataframe\">\n",
       "  <thead>\n",
       "    <tr style=\"text-align: right;\">\n",
       "      <th>Price</th>\n",
       "      <th>date</th>\n",
       "      <th>close</th>\n",
       "      <th>high</th>\n",
       "      <th>low</th>\n",
       "      <th>open</th>\n",
       "      <th>volume</th>\n",
       "      <th>tic</th>\n",
       "      <th>day</th>\n",
       "    </tr>\n",
       "  </thead>\n",
       "  <tbody>\n",
       "    <tr>\n",
       "      <th>0</th>\n",
       "      <td>2009-01-02</td>\n",
       "      <td>2.724325</td>\n",
       "      <td>2.733032</td>\n",
       "      <td>2.556513</td>\n",
       "      <td>2.578127</td>\n",
       "      <td>746015200</td>\n",
       "      <td>AAPL</td>\n",
       "      <td>4</td>\n",
       "    </tr>\n",
       "    <tr>\n",
       "      <th>1</th>\n",
       "      <td>2009-01-02</td>\n",
       "      <td>40.463196</td>\n",
       "      <td>40.524930</td>\n",
       "      <td>39.612638</td>\n",
       "      <td>40.188822</td>\n",
       "      <td>6547900</td>\n",
       "      <td>AMGN</td>\n",
       "      <td>4</td>\n",
       "    </tr>\n",
       "    <tr>\n",
       "      <th>2</th>\n",
       "      <td>2009-01-02</td>\n",
       "      <td>14.891700</td>\n",
       "      <td>15.038075</td>\n",
       "      <td>14.175234</td>\n",
       "      <td>14.306201</td>\n",
       "      <td>10955700</td>\n",
       "      <td>AXP</td>\n",
       "      <td>4</td>\n",
       "    </tr>\n",
       "    <tr>\n",
       "      <th>3</th>\n",
       "      <td>2009-01-02</td>\n",
       "      <td>33.941093</td>\n",
       "      <td>34.173619</td>\n",
       "      <td>32.088396</td>\n",
       "      <td>32.103398</td>\n",
       "      <td>7010200</td>\n",
       "      <td>BA</td>\n",
       "      <td>4</td>\n",
       "    </tr>\n",
       "    <tr>\n",
       "      <th>4</th>\n",
       "      <td>2009-01-02</td>\n",
       "      <td>30.233932</td>\n",
       "      <td>30.279048</td>\n",
       "      <td>28.816011</td>\n",
       "      <td>28.944914</td>\n",
       "      <td>7117200</td>\n",
       "      <td>CAT</td>\n",
       "      <td>4</td>\n",
       "    </tr>\n",
       "  </tbody>\n",
       "</table>\n",
       "</div>"
      ],
      "text/plain": [
       "Price        date      close       high        low       open     volume  \\\n",
       "0      2009-01-02   2.724325   2.733032   2.556513   2.578127  746015200   \n",
       "1      2009-01-02  40.463196  40.524930  39.612638  40.188822    6547900   \n",
       "2      2009-01-02  14.891700  15.038075  14.175234  14.306201   10955700   \n",
       "3      2009-01-02  33.941093  34.173619  32.088396  32.103398    7010200   \n",
       "4      2009-01-02  30.233932  30.279048  28.816011  28.944914    7117200   \n",
       "\n",
       "Price   tic  day  \n",
       "0      AAPL    4  \n",
       "1      AMGN    4  \n",
       "2       AXP    4  \n",
       "3        BA    4  \n",
       "4       CAT    4  "
      ]
     },
     "execution_count": 12,
     "metadata": {},
     "output_type": "execute_result"
    }
   ],
   "source": [
    "df_raw.head()"
   ]
  },
  {
   "cell_type": "markdown",
   "metadata": {
    "id": "uqC6c40Zh1iH"
   },
   "source": [
    "# Part 3: Preprocess Data\n",
    "We need to check for missing data and do feature engineering to convert the data point into a state.\n",
    "* **Adding technical indicators**. In practical trading, various information needs to be taken into account, such as historical prices, current holding shares, technical indicators, etc. Here, we demonstrate two trend-following technical indicators: MACD and RSI.\n",
    "* **Adding turbulence index**. Risk-aversion reflects whether an investor prefers to protect the capital. It also influences one's trading strategy when facing different market volatility level. To control the risk in a worst-case scenario, such as financial crisis of 2007–2008, FinRL employs the turbulence index that measures extreme fluctuation of asset price."
   ]
  },
  {
   "cell_type": "markdown",
   "metadata": {
    "id": "1lQxLyWpdbAd"
   },
   "source": [
    "Hear let's take **MACD** as an example. Moving average convergence/divergence (MACD) is one of the most commonly used indicator showing bull and bear market. Its calculation is based on EMA (Exponential Moving Average indicator, measuring trend direction over a period of time.)"
   ]
  },
  {
   "cell_type": "code",
   "execution_count": 13,
   "metadata": {
    "colab": {
     "base_uri": "https://localhost:8080/"
    },
    "id": "PmKP-1ii3RLS",
    "outputId": "d514cf1a-8609-402e-ad58-df5f9100ec85"
   },
   "outputs": [
    {
     "name": "stdout",
     "output_type": "stream",
     "text": [
      "Successfully added technical indicators\n"
     ]
    },
    {
     "name": "stderr",
     "output_type": "stream",
     "text": [
      "[*********************100%***********************]  1 of 1 completed\n"
     ]
    },
    {
     "name": "stdout",
     "output_type": "stream",
     "text": [
      "Shape of DataFrame:  (4024, 8)\n",
      "Successfully added vix\n",
      "Successfully added turbulence index\n"
     ]
    }
   ],
   "source": [
    "fe = FeatureEngineer(use_technical_indicator=True,\n",
    "                     tech_indicator_list = INDICATORS,\n",
    "                     use_vix=True,\n",
    "                     use_turbulence=True,\n",
    "                     user_defined_feature = False)\n",
    "\n",
    "processed = fe.preprocess_data(df_raw)"
   ]
  },
  {
   "cell_type": "code",
   "execution_count": 14,
   "metadata": {
    "id": "Kixon2tR3RLT"
   },
   "outputs": [],
   "source": [
    "list_ticker = processed[\"tic\"].unique().tolist()\n",
    "list_date = list(pd.date_range(processed['date'].min(),processed['date'].max()).astype(str))\n",
    "combination = list(itertools.product(list_date,list_ticker))\n",
    "\n",
    "processed_full = pd.DataFrame(combination,columns=[\"date\",\"tic\"]).merge(processed,on=[\"date\",\"tic\"],how=\"left\")\n",
    "processed_full = processed_full[processed_full['date'].isin(processed['date'])]\n",
    "processed_full = processed_full.sort_values(['date','tic'])\n",
    "\n",
    "processed_full = processed_full.fillna(0)"
   ]
  },
  {
   "cell_type": "code",
   "execution_count": 15,
   "metadata": {
    "colab": {
     "base_uri": "https://localhost:8080/",
     "height": 357
    },
    "id": "HwKJNWJSabNK",
    "outputId": "16c8080e-91b0-4e8d-9a09-44939ac69801"
   },
   "outputs": [
    {
     "data": {
      "text/html": [
       "<div>\n",
       "<style scoped>\n",
       "    .dataframe tbody tr th:only-of-type {\n",
       "        vertical-align: middle;\n",
       "    }\n",
       "\n",
       "    .dataframe tbody tr th {\n",
       "        vertical-align: top;\n",
       "    }\n",
       "\n",
       "    .dataframe thead th {\n",
       "        text-align: right;\n",
       "    }\n",
       "</style>\n",
       "<table border=\"1\" class=\"dataframe\">\n",
       "  <thead>\n",
       "    <tr style=\"text-align: right;\">\n",
       "      <th></th>\n",
       "      <th>date</th>\n",
       "      <th>tic</th>\n",
       "      <th>close</th>\n",
       "      <th>high</th>\n",
       "      <th>low</th>\n",
       "      <th>open</th>\n",
       "      <th>volume</th>\n",
       "      <th>day</th>\n",
       "      <th>macd</th>\n",
       "      <th>boll_ub</th>\n",
       "      <th>boll_lb</th>\n",
       "      <th>rsi_30</th>\n",
       "      <th>cci_30</th>\n",
       "      <th>dx_30</th>\n",
       "      <th>close_30_sma</th>\n",
       "      <th>close_60_sma</th>\n",
       "      <th>vix</th>\n",
       "      <th>turbulence</th>\n",
       "    </tr>\n",
       "  </thead>\n",
       "  <tbody>\n",
       "    <tr>\n",
       "      <th>0</th>\n",
       "      <td>2009-01-02</td>\n",
       "      <td>AAPL</td>\n",
       "      <td>2.724325</td>\n",
       "      <td>2.733032</td>\n",
       "      <td>2.556513</td>\n",
       "      <td>2.578127</td>\n",
       "      <td>746015200.0</td>\n",
       "      <td>4.0</td>\n",
       "      <td>0.0</td>\n",
       "      <td>2.944416</td>\n",
       "      <td>2.619211</td>\n",
       "      <td>100.0</td>\n",
       "      <td>66.666667</td>\n",
       "      <td>100.0</td>\n",
       "      <td>2.724325</td>\n",
       "      <td>2.724325</td>\n",
       "      <td>39.189999</td>\n",
       "      <td>0.0</td>\n",
       "    </tr>\n",
       "    <tr>\n",
       "      <th>1</th>\n",
       "      <td>2009-01-02</td>\n",
       "      <td>AMGN</td>\n",
       "      <td>40.463196</td>\n",
       "      <td>40.524930</td>\n",
       "      <td>39.612638</td>\n",
       "      <td>40.188822</td>\n",
       "      <td>6547900.0</td>\n",
       "      <td>4.0</td>\n",
       "      <td>0.0</td>\n",
       "      <td>2.944416</td>\n",
       "      <td>2.619211</td>\n",
       "      <td>100.0</td>\n",
       "      <td>66.666667</td>\n",
       "      <td>100.0</td>\n",
       "      <td>40.463196</td>\n",
       "      <td>40.463196</td>\n",
       "      <td>39.189999</td>\n",
       "      <td>0.0</td>\n",
       "    </tr>\n",
       "    <tr>\n",
       "      <th>2</th>\n",
       "      <td>2009-01-02</td>\n",
       "      <td>AXP</td>\n",
       "      <td>14.891700</td>\n",
       "      <td>15.038075</td>\n",
       "      <td>14.175234</td>\n",
       "      <td>14.306201</td>\n",
       "      <td>10955700.0</td>\n",
       "      <td>4.0</td>\n",
       "      <td>0.0</td>\n",
       "      <td>2.944416</td>\n",
       "      <td>2.619211</td>\n",
       "      <td>100.0</td>\n",
       "      <td>66.666667</td>\n",
       "      <td>100.0</td>\n",
       "      <td>14.891700</td>\n",
       "      <td>14.891700</td>\n",
       "      <td>39.189999</td>\n",
       "      <td>0.0</td>\n",
       "    </tr>\n",
       "    <tr>\n",
       "      <th>3</th>\n",
       "      <td>2009-01-02</td>\n",
       "      <td>BA</td>\n",
       "      <td>33.941093</td>\n",
       "      <td>34.173619</td>\n",
       "      <td>32.088396</td>\n",
       "      <td>32.103398</td>\n",
       "      <td>7010200.0</td>\n",
       "      <td>4.0</td>\n",
       "      <td>0.0</td>\n",
       "      <td>2.944416</td>\n",
       "      <td>2.619211</td>\n",
       "      <td>100.0</td>\n",
       "      <td>66.666667</td>\n",
       "      <td>100.0</td>\n",
       "      <td>33.941093</td>\n",
       "      <td>33.941093</td>\n",
       "      <td>39.189999</td>\n",
       "      <td>0.0</td>\n",
       "    </tr>\n",
       "    <tr>\n",
       "      <th>4</th>\n",
       "      <td>2009-01-02</td>\n",
       "      <td>CAT</td>\n",
       "      <td>30.233932</td>\n",
       "      <td>30.279048</td>\n",
       "      <td>28.816011</td>\n",
       "      <td>28.944914</td>\n",
       "      <td>7117200.0</td>\n",
       "      <td>4.0</td>\n",
       "      <td>0.0</td>\n",
       "      <td>2.944416</td>\n",
       "      <td>2.619211</td>\n",
       "      <td>100.0</td>\n",
       "      <td>66.666667</td>\n",
       "      <td>100.0</td>\n",
       "      <td>30.233932</td>\n",
       "      <td>30.233932</td>\n",
       "      <td>39.189999</td>\n",
       "      <td>0.0</td>\n",
       "    </tr>\n",
       "  </tbody>\n",
       "</table>\n",
       "</div>"
      ],
      "text/plain": [
       "         date   tic      close       high        low       open       volume  \\\n",
       "0  2009-01-02  AAPL   2.724325   2.733032   2.556513   2.578127  746015200.0   \n",
       "1  2009-01-02  AMGN  40.463196  40.524930  39.612638  40.188822    6547900.0   \n",
       "2  2009-01-02   AXP  14.891700  15.038075  14.175234  14.306201   10955700.0   \n",
       "3  2009-01-02    BA  33.941093  34.173619  32.088396  32.103398    7010200.0   \n",
       "4  2009-01-02   CAT  30.233932  30.279048  28.816011  28.944914    7117200.0   \n",
       "\n",
       "   day  macd   boll_ub   boll_lb  rsi_30     cci_30  dx_30  close_30_sma  \\\n",
       "0  4.0   0.0  2.944416  2.619211   100.0  66.666667  100.0      2.724325   \n",
       "1  4.0   0.0  2.944416  2.619211   100.0  66.666667  100.0     40.463196   \n",
       "2  4.0   0.0  2.944416  2.619211   100.0  66.666667  100.0     14.891700   \n",
       "3  4.0   0.0  2.944416  2.619211   100.0  66.666667  100.0     33.941093   \n",
       "4  4.0   0.0  2.944416  2.619211   100.0  66.666667  100.0     30.233932   \n",
       "\n",
       "   close_60_sma        vix  turbulence  \n",
       "0      2.724325  39.189999         0.0  \n",
       "1     40.463196  39.189999         0.0  \n",
       "2     14.891700  39.189999         0.0  \n",
       "3     33.941093  39.189999         0.0  \n",
       "4     30.233932  39.189999         0.0  "
      ]
     },
     "execution_count": 15,
     "metadata": {},
     "output_type": "execute_result"
    }
   ],
   "source": [
    "processed_full.head()"
   ]
  },
  {
   "cell_type": "markdown",
   "metadata": {
    "id": "ydLNxwdPIJhW"
   },
   "source": [
    "# Part 4: Save the Data"
   ]
  },
  {
   "cell_type": "markdown",
   "metadata": {
    "id": "VbMDnfukILc_"
   },
   "source": [
    "### Split the data for training and trading"
   ]
  },
  {
   "cell_type": "code",
   "execution_count": 16,
   "metadata": {
    "colab": {
     "base_uri": "https://localhost:8080/"
    },
    "id": "iEiXDdUhZP7R",
    "outputId": "554b1c09-6d6f-48fb-c724-351b40a2ddaf"
   },
   "outputs": [
    {
     "name": "stdout",
     "output_type": "stream",
     "text": [
      "94917\n",
      "94917\n",
      "14500\n"
     ]
    }
   ],
   "source": [
    "train = data_split(processed_full, TRAIN_START_DATE,TRAIN_END_DATE)\n",
    "valid = data_split(processed_full, VALID_START_DATE,VALID_END_DATE)\n",
    "trade = data_split(processed_full, TRADE_START_DATE,TRADE_END_DATE)\n",
    "print(len(train))\n",
    "print(len(train))\n",
    "print(len(trade))"
   ]
  },
  {
   "cell_type": "markdown",
   "metadata": {
    "id": "DflbzEV8IRhF"
   },
   "source": [
    "### Save data to csv file"
   ]
  },
  {
   "cell_type": "markdown",
   "metadata": {
    "id": "Tud3IZDzIUpd"
   },
   "source": [
    "For Colab users, you can open the virtual directory in colab and manually download the files.\n",
    "\n",
    "For users running on your local environment, the csv files should be at the same directory of this notebook."
   ]
  },
  {
   "cell_type": "code",
   "execution_count": 17,
   "metadata": {
    "id": "j2c12CpfHEjE"
   },
   "outputs": [],
   "source": [
    "import os\n",
    "os.makedirs('./data', exist_ok=True)\n",
    "train.to_csv('./data/train_data.csv')\n",
    "valid.to_csv('./data/valid_data.csv')\n",
    "trade.to_csv('./data/trade_data.csv')"
   ]
  }
 ],
 "metadata": {
  "colab": {
   "provenance": []
  },
  "kernelspec": {
   "display_name": "base",
   "language": "python",
   "name": "python3"
  },
  "language_info": {
   "codemirror_mode": {
    "name": "ipython",
    "version": 3
   },
   "file_extension": ".py",
   "mimetype": "text/x-python",
   "name": "python",
   "nbconvert_exporter": "python",
   "pygments_lexer": "ipython3",
   "version": "3.12.4"
  }
 },
 "nbformat": 4,
 "nbformat_minor": 0
}

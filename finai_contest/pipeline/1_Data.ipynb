{
 "cells": [
  {
   "cell_type": "markdown",
   "metadata": {
    "id": "Sy8r7_g5WjAT"
   },
   "source": [
    "# Stock NeurIPS2018 Part 1. Data\n",
    "This series is a reproduction of paper *the process in the paper Practical Deep Reinforcement Learning Approach for Stock Trading*. \n",
    "\n",
    "This is the first part of the NeurIPS2018 series, introducing how to use FinRL to fetch and process data that we need for ML/RL trading.\n",
    "\n",
    "Other demos can be found at the repo of [FinRL-Tutorials]((https://github.com/AI4Finance-Foundation/FinRL-Tutorials))."
   ]
  },
  {
   "cell_type": "markdown",
   "metadata": {
    "id": "2uH1KXctgnoJ"
   },
   "source": [
    "# Part 1. Install Packages"
   ]
  },
  {
   "cell_type": "code",
   "execution_count": 2,
   "metadata": {
    "id": "a2oD49e_N_05"
   },
   "outputs": [
    {
     "name": "stdout",
     "output_type": "stream",
     "text": [
      "Collecting git+https://github.com/AI4Finance-Foundation/FinRL.git\n",
      "  Cloning https://github.com/AI4Finance-Foundation/FinRL.git to /tmp/pip-req-build-370r5l0p\n",
      "  Running command git clone --filter=blob:none --quiet https://github.com/AI4Finance-Foundation/FinRL.git /tmp/pip-req-build-370r5l0p\n",
      "  Resolved https://github.com/AI4Finance-Foundation/FinRL.git to commit 9e8c38aa5b92bbf0e20f65fc611fd43b43196859\n",
      "  Installing build dependencies ... \u001b[?25ldone\n",
      "\u001b[?25h  Getting requirements to build wheel ... \u001b[?25ldone\n",
      "\u001b[?25h  Preparing metadata (pyproject.toml) ... \u001b[?25ldone\n",
      "\u001b[?25hCollecting alpaca-py<0.38,>=0.37 (from finrl==0.3.8)\n",
      "  Using cached alpaca_py-0.37.0-py3-none-any.whl.metadata (13 kB)\n",
      "Collecting alpaca-trade-api<4,>=3 (from finrl==0.3.8)\n",
      "  Using cached alpaca_trade_api-3.2.0-py3-none-any.whl.metadata (29 kB)\n",
      "Collecting ccxt<4,>=3 (from finrl==0.3.8)\n",
      "  Using cached ccxt-3.1.60-py2.py3-none-any.whl.metadata (108 kB)\n",
      "Collecting elegantrl@ git+https://github.com/AI4Finance-Foundation/ElegantRL.git (from finrl==0.3.8)\n",
      "  Cloning https://github.com/AI4Finance-Foundation/ElegantRL.git to /tmp/pip-install-5swv1ecn/elegantrl_b19d593de52147bfa444dd88509d24f9\n",
      "  Running command git clone --filter=blob:none --quiet https://github.com/AI4Finance-Foundation/ElegantRL.git /tmp/pip-install-5swv1ecn/elegantrl_b19d593de52147bfa444dd88509d24f9\n",
      "  Resolved https://github.com/AI4Finance-Foundation/ElegantRL.git to commit 37aac1f592e1add9f9fd37ae8db1094656009b76\n",
      "  Preparing metadata (setup.py) ... \u001b[?25ldone\n",
      "\u001b[?25hCollecting jqdatasdk<2,>=1 (from finrl==0.3.8)\n",
      "  Using cached jqdatasdk-1.9.7-py3-none-any.whl.metadata (5.8 kB)\n",
      "Collecting pandas-market-calendars<6,>=5 (from finrl==0.3.8)\n",
      "  Using cached pandas_market_calendars-5.1.1-py3-none-any.whl.metadata (9.7 kB)\n",
      "Collecting pyfolio-reloaded<0.10,>=0.9 (from finrl==0.3.8)\n",
      "  Using cached pyfolio_reloaded-0.9.9-py3-none-any.whl.metadata (19 kB)\n",
      "Collecting pyportfolioopt<2,>=1 (from finrl==0.3.8)\n",
      "  Using cached pyportfolioopt-1.5.6-py3-none-any.whl.metadata (22 kB)\n",
      "Collecting ray<3,>=2 (from ray[default,tune]<3,>=2->finrl==0.3.8)\n",
      "  Using cached ray-2.49.2-cp312-cp312-manylinux2014_x86_64.whl.metadata (21 kB)\n",
      "Collecting scikit-learn<2,>=1 (from finrl==0.3.8)\n",
      "  Using cached scikit_learn-1.7.2-cp312-cp312-manylinux2014_x86_64.manylinux_2_17_x86_64.whl.metadata (11 kB)\n",
      "Collecting selenium<5,>=4 (from finrl==0.3.8)\n",
      "  Using cached selenium-4.35.0-py3-none-any.whl.metadata (7.4 kB)\n",
      "Collecting stable-baselines3>=2.0.0a5 (from stable-baselines3[extra]>=2.0.0a5->finrl==0.3.8)\n",
      "  Using cached stable_baselines3-2.7.0-py3-none-any.whl.metadata (4.8 kB)\n",
      "Collecting stockstats<0.6,>=0.5 (from finrl==0.3.8)\n",
      "  Using cached stockstats-0.5.4-py2.py3-none-any.whl.metadata (26 kB)\n",
      "Collecting webdriver-manager<5,>=4 (from finrl==0.3.8)\n",
      "  Using cached webdriver_manager-4.0.2-py2.py3-none-any.whl.metadata (12 kB)\n",
      "Collecting wrds<4,>=3 (from finrl==0.3.8)\n",
      "  Using cached wrds-3.4.0-py3-none-any.whl.metadata (5.7 kB)\n",
      "Collecting yfinance<0.3,>=0.2 (from finrl==0.3.8)\n",
      "  Using cached yfinance-0.2.66-py2.py3-none-any.whl.metadata (6.0 kB)\n",
      "Requirement already satisfied: th in /mnt/c/Users/Jason/Desktop/Fall2025/RCOS/FinAI-Contest/.venv/lib/python3.12/site-packages (from elegantrl@ git+https://github.com/AI4Finance-Foundation/ElegantRL.git->finrl==0.3.8) (0.4.1)\n",
      "Requirement already satisfied: numpy in /mnt/c/Users/Jason/Desktop/Fall2025/RCOS/FinAI-Contest/.venv/lib/python3.12/site-packages (from elegantrl@ git+https://github.com/AI4Finance-Foundation/ElegantRL.git->finrl==0.3.8) (2.2.6)\n",
      "Collecting gymnasium (from elegantrl@ git+https://github.com/AI4Finance-Foundation/ElegantRL.git->finrl==0.3.8)\n",
      "  Using cached gymnasium-1.2.1-py3-none-any.whl.metadata (10.0 kB)\n",
      "Collecting matplotlib (from elegantrl@ git+https://github.com/AI4Finance-Foundation/ElegantRL.git->finrl==0.3.8)\n",
      "  Using cached matplotlib-3.10.6-cp312-cp312-manylinux2014_x86_64.manylinux_2_17_x86_64.whl.metadata (11 kB)\n",
      "Requirement already satisfied: msgpack<2.0.0,>=1.0.3 in /mnt/c/Users/Jason/Desktop/Fall2025/RCOS/FinAI-Contest/.venv/lib/python3.12/site-packages (from alpaca-py<0.38,>=0.37->finrl==0.3.8) (1.0.3)\n",
      "Collecting pandas>=1.5.3 (from alpaca-py<0.38,>=0.37->finrl==0.3.8)\n",
      "  Using cached pandas-2.3.2-cp312-cp312-manylinux_2_17_x86_64.manylinux2014_x86_64.whl.metadata (91 kB)\n",
      "Requirement already satisfied: pydantic<3.0.0,>=2.0.3 in /mnt/c/Users/Jason/Desktop/Fall2025/RCOS/FinAI-Contest/.venv/lib/python3.12/site-packages (from alpaca-py<0.38,>=0.37->finrl==0.3.8) (2.11.9)\n",
      "Requirement already satisfied: requests<3.0.0,>=2.30.0 in /mnt/c/Users/Jason/Desktop/Fall2025/RCOS/FinAI-Contest/.venv/lib/python3.12/site-packages (from alpaca-py<0.38,>=0.37->finrl==0.3.8) (2.32.5)\n",
      "Requirement already satisfied: sseclient-py<2.0.0,>=1.7.2 in /mnt/c/Users/Jason/Desktop/Fall2025/RCOS/FinAI-Contest/.venv/lib/python3.12/site-packages (from alpaca-py<0.38,>=0.37->finrl==0.3.8) (1.8.0)\n",
      "Requirement already satisfied: websockets>=10.4 in /mnt/c/Users/Jason/Desktop/Fall2025/RCOS/FinAI-Contest/.venv/lib/python3.12/site-packages (from alpaca-py<0.38,>=0.37->finrl==0.3.8) (10.4)\n",
      "Requirement already satisfied: urllib3<2,>1.24 in /mnt/c/Users/Jason/Desktop/Fall2025/RCOS/FinAI-Contest/.venv/lib/python3.12/site-packages (from alpaca-trade-api<4,>=3->finrl==0.3.8) (1.26.20)\n",
      "Requirement already satisfied: websocket-client<2,>=0.56.0 in /mnt/c/Users/Jason/Desktop/Fall2025/RCOS/FinAI-Contest/.venv/lib/python3.12/site-packages (from alpaca-trade-api<4,>=3->finrl==0.3.8) (1.8.0)\n",
      "Collecting aiohttp<4,>=3.8.3 (from alpaca-trade-api<4,>=3->finrl==0.3.8)\n",
      "  Using cached aiohttp-3.12.15-cp312-cp312-manylinux_2_17_x86_64.manylinux2014_x86_64.whl.metadata (7.7 kB)\n",
      "Requirement already satisfied: PyYAML==6.0.1 in /mnt/c/Users/Jason/Desktop/Fall2025/RCOS/FinAI-Contest/.venv/lib/python3.12/site-packages (from alpaca-trade-api<4,>=3->finrl==0.3.8) (6.0.1)\n",
      "Collecting deprecation==2.1.0 (from alpaca-trade-api<4,>=3->finrl==0.3.8)\n",
      "  Using cached deprecation-2.1.0-py2.py3-none-any.whl.metadata (4.6 kB)\n",
      "Requirement already satisfied: packaging in /mnt/c/Users/Jason/Desktop/Fall2025/RCOS/FinAI-Contest/.venv/lib/python3.12/site-packages (from deprecation==2.1.0->alpaca-trade-api<4,>=3->finrl==0.3.8) (24.2)\n",
      "Requirement already satisfied: aiohappyeyeballs>=2.5.0 in /mnt/c/Users/Jason/Desktop/Fall2025/RCOS/FinAI-Contest/.venv/lib/python3.12/site-packages (from aiohttp<4,>=3.8.3->alpaca-trade-api<4,>=3->finrl==0.3.8) (2.6.1)\n",
      "Collecting aiosignal>=1.4.0 (from aiohttp<4,>=3.8.3->alpaca-trade-api<4,>=3->finrl==0.3.8)\n",
      "  Using cached aiosignal-1.4.0-py3-none-any.whl.metadata (3.7 kB)\n",
      "Requirement already satisfied: attrs>=17.3.0 in /mnt/c/Users/Jason/Desktop/Fall2025/RCOS/FinAI-Contest/.venv/lib/python3.12/site-packages (from aiohttp<4,>=3.8.3->alpaca-trade-api<4,>=3->finrl==0.3.8) (25.3.0)\n",
      "Requirement already satisfied: frozenlist>=1.1.1 in /mnt/c/Users/Jason/Desktop/Fall2025/RCOS/FinAI-Contest/.venv/lib/python3.12/site-packages (from aiohttp<4,>=3.8.3->alpaca-trade-api<4,>=3->finrl==0.3.8) (1.7.0)\n",
      "Requirement already satisfied: multidict<7.0,>=4.5 in /mnt/c/Users/Jason/Desktop/Fall2025/RCOS/FinAI-Contest/.venv/lib/python3.12/site-packages (from aiohttp<4,>=3.8.3->alpaca-trade-api<4,>=3->finrl==0.3.8) (6.6.4)\n",
      "Requirement already satisfied: propcache>=0.2.0 in /mnt/c/Users/Jason/Desktop/Fall2025/RCOS/FinAI-Contest/.venv/lib/python3.12/site-packages (from aiohttp<4,>=3.8.3->alpaca-trade-api<4,>=3->finrl==0.3.8) (0.3.2)\n",
      "Requirement already satisfied: yarl<2.0,>=1.17.0 in /mnt/c/Users/Jason/Desktop/Fall2025/RCOS/FinAI-Contest/.venv/lib/python3.12/site-packages (from aiohttp<4,>=3.8.3->alpaca-trade-api<4,>=3->finrl==0.3.8) (1.20.1)\n",
      "Requirement already satisfied: setuptools>=60.9.0 in /mnt/c/Users/Jason/Desktop/Fall2025/RCOS/FinAI-Contest/.venv/lib/python3.12/site-packages (from ccxt<4,>=3->finrl==0.3.8) (80.9.0)\n",
      "Requirement already satisfied: certifi>=2018.1.18 in /mnt/c/Users/Jason/Desktop/Fall2025/RCOS/FinAI-Contest/.venv/lib/python3.12/site-packages (from ccxt<4,>=3->finrl==0.3.8) (2025.8.3)\n",
      "Collecting cryptography>=2.6.1 (from ccxt<4,>=3->finrl==0.3.8)\n",
      "  Using cached cryptography-46.0.1-cp311-abi3-manylinux_2_34_x86_64.whl.metadata (5.7 kB)\n",
      "Collecting aiodns>=1.1.1 (from ccxt<4,>=3->finrl==0.3.8)\n",
      "  Using cached aiodns-3.5.0-py3-none-any.whl.metadata (5.8 kB)\n",
      "Requirement already satisfied: six in /mnt/c/Users/Jason/Desktop/Fall2025/RCOS/FinAI-Contest/.venv/lib/python3.12/site-packages (from jqdatasdk<2,>=1->finrl==0.3.8) (1.17.0)\n",
      "Requirement already satisfied: SQLAlchemy>=1.2.8 in /mnt/c/Users/Jason/Desktop/Fall2025/RCOS/FinAI-Contest/.venv/lib/python3.12/site-packages (from jqdatasdk<2,>=1->finrl==0.3.8) (2.0.43)\n",
      "Requirement already satisfied: pymysql>=0.7.6 in /mnt/c/Users/Jason/Desktop/Fall2025/RCOS/FinAI-Contest/.venv/lib/python3.12/site-packages (from jqdatasdk<2,>=1->finrl==0.3.8) (1.1.2)\n",
      "Requirement already satisfied: thriftpy2!=0.5.1,>=0.3.9 in /mnt/c/Users/Jason/Desktop/Fall2025/RCOS/FinAI-Contest/.venv/lib/python3.12/site-packages (from jqdatasdk<2,>=1->finrl==0.3.8) (0.5.3)\n",
      "Requirement already satisfied: tzdata in /mnt/c/Users/Jason/Desktop/Fall2025/RCOS/FinAI-Contest/.venv/lib/python3.12/site-packages (from pandas-market-calendars<6,>=5->finrl==0.3.8) (2025.2)\n",
      "Requirement already satisfied: python-dateutil in /mnt/c/Users/Jason/Desktop/Fall2025/RCOS/FinAI-Contest/.venv/lib/python3.12/site-packages (from pandas-market-calendars<6,>=5->finrl==0.3.8) (2.9.0.post0)\n",
      "Collecting exchange-calendars>=3.3 (from pandas-market-calendars<6,>=5->finrl==0.3.8)\n",
      "  Using cached exchange_calendars-4.11.1-py3-none-any.whl.metadata (38 kB)\n",
      "Requirement already satisfied: annotated-types>=0.6.0 in /mnt/c/Users/Jason/Desktop/Fall2025/RCOS/FinAI-Contest/.venv/lib/python3.12/site-packages (from pydantic<3.0.0,>=2.0.3->alpaca-py<0.38,>=0.37->finrl==0.3.8) (0.7.0)\n",
      "Requirement already satisfied: pydantic-core==2.33.2 in /mnt/c/Users/Jason/Desktop/Fall2025/RCOS/FinAI-Contest/.venv/lib/python3.12/site-packages (from pydantic<3.0.0,>=2.0.3->alpaca-py<0.38,>=0.37->finrl==0.3.8) (2.33.2)\n",
      "Requirement already satisfied: typing-extensions>=4.12.2 in /mnt/c/Users/Jason/Desktop/Fall2025/RCOS/FinAI-Contest/.venv/lib/python3.12/site-packages (from pydantic<3.0.0,>=2.0.3->alpaca-py<0.38,>=0.37->finrl==0.3.8) (4.15.0)\n",
      "Requirement already satisfied: typing-inspection>=0.4.0 in /mnt/c/Users/Jason/Desktop/Fall2025/RCOS/FinAI-Contest/.venv/lib/python3.12/site-packages (from pydantic<3.0.0,>=2.0.3->alpaca-py<0.38,>=0.37->finrl==0.3.8) (0.4.1)\n",
      "Requirement already satisfied: ipython>=3.2.3 in /mnt/c/Users/Jason/Desktop/Fall2025/RCOS/FinAI-Contest/.venv/lib/python3.12/site-packages (from pyfolio-reloaded<0.10,>=0.9->finrl==0.3.8) (9.5.0)\n",
      "Requirement already satisfied: pytz>=2014.10 in /mnt/c/Users/Jason/Desktop/Fall2025/RCOS/FinAI-Contest/.venv/lib/python3.12/site-packages (from pyfolio-reloaded<0.10,>=0.9->finrl==0.3.8) (2025.2)\n",
      "Requirement already satisfied: scipy>=0.14.0 in /mnt/c/Users/Jason/Desktop/Fall2025/RCOS/FinAI-Contest/.venv/lib/python3.12/site-packages (from pyfolio-reloaded<0.10,>=0.9->finrl==0.3.8) (1.16.2)\n",
      "Collecting seaborn>=0.7.1 (from pyfolio-reloaded<0.10,>=0.9->finrl==0.3.8)\n",
      "  Using cached seaborn-0.13.2-py3-none-any.whl.metadata (5.4 kB)\n",
      "Collecting empyrical-reloaded>=0.5.9 (from pyfolio-reloaded<0.10,>=0.9->finrl==0.3.8)\n",
      "  Using cached empyrical_reloaded-0.5.12-py3-none-any.whl.metadata (21 kB)\n",
      "Collecting cvxpy>=1.1.19 (from pyportfolioopt<2,>=1->finrl==0.3.8)\n",
      "  Using cached cvxpy-1.7.3-cp312-cp312-manylinux_2_24_x86_64.manylinux_2_28_x86_64.whl.metadata (9.5 kB)\n",
      "Collecting ecos<3.0.0,>=2.0.14 (from pyportfolioopt<2,>=1->finrl==0.3.8)\n",
      "  Using cached ecos-2.0.14-cp312-cp312-manylinux_2_17_x86_64.manylinux2014_x86_64.whl.metadata (8.0 kB)\n",
      "Requirement already satisfied: plotly<6.0.0,>=5.0.0 in /mnt/c/Users/Jason/Desktop/Fall2025/RCOS/FinAI-Contest/.venv/lib/python3.12/site-packages (from pyportfolioopt<2,>=1->finrl==0.3.8) (5.24.1)\n",
      "Requirement already satisfied: tenacity>=6.2.0 in /mnt/c/Users/Jason/Desktop/Fall2025/RCOS/FinAI-Contest/.venv/lib/python3.12/site-packages (from plotly<6.0.0,>=5.0.0->pyportfolioopt<2,>=1->finrl==0.3.8) (9.1.2)\n",
      "Requirement already satisfied: click>=7.0 in /mnt/c/Users/Jason/Desktop/Fall2025/RCOS/FinAI-Contest/.venv/lib/python3.12/site-packages (from ray<3,>=2->ray[default,tune]<3,>=2->finrl==0.3.8) (8.3.0)\n",
      "Requirement already satisfied: filelock in /mnt/c/Users/Jason/Desktop/Fall2025/RCOS/FinAI-Contest/.venv/lib/python3.12/site-packages (from ray<3,>=2->ray[default,tune]<3,>=2->finrl==0.3.8) (3.19.1)\n",
      "Requirement already satisfied: jsonschema in /mnt/c/Users/Jason/Desktop/Fall2025/RCOS/FinAI-Contest/.venv/lib/python3.12/site-packages (from ray<3,>=2->ray[default,tune]<3,>=2->finrl==0.3.8) (4.25.1)\n",
      "Requirement already satisfied: protobuf>=3.20.3 in /mnt/c/Users/Jason/Desktop/Fall2025/RCOS/FinAI-Contest/.venv/lib/python3.12/site-packages (from ray<3,>=2->ray[default,tune]<3,>=2->finrl==0.3.8) (6.32.1)\n",
      "Collecting aiohttp_cors (from ray[default,tune]<3,>=2->finrl==0.3.8)\n",
      "  Using cached aiohttp_cors-0.8.1-py3-none-any.whl.metadata (20 kB)\n",
      "Requirement already satisfied: colorful in /mnt/c/Users/Jason/Desktop/Fall2025/RCOS/FinAI-Contest/.venv/lib/python3.12/site-packages (from ray[default,tune]<3,>=2->finrl==0.3.8) (0.5.7)\n",
      "Requirement already satisfied: py-spy>=0.4.0 in /mnt/c/Users/Jason/Desktop/Fall2025/RCOS/FinAI-Contest/.venv/lib/python3.12/site-packages (from ray[default,tune]<3,>=2->finrl==0.3.8) (0.4.1)\n",
      "Requirement already satisfied: grpcio>=1.42.0 in /mnt/c/Users/Jason/Desktop/Fall2025/RCOS/FinAI-Contest/.venv/lib/python3.12/site-packages (from ray[default,tune]<3,>=2->finrl==0.3.8) (1.75.0)\n",
      "Collecting opencensus (from ray[default,tune]<3,>=2->finrl==0.3.8)\n",
      "  Using cached opencensus-0.11.4-py2.py3-none-any.whl.metadata (12 kB)\n",
      "Collecting opentelemetry-sdk>=1.30.0 (from ray[default,tune]<3,>=2->finrl==0.3.8)\n",
      "  Using cached opentelemetry_sdk-1.37.0-py3-none-any.whl.metadata (1.5 kB)\n",
      "Collecting opentelemetry-exporter-prometheus (from ray[default,tune]<3,>=2->finrl==0.3.8)\n",
      "  Using cached opentelemetry_exporter_prometheus-0.58b0-py3-none-any.whl.metadata (2.1 kB)\n",
      "Collecting opentelemetry-proto (from ray[default,tune]<3,>=2->finrl==0.3.8)\n",
      "  Using cached opentelemetry_proto-1.37.0-py3-none-any.whl.metadata (2.3 kB)\n",
      "Requirement already satisfied: prometheus_client>=0.7.1 in /mnt/c/Users/Jason/Desktop/Fall2025/RCOS/FinAI-Contest/.venv/lib/python3.12/site-packages (from ray[default,tune]<3,>=2->finrl==0.3.8) (0.23.1)\n",
      "Requirement already satisfied: smart_open in /mnt/c/Users/Jason/Desktop/Fall2025/RCOS/FinAI-Contest/.venv/lib/python3.12/site-packages (from ray[default,tune]<3,>=2->finrl==0.3.8) (7.3.1)\n",
      "Requirement already satisfied: virtualenv!=20.21.1,>=20.0.24 in /mnt/c/Users/Jason/Desktop/Fall2025/RCOS/FinAI-Contest/.venv/lib/python3.12/site-packages (from ray[default,tune]<3,>=2->finrl==0.3.8) (20.34.0)\n",
      "Requirement already satisfied: tensorboardX>=1.9 in /mnt/c/Users/Jason/Desktop/Fall2025/RCOS/FinAI-Contest/.venv/lib/python3.12/site-packages (from ray[default,tune]<3,>=2->finrl==0.3.8) (2.6.4)\n",
      "Requirement already satisfied: pyarrow>=9.0.0 in /mnt/c/Users/Jason/Desktop/Fall2025/RCOS/FinAI-Contest/.venv/lib/python3.12/site-packages (from ray[default,tune]<3,>=2->finrl==0.3.8) (21.0.0)\n",
      "Requirement already satisfied: fsspec in /mnt/c/Users/Jason/Desktop/Fall2025/RCOS/FinAI-Contest/.venv/lib/python3.12/site-packages (from ray[default,tune]<3,>=2->finrl==0.3.8) (2025.9.0)\n",
      "Requirement already satisfied: charset_normalizer<4,>=2 in /mnt/c/Users/Jason/Desktop/Fall2025/RCOS/FinAI-Contest/.venv/lib/python3.12/site-packages (from requests<3.0.0,>=2.30.0->alpaca-py<0.38,>=0.37->finrl==0.3.8) (3.4.3)\n",
      "Requirement already satisfied: idna<4,>=2.5 in /mnt/c/Users/Jason/Desktop/Fall2025/RCOS/FinAI-Contest/.venv/lib/python3.12/site-packages (from requests<3.0.0,>=2.30.0->alpaca-py<0.38,>=0.37->finrl==0.3.8) (3.10)\n",
      "Requirement already satisfied: joblib>=1.2.0 in /mnt/c/Users/Jason/Desktop/Fall2025/RCOS/FinAI-Contest/.venv/lib/python3.12/site-packages (from scikit-learn<2,>=1->finrl==0.3.8) (1.5.2)\n",
      "Requirement already satisfied: threadpoolctl>=3.1.0 in /mnt/c/Users/Jason/Desktop/Fall2025/RCOS/FinAI-Contest/.venv/lib/python3.12/site-packages (from scikit-learn<2,>=1->finrl==0.3.8) (3.6.0)\n",
      "INFO: pip is looking at multiple versions of selenium to determine which version is compatible with other requirements. This could take a while.\n",
      "Collecting selenium<5,>=4 (from finrl==0.3.8)\n",
      "  Using cached selenium-4.34.2-py3-none-any.whl.metadata (7.5 kB)\n",
      "  Using cached selenium-4.34.1-py3-none-any.whl.metadata (7.5 kB)\n",
      "  Using cached selenium-4.34.0-py3-none-any.whl.metadata (7.5 kB)\n",
      "  Using cached selenium-4.33.0-py3-none-any.whl.metadata (7.5 kB)\n",
      "  Using cached selenium-4.32.0-py3-none-any.whl.metadata (7.5 kB)\n",
      "Requirement already satisfied: trio~=0.17 in /mnt/c/Users/Jason/Desktop/Fall2025/RCOS/FinAI-Contest/.venv/lib/python3.12/site-packages (from selenium<5,>=4->finrl==0.3.8) (0.31.0)\n",
      "Collecting trio-websocket~=0.9 (from selenium<5,>=4->finrl==0.3.8)\n",
      "  Using cached trio_websocket-0.12.2-py3-none-any.whl.metadata (5.1 kB)\n",
      "Requirement already satisfied: sortedcontainers in /mnt/c/Users/Jason/Desktop/Fall2025/RCOS/FinAI-Contest/.venv/lib/python3.12/site-packages (from trio~=0.17->selenium<5,>=4->finrl==0.3.8) (2.4.0)\n",
      "Requirement already satisfied: outcome in /mnt/c/Users/Jason/Desktop/Fall2025/RCOS/FinAI-Contest/.venv/lib/python3.12/site-packages (from trio~=0.17->selenium<5,>=4->finrl==0.3.8) (1.3.0.post0)\n",
      "Requirement already satisfied: sniffio>=1.3.0 in /mnt/c/Users/Jason/Desktop/Fall2025/RCOS/FinAI-Contest/.venv/lib/python3.12/site-packages (from trio~=0.17->selenium<5,>=4->finrl==0.3.8) (1.3.1)\n",
      "Requirement already satisfied: wsproto>=0.14 in /mnt/c/Users/Jason/Desktop/Fall2025/RCOS/FinAI-Contest/.venv/lib/python3.12/site-packages (from trio-websocket~=0.9->selenium<5,>=4->finrl==0.3.8) (1.2.0)\n",
      "Requirement already satisfied: PySocks!=1.5.7,<2.0,>=1.5.6 in /mnt/c/Users/Jason/Desktop/Fall2025/RCOS/FinAI-Contest/.venv/lib/python3.12/site-packages (from urllib3[socks]<3,>=1.26->selenium<5,>=4->finrl==0.3.8) (1.7.1)\n",
      "Requirement already satisfied: python-dotenv in /mnt/c/Users/Jason/Desktop/Fall2025/RCOS/FinAI-Contest/.venv/lib/python3.12/site-packages (from webdriver-manager<5,>=4->finrl==0.3.8) (1.1.1)\n",
      "Collecting pandas>=1.5.3 (from alpaca-py<0.38,>=0.37->finrl==0.3.8)\n",
      "  Using cached pandas-2.2.3-cp312-cp312-manylinux_2_17_x86_64.manylinux2014_x86_64.whl.metadata (89 kB)\n",
      "Requirement already satisfied: psycopg2-binary<2.10,>=2.9 in /mnt/c/Users/Jason/Desktop/Fall2025/RCOS/FinAI-Contest/.venv/lib/python3.12/site-packages (from wrds<4,>=3->finrl==0.3.8) (2.9.10)\n",
      "Requirement already satisfied: greenlet>=1 in /mnt/c/Users/Jason/Desktop/Fall2025/RCOS/FinAI-Contest/.venv/lib/python3.12/site-packages (from SQLAlchemy>=1.2.8->jqdatasdk<2,>=1->finrl==0.3.8) (3.2.4)\n",
      "Requirement already satisfied: multitasking>=0.0.7 in /mnt/c/Users/Jason/Desktop/Fall2025/RCOS/FinAI-Contest/.venv/lib/python3.12/site-packages (from yfinance<0.3,>=0.2->finrl==0.3.8) (0.0.12)\n",
      "Requirement already satisfied: platformdirs>=2.0.0 in /mnt/c/Users/Jason/Desktop/Fall2025/RCOS/FinAI-Contest/.venv/lib/python3.12/site-packages (from yfinance<0.3,>=0.2->finrl==0.3.8) (4.4.0)\n",
      "Requirement already satisfied: frozendict>=2.3.4 in /mnt/c/Users/Jason/Desktop/Fall2025/RCOS/FinAI-Contest/.venv/lib/python3.12/site-packages (from yfinance<0.3,>=0.2->finrl==0.3.8) (2.4.6)\n",
      "Requirement already satisfied: peewee>=3.16.2 in /mnt/c/Users/Jason/Desktop/Fall2025/RCOS/FinAI-Contest/.venv/lib/python3.12/site-packages (from yfinance<0.3,>=0.2->finrl==0.3.8) (3.17.3)\n",
      "Requirement already satisfied: beautifulsoup4>=4.11.1 in /mnt/c/Users/Jason/Desktop/Fall2025/RCOS/FinAI-Contest/.venv/lib/python3.12/site-packages (from yfinance<0.3,>=0.2->finrl==0.3.8) (4.13.5)\n",
      "Collecting curl_cffi>=0.7 (from yfinance<0.3,>=0.2->finrl==0.3.8)\n",
      "  Using cached curl_cffi-0.13.0-cp39-abi3-manylinux_2_17_x86_64.manylinux2014_x86_64.whl.metadata (13 kB)\n",
      "INFO: pip is looking at multiple versions of yfinance to determine which version is compatible with other requirements. This could take a while.\n",
      "Collecting yfinance<0.3,>=0.2 (from finrl==0.3.8)\n",
      "  Using cached yfinance-0.2.65-py2.py3-none-any.whl.metadata (5.8 kB)\n",
      "  Using cached yfinance-0.2.64-py2.py3-none-any.whl.metadata (5.8 kB)\n",
      "  Using cached yfinance-0.2.63-py2.py3-none-any.whl.metadata (5.8 kB)\n",
      "  Using cached yfinance-0.2.62-py2.py3-none-any.whl.metadata (5.8 kB)\n",
      "  Using cached yfinance-0.2.61-py2.py3-none-any.whl.metadata (5.8 kB)\n",
      "  Using cached yfinance-0.2.60-py2.py3-none-any.whl.metadata (5.8 kB)\n",
      "  Using cached yfinance-0.2.59-py2.py3-none-any.whl.metadata (5.7 kB)\n",
      "Collecting protobuf>=3.20.3 (from ray<3,>=2->ray[default,tune]<3,>=2->finrl==0.3.8)\n",
      "  Using cached protobuf-5.29.5-cp38-abi3-manylinux2014_x86_64.whl.metadata (592 bytes)\n",
      "INFO: pip is still looking at multiple versions of yfinance to determine which version is compatible with other requirements. This could take a while.\n",
      "Collecting yfinance<0.3,>=0.2 (from finrl==0.3.8)\n",
      "  Using cached yfinance-0.2.58-py2.py3-none-any.whl.metadata (5.5 kB)\n",
      "Requirement already satisfied: pycares>=4.9.0 in /mnt/c/Users/Jason/Desktop/Fall2025/RCOS/FinAI-Contest/.venv/lib/python3.12/site-packages (from aiodns>=1.1.1->ccxt<4,>=3->finrl==0.3.8) (4.11.0)\n",
      "Requirement already satisfied: soupsieve>1.2 in /mnt/c/Users/Jason/Desktop/Fall2025/RCOS/FinAI-Contest/.venv/lib/python3.12/site-packages (from beautifulsoup4>=4.11.1->yfinance<0.3,>=0.2->finrl==0.3.8) (2.8)\n",
      "Requirement already satisfied: cffi>=2.0.0 in /mnt/c/Users/Jason/Desktop/Fall2025/RCOS/FinAI-Contest/.venv/lib/python3.12/site-packages (from cryptography>=2.6.1->ccxt<4,>=3->finrl==0.3.8) (2.0.0)\n",
      "Requirement already satisfied: pycparser in /mnt/c/Users/Jason/Desktop/Fall2025/RCOS/FinAI-Contest/.venv/lib/python3.12/site-packages (from cffi>=2.0.0->cryptography>=2.6.1->ccxt<4,>=3->finrl==0.3.8) (2.23)\n",
      "Collecting osqp>=1.0.0 (from cvxpy>=1.1.19->pyportfolioopt<2,>=1->finrl==0.3.8)\n",
      "  Using cached osqp-1.0.4-cp312-cp312-manylinux_2_17_x86_64.manylinux2014_x86_64.whl.metadata (2.1 kB)\n",
      "Collecting clarabel>=0.5.0 (from cvxpy>=1.1.19->pyportfolioopt<2,>=1->finrl==0.3.8)\n",
      "  Using cached clarabel-0.11.1-cp39-abi3-manylinux_2_17_x86_64.manylinux2014_x86_64.whl.metadata (4.8 kB)\n",
      "Collecting scs>=3.2.4.post1 (from cvxpy>=1.1.19->pyportfolioopt<2,>=1->finrl==0.3.8)\n",
      "  Using cached scs-3.2.8-cp312-cp312-manylinux_2_27_x86_64.manylinux_2_28_x86_64.whl.metadata (2.8 kB)\n",
      "Collecting bottleneck>=1.3.0 (from empyrical-reloaded>=0.5.9->pyfolio-reloaded<0.10,>=0.9->finrl==0.3.8)\n",
      "  Using cached bottleneck-1.6.0-cp312-cp312-manylinux1_x86_64.manylinux_2_28_x86_64.manylinux_2_5_x86_64.whl.metadata (8.2 kB)\n",
      "Requirement already satisfied: pyluach in /mnt/c/Users/Jason/Desktop/Fall2025/RCOS/FinAI-Contest/.venv/lib/python3.12/site-packages (from exchange-calendars>=3.3->pandas-market-calendars<6,>=5->finrl==0.3.8) (2.3.0)\n",
      "Requirement already satisfied: toolz in /mnt/c/Users/Jason/Desktop/Fall2025/RCOS/FinAI-Contest/.venv/lib/python3.12/site-packages (from exchange-calendars>=3.3->pandas-market-calendars<6,>=5->finrl==0.3.8) (1.0.0)\n",
      "Requirement already satisfied: korean_lunar_calendar in /mnt/c/Users/Jason/Desktop/Fall2025/RCOS/FinAI-Contest/.venv/lib/python3.12/site-packages (from exchange-calendars>=3.3->pandas-market-calendars<6,>=5->finrl==0.3.8) (0.3.1)\n",
      "Requirement already satisfied: decorator in /mnt/c/Users/Jason/Desktop/Fall2025/RCOS/FinAI-Contest/.venv/lib/python3.12/site-packages (from ipython>=3.2.3->pyfolio-reloaded<0.10,>=0.9->finrl==0.3.8) (5.2.1)\n",
      "Requirement already satisfied: ipython-pygments-lexers in /mnt/c/Users/Jason/Desktop/Fall2025/RCOS/FinAI-Contest/.venv/lib/python3.12/site-packages (from ipython>=3.2.3->pyfolio-reloaded<0.10,>=0.9->finrl==0.3.8) (1.1.1)\n",
      "Requirement already satisfied: jedi>=0.16 in /mnt/c/Users/Jason/Desktop/Fall2025/RCOS/FinAI-Contest/.venv/lib/python3.12/site-packages (from ipython>=3.2.3->pyfolio-reloaded<0.10,>=0.9->finrl==0.3.8) (0.19.2)\n",
      "Requirement already satisfied: matplotlib-inline in /mnt/c/Users/Jason/Desktop/Fall2025/RCOS/FinAI-Contest/.venv/lib/python3.12/site-packages (from ipython>=3.2.3->pyfolio-reloaded<0.10,>=0.9->finrl==0.3.8) (0.1.7)\n",
      "Requirement already satisfied: pexpect>4.3 in /mnt/c/Users/Jason/Desktop/Fall2025/RCOS/FinAI-Contest/.venv/lib/python3.12/site-packages (from ipython>=3.2.3->pyfolio-reloaded<0.10,>=0.9->finrl==0.3.8) (4.9.0)\n",
      "Requirement already satisfied: prompt_toolkit<3.1.0,>=3.0.41 in /mnt/c/Users/Jason/Desktop/Fall2025/RCOS/FinAI-Contest/.venv/lib/python3.12/site-packages (from ipython>=3.2.3->pyfolio-reloaded<0.10,>=0.9->finrl==0.3.8) (3.0.52)\n",
      "Requirement already satisfied: pygments>=2.4.0 in /mnt/c/Users/Jason/Desktop/Fall2025/RCOS/FinAI-Contest/.venv/lib/python3.12/site-packages (from ipython>=3.2.3->pyfolio-reloaded<0.10,>=0.9->finrl==0.3.8) (2.19.2)\n",
      "Requirement already satisfied: stack_data in /mnt/c/Users/Jason/Desktop/Fall2025/RCOS/FinAI-Contest/.venv/lib/python3.12/site-packages (from ipython>=3.2.3->pyfolio-reloaded<0.10,>=0.9->finrl==0.3.8) (0.6.3)\n",
      "Requirement already satisfied: traitlets>=5.13.0 in /mnt/c/Users/Jason/Desktop/Fall2025/RCOS/FinAI-Contest/.venv/lib/python3.12/site-packages (from ipython>=3.2.3->pyfolio-reloaded<0.10,>=0.9->finrl==0.3.8) (5.14.3)\n",
      "Requirement already satisfied: wcwidth in /mnt/c/Users/Jason/Desktop/Fall2025/RCOS/FinAI-Contest/.venv/lib/python3.12/site-packages (from prompt_toolkit<3.1.0,>=3.0.41->ipython>=3.2.3->pyfolio-reloaded<0.10,>=0.9->finrl==0.3.8) (0.2.14)\n",
      "Requirement already satisfied: parso<0.9.0,>=0.8.4 in /mnt/c/Users/Jason/Desktop/Fall2025/RCOS/FinAI-Contest/.venv/lib/python3.12/site-packages (from jedi>=0.16->ipython>=3.2.3->pyfolio-reloaded<0.10,>=0.9->finrl==0.3.8) (0.8.5)\n",
      "Collecting contourpy>=1.0.1 (from matplotlib->elegantrl@ git+https://github.com/AI4Finance-Foundation/ElegantRL.git->finrl==0.3.8)\n",
      "  Using cached contourpy-1.3.3-cp312-cp312-manylinux_2_27_x86_64.manylinux_2_28_x86_64.whl.metadata (5.5 kB)\n",
      "Requirement already satisfied: cycler>=0.10 in /mnt/c/Users/Jason/Desktop/Fall2025/RCOS/FinAI-Contest/.venv/lib/python3.12/site-packages (from matplotlib->elegantrl@ git+https://github.com/AI4Finance-Foundation/ElegantRL.git->finrl==0.3.8) (0.12.1)\n",
      "Requirement already satisfied: fonttools>=4.22.0 in /mnt/c/Users/Jason/Desktop/Fall2025/RCOS/FinAI-Contest/.venv/lib/python3.12/site-packages (from matplotlib->elegantrl@ git+https://github.com/AI4Finance-Foundation/ElegantRL.git->finrl==0.3.8) (4.60.0)\n",
      "Requirement already satisfied: kiwisolver>=1.3.1 in /mnt/c/Users/Jason/Desktop/Fall2025/RCOS/FinAI-Contest/.venv/lib/python3.12/site-packages (from matplotlib->elegantrl@ git+https://github.com/AI4Finance-Foundation/ElegantRL.git->finrl==0.3.8) (1.4.9)\n",
      "Requirement already satisfied: pillow>=8 in /mnt/c/Users/Jason/Desktop/Fall2025/RCOS/FinAI-Contest/.venv/lib/python3.12/site-packages (from matplotlib->elegantrl@ git+https://github.com/AI4Finance-Foundation/ElegantRL.git->finrl==0.3.8) (11.3.0)\n",
      "Requirement already satisfied: pyparsing>=2.3.1 in /mnt/c/Users/Jason/Desktop/Fall2025/RCOS/FinAI-Contest/.venv/lib/python3.12/site-packages (from matplotlib->elegantrl@ git+https://github.com/AI4Finance-Foundation/ElegantRL.git->finrl==0.3.8) (3.2.5)\n",
      "Collecting opentelemetry-api==1.37.0 (from opentelemetry-sdk>=1.30.0->ray[default,tune]<3,>=2->finrl==0.3.8)\n",
      "  Using cached opentelemetry_api-1.37.0-py3-none-any.whl.metadata (1.5 kB)\n",
      "Collecting opentelemetry-semantic-conventions==0.58b0 (from opentelemetry-sdk>=1.30.0->ray[default,tune]<3,>=2->finrl==0.3.8)\n",
      "  Using cached opentelemetry_semantic_conventions-0.58b0-py3-none-any.whl.metadata (2.4 kB)\n",
      "Collecting importlib-metadata<8.8.0,>=6.0 (from opentelemetry-api==1.37.0->opentelemetry-sdk>=1.30.0->ray[default,tune]<3,>=2->finrl==0.3.8)\n",
      "  Using cached importlib_metadata-8.7.0-py3-none-any.whl.metadata (4.8 kB)\n",
      "Requirement already satisfied: zipp>=3.20 in /mnt/c/Users/Jason/Desktop/Fall2025/RCOS/FinAI-Contest/.venv/lib/python3.12/site-packages (from importlib-metadata<8.8.0,>=6.0->opentelemetry-api==1.37.0->opentelemetry-sdk>=1.30.0->ray[default,tune]<3,>=2->finrl==0.3.8) (3.23.0)\n",
      "Requirement already satisfied: jinja2 in /mnt/c/Users/Jason/Desktop/Fall2025/RCOS/FinAI-Contest/.venv/lib/python3.12/site-packages (from osqp>=1.0.0->cvxpy>=1.1.19->pyportfolioopt<2,>=1->finrl==0.3.8) (3.1.6)\n",
      "Requirement already satisfied: ptyprocess>=0.5 in /mnt/c/Users/Jason/Desktop/Fall2025/RCOS/FinAI-Contest/.venv/lib/python3.12/site-packages (from pexpect>4.3->ipython>=3.2.3->pyfolio-reloaded<0.10,>=0.9->finrl==0.3.8) (0.7.0)\n",
      "Collecting torch<3.0,>=2.3 (from stable-baselines3>=2.0.0a5->stable-baselines3[extra]>=2.0.0a5->finrl==0.3.8)\n",
      "  Using cached torch-2.8.0-cp312-cp312-manylinux_2_28_x86_64.whl.metadata (30 kB)\n",
      "Requirement already satisfied: cloudpickle in /mnt/c/Users/Jason/Desktop/Fall2025/RCOS/FinAI-Contest/.venv/lib/python3.12/site-packages (from stable-baselines3>=2.0.0a5->stable-baselines3[extra]>=2.0.0a5->finrl==0.3.8) (3.1.1)\n",
      "Requirement already satisfied: farama-notifications>=0.0.1 in /mnt/c/Users/Jason/Desktop/Fall2025/RCOS/FinAI-Contest/.venv/lib/python3.12/site-packages (from gymnasium->elegantrl@ git+https://github.com/AI4Finance-Foundation/ElegantRL.git->finrl==0.3.8) (0.0.4)\n",
      "Requirement already satisfied: sympy>=1.13.3 in /mnt/c/Users/Jason/Desktop/Fall2025/RCOS/FinAI-Contest/.venv/lib/python3.12/site-packages (from torch<3.0,>=2.3->stable-baselines3>=2.0.0a5->stable-baselines3[extra]>=2.0.0a5->finrl==0.3.8) (1.14.0)\n",
      "Requirement already satisfied: networkx in /mnt/c/Users/Jason/Desktop/Fall2025/RCOS/FinAI-Contest/.venv/lib/python3.12/site-packages (from torch<3.0,>=2.3->stable-baselines3>=2.0.0a5->stable-baselines3[extra]>=2.0.0a5->finrl==0.3.8) (3.5)\n",
      "Requirement already satisfied: nvidia-cuda-nvrtc-cu12==12.8.93 in /mnt/c/Users/Jason/Desktop/Fall2025/RCOS/FinAI-Contest/.venv/lib/python3.12/site-packages (from torch<3.0,>=2.3->stable-baselines3>=2.0.0a5->stable-baselines3[extra]>=2.0.0a5->finrl==0.3.8) (12.8.93)\n",
      "Requirement already satisfied: nvidia-cuda-runtime-cu12==12.8.90 in /mnt/c/Users/Jason/Desktop/Fall2025/RCOS/FinAI-Contest/.venv/lib/python3.12/site-packages (from torch<3.0,>=2.3->stable-baselines3>=2.0.0a5->stable-baselines3[extra]>=2.0.0a5->finrl==0.3.8) (12.8.90)\n",
      "Requirement already satisfied: nvidia-cuda-cupti-cu12==12.8.90 in /mnt/c/Users/Jason/Desktop/Fall2025/RCOS/FinAI-Contest/.venv/lib/python3.12/site-packages (from torch<3.0,>=2.3->stable-baselines3>=2.0.0a5->stable-baselines3[extra]>=2.0.0a5->finrl==0.3.8) (12.8.90)\n",
      "Collecting nvidia-cudnn-cu12==9.10.2.21 (from torch<3.0,>=2.3->stable-baselines3>=2.0.0a5->stable-baselines3[extra]>=2.0.0a5->finrl==0.3.8)\n",
      "  Using cached nvidia_cudnn_cu12-9.10.2.21-py3-none-manylinux_2_27_x86_64.whl.metadata (1.8 kB)\n",
      "Requirement already satisfied: nvidia-cublas-cu12==12.8.4.1 in /mnt/c/Users/Jason/Desktop/Fall2025/RCOS/FinAI-Contest/.venv/lib/python3.12/site-packages (from torch<3.0,>=2.3->stable-baselines3>=2.0.0a5->stable-baselines3[extra]>=2.0.0a5->finrl==0.3.8) (12.8.4.1)\n",
      "Collecting nvidia-cufft-cu12==11.3.3.83 (from torch<3.0,>=2.3->stable-baselines3>=2.0.0a5->stable-baselines3[extra]>=2.0.0a5->finrl==0.3.8)\n",
      "  Using cached nvidia_cufft_cu12-11.3.3.83-py3-none-manylinux2014_x86_64.manylinux_2_17_x86_64.whl.metadata (1.7 kB)\n",
      "Requirement already satisfied: nvidia-curand-cu12==10.3.9.90 in /mnt/c/Users/Jason/Desktop/Fall2025/RCOS/FinAI-Contest/.venv/lib/python3.12/site-packages (from torch<3.0,>=2.3->stable-baselines3>=2.0.0a5->stable-baselines3[extra]>=2.0.0a5->finrl==0.3.8) (10.3.9.90)\n",
      "Collecting nvidia-cusolver-cu12==11.7.3.90 (from torch<3.0,>=2.3->stable-baselines3>=2.0.0a5->stable-baselines3[extra]>=2.0.0a5->finrl==0.3.8)\n",
      "  Using cached nvidia_cusolver_cu12-11.7.3.90-py3-none-manylinux_2_27_x86_64.whl.metadata (1.8 kB)\n",
      "Collecting nvidia-cusparse-cu12==12.5.8.93 (from torch<3.0,>=2.3->stable-baselines3>=2.0.0a5->stable-baselines3[extra]>=2.0.0a5->finrl==0.3.8)\n",
      "  Using cached nvidia_cusparse_cu12-12.5.8.93-py3-none-manylinux2014_x86_64.manylinux_2_17_x86_64.whl.metadata (1.8 kB)\n",
      "Requirement already satisfied: nvidia-cusparselt-cu12==0.7.1 in /mnt/c/Users/Jason/Desktop/Fall2025/RCOS/FinAI-Contest/.venv/lib/python3.12/site-packages (from torch<3.0,>=2.3->stable-baselines3>=2.0.0a5->stable-baselines3[extra]>=2.0.0a5->finrl==0.3.8) (0.7.1)\n",
      "Requirement already satisfied: nvidia-nccl-cu12==2.27.3 in /mnt/c/Users/Jason/Desktop/Fall2025/RCOS/FinAI-Contest/.venv/lib/python3.12/site-packages (from torch<3.0,>=2.3->stable-baselines3>=2.0.0a5->stable-baselines3[extra]>=2.0.0a5->finrl==0.3.8) (2.27.3)\n",
      "Requirement already satisfied: nvidia-nvtx-cu12==12.8.90 in /mnt/c/Users/Jason/Desktop/Fall2025/RCOS/FinAI-Contest/.venv/lib/python3.12/site-packages (from torch<3.0,>=2.3->stable-baselines3>=2.0.0a5->stable-baselines3[extra]>=2.0.0a5->finrl==0.3.8) (12.8.90)\n",
      "Requirement already satisfied: nvidia-nvjitlink-cu12==12.8.93 in /mnt/c/Users/Jason/Desktop/Fall2025/RCOS/FinAI-Contest/.venv/lib/python3.12/site-packages (from torch<3.0,>=2.3->stable-baselines3>=2.0.0a5->stable-baselines3[extra]>=2.0.0a5->finrl==0.3.8) (12.8.93)\n",
      "Requirement already satisfied: nvidia-cufile-cu12==1.13.1.3 in /mnt/c/Users/Jason/Desktop/Fall2025/RCOS/FinAI-Contest/.venv/lib/python3.12/site-packages (from torch<3.0,>=2.3->stable-baselines3>=2.0.0a5->stable-baselines3[extra]>=2.0.0a5->finrl==0.3.8) (1.13.1.3)\n",
      "Requirement already satisfied: triton==3.4.0 in /mnt/c/Users/Jason/Desktop/Fall2025/RCOS/FinAI-Contest/.venv/lib/python3.12/site-packages (from torch<3.0,>=2.3->stable-baselines3>=2.0.0a5->stable-baselines3[extra]>=2.0.0a5->finrl==0.3.8) (3.4.0)\n",
      "Collecting opencv-python (from stable-baselines3[extra]>=2.0.0a5->finrl==0.3.8)\n",
      "  Using cached opencv_python-4.12.0.88-cp37-abi3-manylinux2014_x86_64.manylinux_2_17_x86_64.whl.metadata (19 kB)\n",
      "Requirement already satisfied: pygame in /mnt/c/Users/Jason/Desktop/Fall2025/RCOS/FinAI-Contest/.venv/lib/python3.12/site-packages (from stable-baselines3[extra]>=2.0.0a5->finrl==0.3.8) (2.6.1)\n",
      "Requirement already satisfied: tensorboard>=2.9.1 in /mnt/c/Users/Jason/Desktop/Fall2025/RCOS/FinAI-Contest/.venv/lib/python3.12/site-packages (from stable-baselines3[extra]>=2.0.0a5->finrl==0.3.8) (2.20.0)\n",
      "Requirement already satisfied: psutil in /mnt/c/Users/Jason/Desktop/Fall2025/RCOS/FinAI-Contest/.venv/lib/python3.12/site-packages (from stable-baselines3[extra]>=2.0.0a5->finrl==0.3.8) (7.1.0)\n",
      "Requirement already satisfied: tqdm in /mnt/c/Users/Jason/Desktop/Fall2025/RCOS/FinAI-Contest/.venv/lib/python3.12/site-packages (from stable-baselines3[extra]>=2.0.0a5->finrl==0.3.8) (4.67.1)\n",
      "Collecting rich (from stable-baselines3[extra]>=2.0.0a5->finrl==0.3.8)\n",
      "  Using cached rich-14.1.0-py3-none-any.whl.metadata (18 kB)\n",
      "Collecting ale-py>=0.9.0 (from stable-baselines3[extra]>=2.0.0a5->finrl==0.3.8)\n",
      "  Using cached ale_py-0.11.2-cp312-cp312-manylinux2014_x86_64.manylinux_2_17_x86_64.whl.metadata (9.0 kB)\n",
      "Requirement already satisfied: mpmath<1.4,>=1.1.0 in /mnt/c/Users/Jason/Desktop/Fall2025/RCOS/FinAI-Contest/.venv/lib/python3.12/site-packages (from sympy>=1.13.3->torch<3.0,>=2.3->stable-baselines3>=2.0.0a5->stable-baselines3[extra]>=2.0.0a5->finrl==0.3.8) (1.3.0)\n",
      "Requirement already satisfied: absl-py>=0.4 in /mnt/c/Users/Jason/Desktop/Fall2025/RCOS/FinAI-Contest/.venv/lib/python3.12/site-packages (from tensorboard>=2.9.1->stable-baselines3[extra]>=2.0.0a5->finrl==0.3.8) (2.3.1)\n",
      "Requirement already satisfied: markdown>=2.6.8 in /mnt/c/Users/Jason/Desktop/Fall2025/RCOS/FinAI-Contest/.venv/lib/python3.12/site-packages (from tensorboard>=2.9.1->stable-baselines3[extra]>=2.0.0a5->finrl==0.3.8) (3.9)\n",
      "Requirement already satisfied: tensorboard-data-server<0.8.0,>=0.7.0 in /mnt/c/Users/Jason/Desktop/Fall2025/RCOS/FinAI-Contest/.venv/lib/python3.12/site-packages (from tensorboard>=2.9.1->stable-baselines3[extra]>=2.0.0a5->finrl==0.3.8) (0.7.2)\n",
      "Requirement already satisfied: werkzeug>=1.0.1 in /mnt/c/Users/Jason/Desktop/Fall2025/RCOS/FinAI-Contest/.venv/lib/python3.12/site-packages (from tensorboard>=2.9.1->stable-baselines3[extra]>=2.0.0a5->finrl==0.3.8) (3.1.3)\n",
      "Requirement already satisfied: ply<4.0,>=3.4 in /mnt/c/Users/Jason/Desktop/Fall2025/RCOS/FinAI-Contest/.venv/lib/python3.12/site-packages (from thriftpy2!=0.5.1,>=0.3.9->jqdatasdk<2,>=1->finrl==0.3.8) (3.11)\n",
      "Requirement already satisfied: distlib<1,>=0.3.7 in /mnt/c/Users/Jason/Desktop/Fall2025/RCOS/FinAI-Contest/.venv/lib/python3.12/site-packages (from virtualenv!=20.21.1,>=20.0.24->ray[default,tune]<3,>=2->finrl==0.3.8) (0.4.0)\n",
      "Requirement already satisfied: MarkupSafe>=2.1.1 in /mnt/c/Users/Jason/Desktop/Fall2025/RCOS/FinAI-Contest/.venv/lib/python3.12/site-packages (from werkzeug>=1.0.1->tensorboard>=2.9.1->stable-baselines3[extra]>=2.0.0a5->finrl==0.3.8) (3.0.2)\n",
      "Requirement already satisfied: h11<1,>=0.9.0 in /mnt/c/Users/Jason/Desktop/Fall2025/RCOS/FinAI-Contest/.venv/lib/python3.12/site-packages (from wsproto>=0.14->trio-websocket~=0.9->selenium<5,>=4->finrl==0.3.8) (0.16.0)\n",
      "Requirement already satisfied: jsonschema-specifications>=2023.03.6 in /mnt/c/Users/Jason/Desktop/Fall2025/RCOS/FinAI-Contest/.venv/lib/python3.12/site-packages (from jsonschema->ray<3,>=2->ray[default,tune]<3,>=2->finrl==0.3.8) (2025.9.1)\n",
      "Requirement already satisfied: referencing>=0.28.4 in /mnt/c/Users/Jason/Desktop/Fall2025/RCOS/FinAI-Contest/.venv/lib/python3.12/site-packages (from jsonschema->ray<3,>=2->ray[default,tune]<3,>=2->finrl==0.3.8) (0.36.2)\n",
      "Requirement already satisfied: rpds-py>=0.7.1 in /mnt/c/Users/Jason/Desktop/Fall2025/RCOS/FinAI-Contest/.venv/lib/python3.12/site-packages (from jsonschema->ray<3,>=2->ray[default,tune]<3,>=2->finrl==0.3.8) (0.27.1)\n",
      "Requirement already satisfied: opencensus-context>=0.1.3 in /mnt/c/Users/Jason/Desktop/Fall2025/RCOS/FinAI-Contest/.venv/lib/python3.12/site-packages (from opencensus->ray[default,tune]<3,>=2->finrl==0.3.8) (0.1.3)\n",
      "Collecting google-api-core<3.0.0,>=1.0.0 (from opencensus->ray[default,tune]<3,>=2->finrl==0.3.8)\n",
      "  Using cached google_api_core-2.25.1-py3-none-any.whl.metadata (3.0 kB)\n",
      "Collecting googleapis-common-protos<2.0.0,>=1.56.2 (from google-api-core<3.0.0,>=1.0.0->opencensus->ray[default,tune]<3,>=2->finrl==0.3.8)\n",
      "  Using cached googleapis_common_protos-1.70.0-py3-none-any.whl.metadata (9.3 kB)\n",
      "Requirement already satisfied: proto-plus<2.0.0,>=1.22.3 in /mnt/c/Users/Jason/Desktop/Fall2025/RCOS/FinAI-Contest/.venv/lib/python3.12/site-packages (from google-api-core<3.0.0,>=1.0.0->opencensus->ray[default,tune]<3,>=2->finrl==0.3.8) (1.26.1)\n",
      "Collecting google-auth<3.0.0,>=2.14.1 (from google-api-core<3.0.0,>=1.0.0->opencensus->ray[default,tune]<3,>=2->finrl==0.3.8)\n",
      "  Using cached google_auth-2.40.3-py2.py3-none-any.whl.metadata (6.2 kB)\n",
      "Requirement already satisfied: cachetools<6.0,>=2.0.0 in /mnt/c/Users/Jason/Desktop/Fall2025/RCOS/FinAI-Contest/.venv/lib/python3.12/site-packages (from google-auth<3.0.0,>=2.14.1->google-api-core<3.0.0,>=1.0.0->opencensus->ray[default,tune]<3,>=2->finrl==0.3.8) (5.5.2)\n",
      "Requirement already satisfied: pyasn1-modules>=0.2.1 in /mnt/c/Users/Jason/Desktop/Fall2025/RCOS/FinAI-Contest/.venv/lib/python3.12/site-packages (from google-auth<3.0.0,>=2.14.1->google-api-core<3.0.0,>=1.0.0->opencensus->ray[default,tune]<3,>=2->finrl==0.3.8) (0.4.2)\n",
      "Requirement already satisfied: rsa<5,>=3.1.4 in /mnt/c/Users/Jason/Desktop/Fall2025/RCOS/FinAI-Contest/.venv/lib/python3.12/site-packages (from google-auth<3.0.0,>=2.14.1->google-api-core<3.0.0,>=1.0.0->opencensus->ray[default,tune]<3,>=2->finrl==0.3.8) (4.9.1)\n",
      "Requirement already satisfied: pyasn1>=0.1.3 in /mnt/c/Users/Jason/Desktop/Fall2025/RCOS/FinAI-Contest/.venv/lib/python3.12/site-packages (from rsa<5,>=3.1.4->google-auth<3.0.0,>=2.14.1->google-api-core<3.0.0,>=1.0.0->opencensus->ray[default,tune]<3,>=2->finrl==0.3.8) (0.6.1)\n",
      "Collecting markdown-it-py>=2.2.0 (from rich->stable-baselines3[extra]>=2.0.0a5->finrl==0.3.8)\n",
      "  Using cached markdown_it_py-4.0.0-py3-none-any.whl.metadata (7.3 kB)\n",
      "Requirement already satisfied: mdurl~=0.1 in /mnt/c/Users/Jason/Desktop/Fall2025/RCOS/FinAI-Contest/.venv/lib/python3.12/site-packages (from markdown-it-py>=2.2.0->rich->stable-baselines3[extra]>=2.0.0a5->finrl==0.3.8) (0.1.2)\n",
      "Requirement already satisfied: wrapt in /mnt/c/Users/Jason/Desktop/Fall2025/RCOS/FinAI-Contest/.venv/lib/python3.12/site-packages (from smart_open->ray[default,tune]<3,>=2->finrl==0.3.8) (1.17.3)\n",
      "Requirement already satisfied: executing>=1.2.0 in /mnt/c/Users/Jason/Desktop/Fall2025/RCOS/FinAI-Contest/.venv/lib/python3.12/site-packages (from stack_data->ipython>=3.2.3->pyfolio-reloaded<0.10,>=0.9->finrl==0.3.8) (2.2.1)\n",
      "Requirement already satisfied: asttokens>=2.1.0 in /mnt/c/Users/Jason/Desktop/Fall2025/RCOS/FinAI-Contest/.venv/lib/python3.12/site-packages (from stack_data->ipython>=3.2.3->pyfolio-reloaded<0.10,>=0.9->finrl==0.3.8) (3.0.0)\n",
      "Requirement already satisfied: pure-eval in /mnt/c/Users/Jason/Desktop/Fall2025/RCOS/FinAI-Contest/.venv/lib/python3.12/site-packages (from stack_data->ipython>=3.2.3->pyfolio-reloaded<0.10,>=0.9->finrl==0.3.8) (0.2.3)\n",
      "Requirement already satisfied: niltype<2.0,>=0.3 in /mnt/c/Users/Jason/Desktop/Fall2025/RCOS/FinAI-Contest/.venv/lib/python3.12/site-packages (from th->elegantrl@ git+https://github.com/AI4Finance-Foundation/ElegantRL.git->finrl==0.3.8) (1.0.2)\n",
      "Using cached alpaca_py-0.37.0-py3-none-any.whl (121 kB)\n",
      "Using cached alpaca_trade_api-3.2.0-py3-none-any.whl (34 kB)\n",
      "Using cached deprecation-2.1.0-py2.py3-none-any.whl (11 kB)\n",
      "Using cached aiohttp-3.12.15-cp312-cp312-manylinux_2_17_x86_64.manylinux2014_x86_64.whl (1.7 MB)\n",
      "Using cached ccxt-3.1.60-py2.py3-none-any.whl (4.0 MB)\n",
      "Using cached jqdatasdk-1.9.7-py3-none-any.whl (77 kB)\n",
      "Using cached pandas_market_calendars-5.1.1-py3-none-any.whl (127 kB)\n",
      "Using cached pyfolio_reloaded-0.9.9-py3-none-any.whl (6.2 MB)\n",
      "Using cached pyportfolioopt-1.5.6-py3-none-any.whl (62 kB)\n",
      "Using cached ecos-2.0.14-cp312-cp312-manylinux_2_17_x86_64.manylinux2014_x86_64.whl (222 kB)\n",
      "Using cached ray-2.49.2-cp312-cp312-manylinux2014_x86_64.whl (70.1 MB)\n",
      "Using cached scikit_learn-1.7.2-cp312-cp312-manylinux2014_x86_64.manylinux_2_17_x86_64.whl (9.5 MB)\n",
      "Using cached selenium-4.32.0-py3-none-any.whl (9.4 MB)\n",
      "Using cached stockstats-0.5.4-py2.py3-none-any.whl (21 kB)\n",
      "Using cached trio_websocket-0.12.2-py3-none-any.whl (21 kB)\n",
      "Using cached webdriver_manager-4.0.2-py2.py3-none-any.whl (27 kB)\n",
      "Using cached wrds-3.4.0-py3-none-any.whl (14 kB)\n",
      "Using cached pandas-2.2.3-cp312-cp312-manylinux_2_17_x86_64.manylinux2014_x86_64.whl (12.7 MB)\n",
      "Using cached yfinance-0.2.58-py2.py3-none-any.whl (113 kB)\n",
      "Using cached aiodns-3.5.0-py3-none-any.whl (8.1 kB)\n",
      "Using cached aiosignal-1.4.0-py3-none-any.whl (7.5 kB)\n",
      "Using cached cryptography-46.0.1-cp311-abi3-manylinux_2_34_x86_64.whl (4.6 MB)\n",
      "Using cached curl_cffi-0.13.0-cp39-abi3-manylinux_2_17_x86_64.manylinux2014_x86_64.whl (8.3 MB)\n",
      "Using cached cvxpy-1.7.3-cp312-cp312-manylinux_2_24_x86_64.manylinux_2_28_x86_64.whl (1.2 MB)\n",
      "Using cached clarabel-0.11.1-cp39-abi3-manylinux_2_17_x86_64.manylinux2014_x86_64.whl (1.2 MB)\n",
      "Using cached empyrical_reloaded-0.5.12-py3-none-any.whl (33 kB)\n",
      "Using cached bottleneck-1.6.0-cp312-cp312-manylinux1_x86_64.manylinux_2_28_x86_64.manylinux_2_5_x86_64.whl (377 kB)\n",
      "Using cached exchange_calendars-4.11.1-py3-none-any.whl (208 kB)\n",
      "Using cached matplotlib-3.10.6-cp312-cp312-manylinux2014_x86_64.manylinux_2_17_x86_64.whl (8.7 MB)\n",
      "Using cached contourpy-1.3.3-cp312-cp312-manylinux_2_27_x86_64.manylinux_2_28_x86_64.whl (362 kB)\n",
      "Using cached opentelemetry_sdk-1.37.0-py3-none-any.whl (131 kB)\n",
      "Using cached opentelemetry_api-1.37.0-py3-none-any.whl (65 kB)\n",
      "Using cached opentelemetry_semantic_conventions-0.58b0-py3-none-any.whl (207 kB)\n",
      "Using cached importlib_metadata-8.7.0-py3-none-any.whl (27 kB)\n",
      "Using cached osqp-1.0.4-cp312-cp312-manylinux_2_17_x86_64.manylinux2014_x86_64.whl (345 kB)\n",
      "Using cached scs-3.2.8-cp312-cp312-manylinux_2_27_x86_64.manylinux_2_28_x86_64.whl (12.1 MB)\n",
      "Using cached seaborn-0.13.2-py3-none-any.whl (294 kB)\n",
      "Using cached stable_baselines3-2.7.0-py3-none-any.whl (187 kB)\n",
      "Using cached gymnasium-1.2.1-py3-none-any.whl (951 kB)\n",
      "Using cached torch-2.8.0-cp312-cp312-manylinux_2_28_x86_64.whl (887.9 MB)\n",
      "Using cached nvidia_cudnn_cu12-9.10.2.21-py3-none-manylinux_2_27_x86_64.whl (706.8 MB)\n",
      "Using cached nvidia_cufft_cu12-11.3.3.83-py3-none-manylinux2014_x86_64.manylinux_2_17_x86_64.whl (193.1 MB)\n",
      "Using cached nvidia_cusolver_cu12-11.7.3.90-py3-none-manylinux_2_27_x86_64.whl (267.5 MB)\n",
      "Using cached nvidia_cusparse_cu12-12.5.8.93-py3-none-manylinux2014_x86_64.manylinux_2_17_x86_64.whl (288.2 MB)\n",
      "Using cached ale_py-0.11.2-cp312-cp312-manylinux2014_x86_64.manylinux_2_17_x86_64.whl (5.1 MB)\n",
      "Using cached aiohttp_cors-0.8.1-py3-none-any.whl (25 kB)\n",
      "Using cached opencensus-0.11.4-py2.py3-none-any.whl (128 kB)\n",
      "Using cached google_api_core-2.25.1-py3-none-any.whl (160 kB)\n",
      "Using cached google_auth-2.40.3-py2.py3-none-any.whl (216 kB)\n",
      "Using cached googleapis_common_protos-1.70.0-py3-none-any.whl (294 kB)\n",
      "Using cached opencv_python-4.12.0.88-cp37-abi3-manylinux2014_x86_64.manylinux_2_17_x86_64.whl (67.0 MB)\n",
      "Using cached opentelemetry_exporter_prometheus-0.58b0-py3-none-any.whl (13 kB)\n",
      "Using cached opentelemetry_proto-1.37.0-py3-none-any.whl (72 kB)\n",
      "Using cached rich-14.1.0-py3-none-any.whl (243 kB)\n",
      "Using cached markdown_it_py-4.0.0-py3-none-any.whl (87 kB)\n",
      "Building wheels for collected packages: finrl, elegantrl\n",
      "  Building wheel for finrl (pyproject.toml) ... \u001b[?25ldone\n",
      "\u001b[?25h  Created wheel for finrl: filename=finrl-0.3.8-py3-none-any.whl size=4708298 sha256=030ab73acdf8becd0f2bf695379bdab1fc15f2eedc2e6bd8fc221f755808db09\n",
      "  Stored in directory: /tmp/pip-ephem-wheel-cache-pp3vxgcw/wheels/75/7a/79/95181012954308797e409c0000c27f09e45eba600eea38e0cd\n",
      "\u001b[33m  DEPRECATION: Building 'elegantrl' using the legacy setup.py bdist_wheel mechanism, which will be removed in a future version. pip 25.3 will enforce this behaviour change. A possible replacement is to use the standardized build interface by setting the `--use-pep517` option, (possibly combined with `--no-build-isolation`), or adding a `pyproject.toml` file to the source tree of 'elegantrl'. Discussion can be found at https://github.com/pypa/pip/issues/6334\u001b[0m\u001b[33m\n",
      "\u001b[0m  Building wheel for elegantrl (setup.py) ... \u001b[?25ldone\n",
      "\u001b[?25h  Created wheel for elegantrl: filename=elegantrl-0.3.10-py3-none-any.whl size=499919 sha256=0d040f55c27b674c2e100fcda9de8e2b34e34f960947af32bdbcea3fc8a7bd68\n",
      "  Stored in directory: /tmp/pip-ephem-wheel-cache-pp3vxgcw/wheels/9c/5b/ab/08c31d65e0f7222036d6205228911a64df4db0c13eea32f11a\n",
      "Successfully built finrl elegantrl\n",
      "Installing collected packages: opentelemetry-proto, opencv-python, nvidia-cusparse-cu12, nvidia-cufft-cu12, nvidia-cudnn-cu12, markdown-it-py, importlib-metadata, gymnasium, googleapis-common-protos, deprecation, contourpy, bottleneck, ale-py, aiosignal, webdriver-manager, scs, scikit-learn, rich, pandas, osqp, opentelemetry-api, nvidia-cusolver-cu12, matplotlib, google-auth, ecos, curl_cffi, cryptography, clarabel, aiohttp, yfinance, wrds, trio-websocket, torch, stockstats, seaborn, opentelemetry-semantic-conventions, jqdatasdk, google-api-core, exchange-calendars, empyrical-reloaded, elegantrl, cvxpy, alpaca-trade-api, alpaca-py, aiohttp_cors, aiodns, stable-baselines3, selenium, ray, pyportfolioopt, pyfolio-reloaded, pandas-market-calendars, opentelemetry-sdk, opencensus, ccxt, opentelemetry-exporter-prometheus, finrl\n",
      "\u001b[2K   \u001b[90m━━━━━━━━━━━━━━━━━━━━━━━━━━━━━━━━━━━━━━━━\u001b[0m \u001b[32m57/57\u001b[0m [finrl]m [finrl]entelemetry-exporter-prometheus]\n",
      "\u001b[1A\u001b[2KSuccessfully installed aiodns-3.5.0 aiohttp-3.12.15 aiohttp_cors-0.8.1 aiosignal-1.4.0 ale-py-0.11.2 alpaca-py-0.37.0 alpaca-trade-api-3.2.0 bottleneck-1.6.0 ccxt-3.1.60 clarabel-0.11.1 contourpy-1.3.3 cryptography-46.0.1 curl_cffi-0.13.0 cvxpy-1.7.3 deprecation-2.1.0 ecos-2.0.14 elegantrl-0.3.10 empyrical-reloaded-0.5.12 exchange-calendars-4.11.1 finrl-0.3.8 google-api-core-2.25.1 google-auth-2.40.3 googleapis-common-protos-1.70.0 gymnasium-1.2.1 importlib-metadata-8.7.0 jqdatasdk-1.9.7 markdown-it-py-4.0.0 matplotlib-3.10.6 nvidia-cudnn-cu12-9.10.2.21 nvidia-cufft-cu12-11.3.3.83 nvidia-cusolver-cu12-11.7.3.90 nvidia-cusparse-cu12-12.5.8.93 opencensus-0.11.4 opencv-python-4.12.0.88 opentelemetry-api-1.37.0 opentelemetry-exporter-prometheus-0.58b0 opentelemetry-proto-1.37.0 opentelemetry-sdk-1.37.0 opentelemetry-semantic-conventions-0.58b0 osqp-1.0.4 pandas-2.2.3 pandas-market-calendars-5.1.1 pyfolio-reloaded-0.9.9 pyportfolioopt-1.5.6 ray-2.49.2 rich-14.1.0 scikit-learn-1.7.2 scs-3.2.8 seaborn-0.13.2 selenium-4.32.0 stable-baselines3-2.7.0 stockstats-0.5.4 torch-2.8.0 trio-websocket-0.12.2 webdriver-manager-4.0.2 wrds-3.4.0 yfinance-0.2.58\n"
     ]
    }
   ],
   "source": [
    "## install finrl library\n",
    "!pip install git+https://github.com/AI4Finance-Foundation/FinRL.git"
   ]
  },
  {
   "cell_type": "code",
   "execution_count": 3,
   "metadata": {
    "id": "j37flV31OJGW"
   },
   "outputs": [],
   "source": [
    "import pandas as pd\n",
    "import yfinance as yf\n",
    "\n",
    "from finrl.meta.preprocessor.yahoodownloader import YahooDownloader\n",
    "from finrl.meta.preprocessor.preprocessors import FeatureEngineer, data_split\n",
    "from finrl import config_tickers\n",
    "from finrl.config import INDICATORS\n",
    "from finrl.config import *\n",
    "import itertools"
   ]
  },
  {
   "cell_type": "markdown",
   "metadata": {
    "id": "wxsN8i7tg07U"
   },
   "source": [
    "# Part 2. Fetch data"
   ]
  },
  {
   "cell_type": "markdown",
   "metadata": {
    "id": "fMNm9tCMXy8J"
   },
   "source": [
    "[yfinance](https://github.com/ranaroussi/yfinance) is an open-source library that provides APIs fetching historical data form Yahoo Finance. In FinRL, we have a class called [YahooDownloader](https://github.com/AI4Finance-Foundation/FinRL/blob/master/finrl/meta/preprocessor/yahoodownloader.py) that use yfinance to fetch data from Yahoo Finance."
   ]
  },
  {
   "cell_type": "markdown",
   "metadata": {
    "id": "CWVXUkzaZE8m"
   },
   "source": [
    "**OHLCV**: Data downloaded are in the form of OHLCV, corresponding to **open, high, low, close, volume,** respectively. OHLCV is important because they contain most of numerical information of a stock in time series. From OHLCV, traders can get further judgement and prediction like the momentum, people's interest, market trends, etc."
   ]
  },
  {
   "cell_type": "markdown",
   "metadata": {
    "id": "jRYlbdMpW9Np"
   },
   "source": [
    "## Data for a single ticker"
   ]
  },
  {
   "cell_type": "markdown",
   "metadata": {
    "id": "1wo6pCQYXDbz"
   },
   "source": [
    "Here we provide two ways to fetch data with single ticker, let's take Apple Inc. (AAPL) as an example."
   ]
  },
  {
   "cell_type": "markdown",
   "metadata": {
    "id": "yzVRe90WXLB1"
   },
   "source": [
    "### Using yfinance"
   ]
  },
  {
   "cell_type": "code",
   "execution_count": 4,
   "metadata": {
    "colab": {
     "base_uri": "https://localhost:8080/"
    },
    "id": "SSl6mVV7XNw6",
    "outputId": "460c06eb-c71d-4ebb-fe17-481295d70cff"
   },
   "outputs": [
    {
     "name": "stdout",
     "output_type": "stream",
     "text": [
      "YF.download() has changed argument auto_adjust default to True\n"
     ]
    },
    {
     "name": "stderr",
     "output_type": "stream",
     "text": [
      "[*********************100%***********************]  1 of 1 completed\n"
     ]
    }
   ],
   "source": [
    "TRAIN_START_DATE = '2020-01-01'\n",
    "TRADE_END_DATE = '2020-01-31'\n",
    "aapl_df_yf = yf.download(tickers = \"aapl\", start=TRAIN_START_DATE, end=TRADE_END_DATE)"
   ]
  },
  {
   "cell_type": "code",
   "execution_count": 5,
   "metadata": {
    "colab": {
     "base_uri": "https://localhost:8080/",
     "height": 238
    },
    "id": "Rjutz22rXrpR",
    "outputId": "62aadc8c-b854-403d-ac73-6cf86d53fa22"
   },
   "outputs": [
    {
     "data": {
      "text/html": [
       "<div>\n",
       "<style scoped>\n",
       "    .dataframe tbody tr th:only-of-type {\n",
       "        vertical-align: middle;\n",
       "    }\n",
       "\n",
       "    .dataframe tbody tr th {\n",
       "        vertical-align: top;\n",
       "    }\n",
       "\n",
       "    .dataframe thead tr th {\n",
       "        text-align: left;\n",
       "    }\n",
       "\n",
       "    .dataframe thead tr:last-of-type th {\n",
       "        text-align: right;\n",
       "    }\n",
       "</style>\n",
       "<table border=\"1\" class=\"dataframe\">\n",
       "  <thead>\n",
       "    <tr>\n",
       "      <th>Price</th>\n",
       "      <th>Close</th>\n",
       "      <th>High</th>\n",
       "      <th>Low</th>\n",
       "      <th>Open</th>\n",
       "      <th>Volume</th>\n",
       "    </tr>\n",
       "    <tr>\n",
       "      <th>Ticker</th>\n",
       "      <th>AAPL</th>\n",
       "      <th>AAPL</th>\n",
       "      <th>AAPL</th>\n",
       "      <th>AAPL</th>\n",
       "      <th>AAPL</th>\n",
       "    </tr>\n",
       "    <tr>\n",
       "      <th>Date</th>\n",
       "      <th></th>\n",
       "      <th></th>\n",
       "      <th></th>\n",
       "      <th></th>\n",
       "      <th></th>\n",
       "    </tr>\n",
       "  </thead>\n",
       "  <tbody>\n",
       "    <tr>\n",
       "      <th>2020-01-02</th>\n",
       "      <td>72.538506</td>\n",
       "      <td>72.598884</td>\n",
       "      <td>71.292296</td>\n",
       "      <td>71.545882</td>\n",
       "      <td>135480400</td>\n",
       "    </tr>\n",
       "    <tr>\n",
       "      <th>2020-01-03</th>\n",
       "      <td>71.833282</td>\n",
       "      <td>72.594048</td>\n",
       "      <td>71.608677</td>\n",
       "      <td>71.765659</td>\n",
       "      <td>146322800</td>\n",
       "    </tr>\n",
       "    <tr>\n",
       "      <th>2020-01-06</th>\n",
       "      <td>72.405678</td>\n",
       "      <td>72.444321</td>\n",
       "      <td>70.703012</td>\n",
       "      <td>70.954188</td>\n",
       "      <td>118387200</td>\n",
       "    </tr>\n",
       "    <tr>\n",
       "      <th>2020-01-07</th>\n",
       "      <td>72.065132</td>\n",
       "      <td>72.671325</td>\n",
       "      <td>71.845354</td>\n",
       "      <td>72.415322</td>\n",
       "      <td>108872000</td>\n",
       "    </tr>\n",
       "    <tr>\n",
       "      <th>2020-01-08</th>\n",
       "      <td>73.224403</td>\n",
       "      <td>73.526295</td>\n",
       "      <td>71.768079</td>\n",
       "      <td>71.768079</td>\n",
       "      <td>132079200</td>\n",
       "    </tr>\n",
       "  </tbody>\n",
       "</table>\n",
       "</div>"
      ],
      "text/plain": [
       "Price           Close       High        Low       Open     Volume\n",
       "Ticker           AAPL       AAPL       AAPL       AAPL       AAPL\n",
       "Date                                                             \n",
       "2020-01-02  72.538506  72.598884  71.292296  71.545882  135480400\n",
       "2020-01-03  71.833282  72.594048  71.608677  71.765659  146322800\n",
       "2020-01-06  72.405678  72.444321  70.703012  70.954188  118387200\n",
       "2020-01-07  72.065132  72.671325  71.845354  72.415322  108872000\n",
       "2020-01-08  73.224403  73.526295  71.768079  71.768079  132079200"
      ]
     },
     "execution_count": 5,
     "metadata": {},
     "output_type": "execute_result"
    }
   ],
   "source": [
    "aapl_df_yf.head()"
   ]
  },
  {
   "cell_type": "markdown",
   "metadata": {
    "id": "fHZLDmnsXOK0"
   },
   "source": [
    "### Using FinRL"
   ]
  },
  {
   "cell_type": "markdown",
   "metadata": {
    "id": "VFB77ohNbXCc"
   },
   "source": [
    "In FinRL's YahooDownloader, we modified the data frame to the form that convenient for further data processing process. We use adjusted close price instead of close price, and add a column representing the day of a week (0-4 corresponding to Monday-Friday)."
   ]
  },
  {
   "cell_type": "code",
   "execution_count": 6,
   "metadata": {
    "colab": {
     "base_uri": "https://localhost:8080/"
    },
    "id": "7ufDHvt4XBWT",
    "outputId": "41603042-4f14-4814-c569-305d85fa7f9d"
   },
   "outputs": [
    {
     "name": "stdout",
     "output_type": "stream",
     "text": [
      "YF deprecation warning: set proxy via new config function: yf.set_config(proxy=proxy)\n"
     ]
    },
    {
     "name": "stderr",
     "output_type": "stream",
     "text": [
      "[*********************100%***********************]  1 of 1 completed"
     ]
    },
    {
     "name": "stdout",
     "output_type": "stream",
     "text": [
      "Shape of DataFrame:  (146, 8)\n"
     ]
    },
    {
     "name": "stderr",
     "output_type": "stream",
     "text": [
      "\n"
     ]
    }
   ],
   "source": [
    "aapl_df_finrl = YahooDownloader(start_date = TRAIN_START_DATE,\n",
    "                                end_date = TRAIN_END_DATE,\n",
    "                                ticker_list = ['aapl']).fetch_data()"
   ]
  },
  {
   "cell_type": "code",
   "execution_count": 7,
   "metadata": {
    "colab": {
     "base_uri": "https://localhost:8080/",
     "height": 206
    },
    "id": "_TgEjXxhXtT_",
    "outputId": "a8e8a9e2-a1ea-472e-eddf-2227e6c901d8"
   },
   "outputs": [
    {
     "data": {
      "text/html": [
       "<div>\n",
       "<style scoped>\n",
       "    .dataframe tbody tr th:only-of-type {\n",
       "        vertical-align: middle;\n",
       "    }\n",
       "\n",
       "    .dataframe tbody tr th {\n",
       "        vertical-align: top;\n",
       "    }\n",
       "\n",
       "    .dataframe thead th {\n",
       "        text-align: right;\n",
       "    }\n",
       "</style>\n",
       "<table border=\"1\" class=\"dataframe\">\n",
       "  <thead>\n",
       "    <tr style=\"text-align: right;\">\n",
       "      <th>Price</th>\n",
       "      <th>date</th>\n",
       "      <th>close</th>\n",
       "      <th>high</th>\n",
       "      <th>low</th>\n",
       "      <th>open</th>\n",
       "      <th>volume</th>\n",
       "      <th>tic</th>\n",
       "      <th>day</th>\n",
       "    </tr>\n",
       "  </thead>\n",
       "  <tbody>\n",
       "    <tr>\n",
       "      <th>0</th>\n",
       "      <td>2020-01-02</td>\n",
       "      <td>72.538506</td>\n",
       "      <td>72.598884</td>\n",
       "      <td>71.292296</td>\n",
       "      <td>71.545882</td>\n",
       "      <td>135480400</td>\n",
       "      <td>aapl</td>\n",
       "      <td>3</td>\n",
       "    </tr>\n",
       "    <tr>\n",
       "      <th>1</th>\n",
       "      <td>2020-01-03</td>\n",
       "      <td>71.833282</td>\n",
       "      <td>72.594048</td>\n",
       "      <td>71.608677</td>\n",
       "      <td>71.765659</td>\n",
       "      <td>146322800</td>\n",
       "      <td>aapl</td>\n",
       "      <td>4</td>\n",
       "    </tr>\n",
       "    <tr>\n",
       "      <th>2</th>\n",
       "      <td>2020-01-06</td>\n",
       "      <td>72.405678</td>\n",
       "      <td>72.444321</td>\n",
       "      <td>70.703012</td>\n",
       "      <td>70.954188</td>\n",
       "      <td>118387200</td>\n",
       "      <td>aapl</td>\n",
       "      <td>0</td>\n",
       "    </tr>\n",
       "    <tr>\n",
       "      <th>3</th>\n",
       "      <td>2020-01-07</td>\n",
       "      <td>72.065140</td>\n",
       "      <td>72.671333</td>\n",
       "      <td>71.845362</td>\n",
       "      <td>72.415330</td>\n",
       "      <td>108872000</td>\n",
       "      <td>aapl</td>\n",
       "      <td>1</td>\n",
       "    </tr>\n",
       "    <tr>\n",
       "      <th>4</th>\n",
       "      <td>2020-01-08</td>\n",
       "      <td>73.224411</td>\n",
       "      <td>73.526303</td>\n",
       "      <td>71.768086</td>\n",
       "      <td>71.768086</td>\n",
       "      <td>132079200</td>\n",
       "      <td>aapl</td>\n",
       "      <td>2</td>\n",
       "    </tr>\n",
       "  </tbody>\n",
       "</table>\n",
       "</div>"
      ],
      "text/plain": [
       "Price        date      close       high        low       open     volume  \\\n",
       "0      2020-01-02  72.538506  72.598884  71.292296  71.545882  135480400   \n",
       "1      2020-01-03  71.833282  72.594048  71.608677  71.765659  146322800   \n",
       "2      2020-01-06  72.405678  72.444321  70.703012  70.954188  118387200   \n",
       "3      2020-01-07  72.065140  72.671333  71.845362  72.415330  108872000   \n",
       "4      2020-01-08  73.224411  73.526303  71.768086  71.768086  132079200   \n",
       "\n",
       "Price   tic  day  \n",
       "0      aapl    3  \n",
       "1      aapl    4  \n",
       "2      aapl    0  \n",
       "3      aapl    1  \n",
       "4      aapl    2  "
      ]
     },
     "execution_count": 7,
     "metadata": {},
     "output_type": "execute_result"
    }
   ],
   "source": [
    "aapl_df_finrl.head()"
   ]
  },
  {
   "cell_type": "markdown",
   "metadata": {
    "id": "9kcOE5nbic6R"
   },
   "source": [
    "## Data for the chosen tickers"
   ]
  },
  {
   "cell_type": "code",
   "execution_count": 8,
   "metadata": {
    "colab": {
     "base_uri": "https://localhost:8080/"
    },
    "id": "FKBjtAo2uIq5",
    "outputId": "927f682a-9cc3-4c11-c3f1-094ae811af6b"
   },
   "outputs": [
    {
     "data": {
      "text/plain": [
       "['AXP',\n",
       " 'AMGN',\n",
       " 'AAPL',\n",
       " 'BA',\n",
       " 'CAT',\n",
       " 'CSCO',\n",
       " 'CVX',\n",
       " 'GS',\n",
       " 'HD',\n",
       " 'HON',\n",
       " 'IBM',\n",
       " 'INTC',\n",
       " 'JNJ',\n",
       " 'KO',\n",
       " 'JPM',\n",
       " 'MCD',\n",
       " 'MMM',\n",
       " 'MRK',\n",
       " 'MSFT',\n",
       " 'NKE',\n",
       " 'PG',\n",
       " 'TRV',\n",
       " 'UNH',\n",
       " 'CRM',\n",
       " 'VZ',\n",
       " 'V',\n",
       " 'WBA',\n",
       " 'WMT',\n",
       " 'DIS',\n",
       " 'DOW']"
      ]
     },
     "execution_count": 8,
     "metadata": {},
     "output_type": "execute_result"
    }
   ],
   "source": [
    "config_tickers.DOW_30_TICKER"
   ]
  },
  {
   "cell_type": "code",
   "execution_count": 9,
   "metadata": {
    "id": "9xTPG4Fhc-zL"
   },
   "outputs": [],
   "source": [
    "TRAIN_START_DATE = '2009-01-01'\n",
    "TRAIN_END_DATE = '2022-01-01'\n",
    "VALID_START_DATE = '2022-01-01'\n",
    "VALID_END_DATE = '2022-12-31'\n",
    "TRADE_START_DATE = '2023-01-01'\n",
    "TRADE_END_DATE = '2024-12-31'"
   ]
  },
  {
   "cell_type": "code",
   "execution_count": 10,
   "metadata": {
    "colab": {
     "base_uri": "https://localhost:8080/"
    },
    "id": "9LblMI8CO0F3",
    "outputId": "7be76385-50eb-4e8d-f2e5-1795d77b70ba"
   },
   "outputs": [
    {
     "name": "stderr",
     "output_type": "stream",
     "text": [
      "[*********************100%***********************]  1 of 1 completed\n",
      "[*********************100%***********************]  1 of 1 completed\n",
      "[*********************100%***********************]  1 of 1 completed\n",
      "[*********************100%***********************]  1 of 1 completed\n",
      "[*********************100%***********************]  1 of 1 completed\n",
      "[*********************100%***********************]  1 of 1 completed\n",
      "[*********************100%***********************]  1 of 1 completed\n",
      "[*********************100%***********************]  1 of 1 completed\n",
      "[*********************100%***********************]  1 of 1 completed\n",
      "[*********************100%***********************]  1 of 1 completed\n",
      "[*********************100%***********************]  1 of 1 completed\n",
      "[*********************100%***********************]  1 of 1 completed\n",
      "[*********************100%***********************]  1 of 1 completed\n",
      "[*********************100%***********************]  1 of 1 completed\n",
      "[*********************100%***********************]  1 of 1 completed\n",
      "[*********************100%***********************]  1 of 1 completed\n",
      "[*********************100%***********************]  1 of 1 completed\n",
      "[*********************100%***********************]  1 of 1 completed\n",
      "[*********************100%***********************]  1 of 1 completed\n",
      "[*********************100%***********************]  1 of 1 completed\n",
      "[*********************100%***********************]  1 of 1 completed\n",
      "[*********************100%***********************]  1 of 1 completed\n",
      "[*********************100%***********************]  1 of 1 completed\n",
      "[*********************100%***********************]  1 of 1 completed\n",
      "[*********************100%***********************]  1 of 1 completed\n",
      "[*********************100%***********************]  1 of 1 completed\n",
      "[*********************100%***********************]  1 of 1 completed\n",
      "[*********************100%***********************]  1 of 1 completed\n",
      "[*********************100%***********************]  1 of 1 completed\n",
      "[*********************100%***********************]  1 of 1 completed\n"
     ]
    },
    {
     "name": "stdout",
     "output_type": "stream",
     "text": [
      "Shape of DataFrame:  (118181, 8)\n"
     ]
    }
   ],
   "source": [
    "df_raw = YahooDownloader(start_date = TRAIN_START_DATE,\n",
    "                     end_date = TRADE_END_DATE,\n",
    "                     ticker_list = config_tickers.DOW_30_TICKER).fetch_data()"
   ]
  },
  {
   "cell_type": "code",
   "execution_count": 11,
   "metadata": {},
   "outputs": [
    {
     "name": "stderr",
     "output_type": "stream",
     "text": [
      "[*********************100%***********************]  1 of 1 completed"
     ]
    },
    {
     "name": "stdout",
     "output_type": "stream",
     "text": [
      "Shape of DataFrame:  (501, 8)\n"
     ]
    },
    {
     "name": "stderr",
     "output_type": "stream",
     "text": [
      "\n"
     ]
    },
    {
     "data": {
      "text/html": [
       "<div>\n",
       "<style scoped>\n",
       "    .dataframe tbody tr th:only-of-type {\n",
       "        vertical-align: middle;\n",
       "    }\n",
       "\n",
       "    .dataframe tbody tr th {\n",
       "        vertical-align: top;\n",
       "    }\n",
       "\n",
       "    .dataframe thead th {\n",
       "        text-align: right;\n",
       "    }\n",
       "</style>\n",
       "<table border=\"1\" class=\"dataframe\">\n",
       "  <thead>\n",
       "    <tr style=\"text-align: right;\">\n",
       "      <th>Price</th>\n",
       "      <th>date</th>\n",
       "      <th>close</th>\n",
       "      <th>high</th>\n",
       "      <th>low</th>\n",
       "      <th>open</th>\n",
       "      <th>volume</th>\n",
       "      <th>tic</th>\n",
       "      <th>day</th>\n",
       "    </tr>\n",
       "  </thead>\n",
       "  <tbody>\n",
       "    <tr>\n",
       "      <th>0</th>\n",
       "      <td>2023-01-03</td>\n",
       "      <td>33136.371094</td>\n",
       "      <td>33387.519531</td>\n",
       "      <td>32850.570312</td>\n",
       "      <td>33148.898438</td>\n",
       "      <td>355930000</td>\n",
       "      <td>^DJI</td>\n",
       "      <td>1</td>\n",
       "    </tr>\n",
       "    <tr>\n",
       "      <th>1</th>\n",
       "      <td>2023-01-04</td>\n",
       "      <td>33269.769531</td>\n",
       "      <td>33409.101562</td>\n",
       "      <td>33033.480469</td>\n",
       "      <td>33165.140625</td>\n",
       "      <td>379400000</td>\n",
       "      <td>^DJI</td>\n",
       "      <td>2</td>\n",
       "    </tr>\n",
       "    <tr>\n",
       "      <th>2</th>\n",
       "      <td>2023-01-05</td>\n",
       "      <td>32930.078125</td>\n",
       "      <td>33191.718750</td>\n",
       "      <td>32812.328125</td>\n",
       "      <td>33191.718750</td>\n",
       "      <td>337920000</td>\n",
       "      <td>^DJI</td>\n",
       "      <td>3</td>\n",
       "    </tr>\n",
       "    <tr>\n",
       "      <th>3</th>\n",
       "      <td>2023-01-06</td>\n",
       "      <td>33630.609375</td>\n",
       "      <td>33710.660156</td>\n",
       "      <td>32997.390625</td>\n",
       "      <td>33055.300781</td>\n",
       "      <td>360740000</td>\n",
       "      <td>^DJI</td>\n",
       "      <td>4</td>\n",
       "    </tr>\n",
       "    <tr>\n",
       "      <th>4</th>\n",
       "      <td>2023-01-09</td>\n",
       "      <td>33517.648438</td>\n",
       "      <td>33935.109375</td>\n",
       "      <td>33487.660156</td>\n",
       "      <td>33664.390625</td>\n",
       "      <td>327840000</td>\n",
       "      <td>^DJI</td>\n",
       "      <td>0</td>\n",
       "    </tr>\n",
       "    <tr>\n",
       "      <th>...</th>\n",
       "      <td>...</td>\n",
       "      <td>...</td>\n",
       "      <td>...</td>\n",
       "      <td>...</td>\n",
       "      <td>...</td>\n",
       "      <td>...</td>\n",
       "      <td>...</td>\n",
       "      <td>...</td>\n",
       "    </tr>\n",
       "    <tr>\n",
       "      <th>496</th>\n",
       "      <td>2024-12-23</td>\n",
       "      <td>42906.949219</td>\n",
       "      <td>42957.789062</td>\n",
       "      <td>42516.871094</td>\n",
       "      <td>42800.488281</td>\n",
       "      <td>449390000</td>\n",
       "      <td>^DJI</td>\n",
       "      <td>0</td>\n",
       "    </tr>\n",
       "    <tr>\n",
       "      <th>497</th>\n",
       "      <td>2024-12-24</td>\n",
       "      <td>43297.031250</td>\n",
       "      <td>43297.648438</td>\n",
       "      <td>42871.761719</td>\n",
       "      <td>42916.480469</td>\n",
       "      <td>230410000</td>\n",
       "      <td>^DJI</td>\n",
       "      <td>1</td>\n",
       "    </tr>\n",
       "    <tr>\n",
       "      <th>498</th>\n",
       "      <td>2024-12-26</td>\n",
       "      <td>43325.800781</td>\n",
       "      <td>43373.980469</td>\n",
       "      <td>43115.089844</td>\n",
       "      <td>43201.851562</td>\n",
       "      <td>270350000</td>\n",
       "      <td>^DJI</td>\n",
       "      <td>3</td>\n",
       "    </tr>\n",
       "    <tr>\n",
       "      <th>499</th>\n",
       "      <td>2024-12-27</td>\n",
       "      <td>42992.210938</td>\n",
       "      <td>43238.851562</td>\n",
       "      <td>42761.558594</td>\n",
       "      <td>43142.371094</td>\n",
       "      <td>376960000</td>\n",
       "      <td>^DJI</td>\n",
       "      <td>4</td>\n",
       "    </tr>\n",
       "    <tr>\n",
       "      <th>500</th>\n",
       "      <td>2024-12-30</td>\n",
       "      <td>42573.730469</td>\n",
       "      <td>42863.859375</td>\n",
       "      <td>42263.511719</td>\n",
       "      <td>42863.859375</td>\n",
       "      <td>383300000</td>\n",
       "      <td>^DJI</td>\n",
       "      <td>0</td>\n",
       "    </tr>\n",
       "  </tbody>\n",
       "</table>\n",
       "<p>501 rows × 8 columns</p>\n",
       "</div>"
      ],
      "text/plain": [
       "Price        date         close          high           low          open  \\\n",
       "0      2023-01-03  33136.371094  33387.519531  32850.570312  33148.898438   \n",
       "1      2023-01-04  33269.769531  33409.101562  33033.480469  33165.140625   \n",
       "2      2023-01-05  32930.078125  33191.718750  32812.328125  33191.718750   \n",
       "3      2023-01-06  33630.609375  33710.660156  32997.390625  33055.300781   \n",
       "4      2023-01-09  33517.648438  33935.109375  33487.660156  33664.390625   \n",
       "..            ...           ...           ...           ...           ...   \n",
       "496    2024-12-23  42906.949219  42957.789062  42516.871094  42800.488281   \n",
       "497    2024-12-24  43297.031250  43297.648438  42871.761719  42916.480469   \n",
       "498    2024-12-26  43325.800781  43373.980469  43115.089844  43201.851562   \n",
       "499    2024-12-27  42992.210938  43238.851562  42761.558594  43142.371094   \n",
       "500    2024-12-30  42573.730469  42863.859375  42263.511719  42863.859375   \n",
       "\n",
       "Price     volume   tic  day  \n",
       "0      355930000  ^DJI    1  \n",
       "1      379400000  ^DJI    2  \n",
       "2      337920000  ^DJI    3  \n",
       "3      360740000  ^DJI    4  \n",
       "4      327840000  ^DJI    0  \n",
       "..           ...   ...  ...  \n",
       "496    449390000  ^DJI    0  \n",
       "497    230410000  ^DJI    1  \n",
       "498    270350000  ^DJI    3  \n",
       "499    376960000  ^DJI    4  \n",
       "500    383300000  ^DJI    0  \n",
       "\n",
       "[501 rows x 8 columns]"
      ]
     },
     "execution_count": 11,
     "metadata": {},
     "output_type": "execute_result"
    }
   ],
   "source": [
    "df_dji = YahooDownloader(\n",
    "    start_date=TRADE_START_DATE, end_date=TRADE_END_DATE, ticker_list=[\"^DJI\"]\n",
    ").fetch_data()\n",
    "df_dji"
   ]
  },
  {
   "cell_type": "code",
   "execution_count": 12,
   "metadata": {
    "colab": {
     "base_uri": "https://localhost:8080/",
     "height": 206
    },
    "id": "RD9cjHzt8X3A",
    "outputId": "051acda5-c8fd-440a-a5af-6be04cfdc018"
   },
   "outputs": [
    {
     "data": {
      "text/html": [
       "<div>\n",
       "<style scoped>\n",
       "    .dataframe tbody tr th:only-of-type {\n",
       "        vertical-align: middle;\n",
       "    }\n",
       "\n",
       "    .dataframe tbody tr th {\n",
       "        vertical-align: top;\n",
       "    }\n",
       "\n",
       "    .dataframe thead th {\n",
       "        text-align: right;\n",
       "    }\n",
       "</style>\n",
       "<table border=\"1\" class=\"dataframe\">\n",
       "  <thead>\n",
       "    <tr style=\"text-align: right;\">\n",
       "      <th>Price</th>\n",
       "      <th>date</th>\n",
       "      <th>close</th>\n",
       "      <th>high</th>\n",
       "      <th>low</th>\n",
       "      <th>open</th>\n",
       "      <th>volume</th>\n",
       "      <th>tic</th>\n",
       "      <th>day</th>\n",
       "    </tr>\n",
       "  </thead>\n",
       "  <tbody>\n",
       "    <tr>\n",
       "      <th>0</th>\n",
       "      <td>2009-01-02</td>\n",
       "      <td>2.724326</td>\n",
       "      <td>2.733033</td>\n",
       "      <td>2.556514</td>\n",
       "      <td>2.578128</td>\n",
       "      <td>746015200</td>\n",
       "      <td>AAPL</td>\n",
       "      <td>4</td>\n",
       "    </tr>\n",
       "    <tr>\n",
       "      <th>1</th>\n",
       "      <td>2009-01-02</td>\n",
       "      <td>40.463200</td>\n",
       "      <td>40.524934</td>\n",
       "      <td>39.612641</td>\n",
       "      <td>40.188825</td>\n",
       "      <td>6547900</td>\n",
       "      <td>AMGN</td>\n",
       "      <td>4</td>\n",
       "    </tr>\n",
       "    <tr>\n",
       "      <th>2</th>\n",
       "      <td>2009-01-02</td>\n",
       "      <td>14.891701</td>\n",
       "      <td>15.038076</td>\n",
       "      <td>14.175235</td>\n",
       "      <td>14.306202</td>\n",
       "      <td>10955700</td>\n",
       "      <td>AXP</td>\n",
       "      <td>4</td>\n",
       "    </tr>\n",
       "    <tr>\n",
       "      <th>3</th>\n",
       "      <td>2009-01-02</td>\n",
       "      <td>33.941090</td>\n",
       "      <td>34.173615</td>\n",
       "      <td>32.088393</td>\n",
       "      <td>32.103395</td>\n",
       "      <td>7010200</td>\n",
       "      <td>BA</td>\n",
       "      <td>4</td>\n",
       "    </tr>\n",
       "    <tr>\n",
       "      <th>4</th>\n",
       "      <td>2009-01-02</td>\n",
       "      <td>30.233940</td>\n",
       "      <td>30.279056</td>\n",
       "      <td>28.816019</td>\n",
       "      <td>28.944921</td>\n",
       "      <td>7117200</td>\n",
       "      <td>CAT</td>\n",
       "      <td>4</td>\n",
       "    </tr>\n",
       "  </tbody>\n",
       "</table>\n",
       "</div>"
      ],
      "text/plain": [
       "Price        date      close       high        low       open     volume  \\\n",
       "0      2009-01-02   2.724326   2.733033   2.556514   2.578128  746015200   \n",
       "1      2009-01-02  40.463200  40.524934  39.612641  40.188825    6547900   \n",
       "2      2009-01-02  14.891701  15.038076  14.175235  14.306202   10955700   \n",
       "3      2009-01-02  33.941090  34.173615  32.088393  32.103395    7010200   \n",
       "4      2009-01-02  30.233940  30.279056  28.816019  28.944921    7117200   \n",
       "\n",
       "Price   tic  day  \n",
       "0      AAPL    4  \n",
       "1      AMGN    4  \n",
       "2       AXP    4  \n",
       "3        BA    4  \n",
       "4       CAT    4  "
      ]
     },
     "execution_count": 12,
     "metadata": {},
     "output_type": "execute_result"
    }
   ],
   "source": [
    "df_raw.head()"
   ]
  },
  {
   "cell_type": "markdown",
   "metadata": {
    "id": "uqC6c40Zh1iH"
   },
   "source": [
    "# Part 3: Preprocess Data\n",
    "We need to check for missing data and do feature engineering to convert the data point into a state.\n",
    "* **Adding technical indicators**. In practical trading, various information needs to be taken into account, such as historical prices, current holding shares, technical indicators, etc. Here, we demonstrate two trend-following technical indicators: MACD and RSI.\n",
    "* **Adding turbulence index**. Risk-aversion reflects whether an investor prefers to protect the capital. It also influences one's trading strategy when facing different market volatility level. To control the risk in a worst-case scenario, such as financial crisis of 2007–2008, FinRL employs the turbulence index that measures extreme fluctuation of asset price."
   ]
  },
  {
   "cell_type": "markdown",
   "metadata": {
    "id": "1lQxLyWpdbAd"
   },
   "source": [
    "Hear let's take **MACD** as an example. Moving average convergence/divergence (MACD) is one of the most commonly used indicator showing bull and bear market. Its calculation is based on EMA (Exponential Moving Average indicator, measuring trend direction over a period of time.)"
   ]
  },
  {
   "cell_type": "code",
   "execution_count": 13,
   "metadata": {
    "colab": {
     "base_uri": "https://localhost:8080/"
    },
    "id": "PmKP-1ii3RLS",
    "outputId": "d514cf1a-8609-402e-ad58-df5f9100ec85"
   },
   "outputs": [
    {
     "name": "stdout",
     "output_type": "stream",
     "text": [
      "Successfully added technical indicators\n"
     ]
    },
    {
     "name": "stderr",
     "output_type": "stream",
     "text": [
      "[*********************100%***********************]  1 of 1 completed\n"
     ]
    },
    {
     "name": "stdout",
     "output_type": "stream",
     "text": [
      "Shape of DataFrame:  (4024, 8)\n",
      "Successfully added vix\n",
      "Successfully added turbulence index\n"
     ]
    }
   ],
   "source": [
    "fe = FeatureEngineer(use_technical_indicator=True,\n",
    "                     tech_indicator_list = INDICATORS,\n",
    "                     use_vix=True,\n",
    "                     use_turbulence=True,\n",
    "                     user_defined_feature = False)\n",
    "\n",
    "processed = fe.preprocess_data(df_raw)"
   ]
  },
  {
   "cell_type": "code",
   "execution_count": 14,
   "metadata": {
    "id": "Kixon2tR3RLT"
   },
   "outputs": [],
   "source": [
    "list_ticker = processed[\"tic\"].unique().tolist()\n",
    "list_date = list(pd.date_range(processed['date'].min(),processed['date'].max()).astype(str))\n",
    "combination = list(itertools.product(list_date,list_ticker))\n",
    "\n",
    "processed_full = pd.DataFrame(combination,columns=[\"date\",\"tic\"]).merge(processed,on=[\"date\",\"tic\"],how=\"left\")\n",
    "processed_full = processed_full[processed_full['date'].isin(processed['date'])]\n",
    "processed_full = processed_full.sort_values(['date','tic'])\n",
    "\n",
    "processed_full = processed_full.fillna(0)"
   ]
  },
  {
   "cell_type": "code",
   "execution_count": 15,
   "metadata": {
    "colab": {
     "base_uri": "https://localhost:8080/",
     "height": 357
    },
    "id": "HwKJNWJSabNK",
    "outputId": "16c8080e-91b0-4e8d-9a09-44939ac69801"
   },
   "outputs": [
    {
     "data": {
      "text/html": [
       "<div>\n",
       "<style scoped>\n",
       "    .dataframe tbody tr th:only-of-type {\n",
       "        vertical-align: middle;\n",
       "    }\n",
       "\n",
       "    .dataframe tbody tr th {\n",
       "        vertical-align: top;\n",
       "    }\n",
       "\n",
       "    .dataframe thead th {\n",
       "        text-align: right;\n",
       "    }\n",
       "</style>\n",
       "<table border=\"1\" class=\"dataframe\">\n",
       "  <thead>\n",
       "    <tr style=\"text-align: right;\">\n",
       "      <th></th>\n",
       "      <th>date</th>\n",
       "      <th>tic</th>\n",
       "      <th>close</th>\n",
       "      <th>high</th>\n",
       "      <th>low</th>\n",
       "      <th>open</th>\n",
       "      <th>volume</th>\n",
       "      <th>day</th>\n",
       "      <th>macd</th>\n",
       "      <th>boll_ub</th>\n",
       "      <th>boll_lb</th>\n",
       "      <th>rsi_30</th>\n",
       "      <th>cci_30</th>\n",
       "      <th>dx_30</th>\n",
       "      <th>close_30_sma</th>\n",
       "      <th>close_60_sma</th>\n",
       "      <th>vix</th>\n",
       "      <th>turbulence</th>\n",
       "    </tr>\n",
       "  </thead>\n",
       "  <tbody>\n",
       "    <tr>\n",
       "      <th>0</th>\n",
       "      <td>2009-01-02</td>\n",
       "      <td>AAPL</td>\n",
       "      <td>2.724326</td>\n",
       "      <td>2.733033</td>\n",
       "      <td>2.556514</td>\n",
       "      <td>2.578128</td>\n",
       "      <td>746015200.0</td>\n",
       "      <td>4.0</td>\n",
       "      <td>0.0</td>\n",
       "      <td>2.944414</td>\n",
       "      <td>2.619214</td>\n",
       "      <td>100.0</td>\n",
       "      <td>66.666667</td>\n",
       "      <td>100.0</td>\n",
       "      <td>2.724326</td>\n",
       "      <td>2.724326</td>\n",
       "      <td>39.189999</td>\n",
       "      <td>0.0</td>\n",
       "    </tr>\n",
       "    <tr>\n",
       "      <th>1</th>\n",
       "      <td>2009-01-02</td>\n",
       "      <td>AMGN</td>\n",
       "      <td>40.463200</td>\n",
       "      <td>40.524934</td>\n",
       "      <td>39.612641</td>\n",
       "      <td>40.188825</td>\n",
       "      <td>6547900.0</td>\n",
       "      <td>4.0</td>\n",
       "      <td>0.0</td>\n",
       "      <td>2.944414</td>\n",
       "      <td>2.619214</td>\n",
       "      <td>100.0</td>\n",
       "      <td>66.666667</td>\n",
       "      <td>100.0</td>\n",
       "      <td>40.463200</td>\n",
       "      <td>40.463200</td>\n",
       "      <td>39.189999</td>\n",
       "      <td>0.0</td>\n",
       "    </tr>\n",
       "    <tr>\n",
       "      <th>2</th>\n",
       "      <td>2009-01-02</td>\n",
       "      <td>AXP</td>\n",
       "      <td>14.891701</td>\n",
       "      <td>15.038076</td>\n",
       "      <td>14.175235</td>\n",
       "      <td>14.306202</td>\n",
       "      <td>10955700.0</td>\n",
       "      <td>4.0</td>\n",
       "      <td>0.0</td>\n",
       "      <td>2.944414</td>\n",
       "      <td>2.619214</td>\n",
       "      <td>100.0</td>\n",
       "      <td>66.666667</td>\n",
       "      <td>100.0</td>\n",
       "      <td>14.891701</td>\n",
       "      <td>14.891701</td>\n",
       "      <td>39.189999</td>\n",
       "      <td>0.0</td>\n",
       "    </tr>\n",
       "    <tr>\n",
       "      <th>3</th>\n",
       "      <td>2009-01-02</td>\n",
       "      <td>BA</td>\n",
       "      <td>33.941090</td>\n",
       "      <td>34.173615</td>\n",
       "      <td>32.088393</td>\n",
       "      <td>32.103395</td>\n",
       "      <td>7010200.0</td>\n",
       "      <td>4.0</td>\n",
       "      <td>0.0</td>\n",
       "      <td>2.944414</td>\n",
       "      <td>2.619214</td>\n",
       "      <td>100.0</td>\n",
       "      <td>66.666667</td>\n",
       "      <td>100.0</td>\n",
       "      <td>33.941090</td>\n",
       "      <td>33.941090</td>\n",
       "      <td>39.189999</td>\n",
       "      <td>0.0</td>\n",
       "    </tr>\n",
       "    <tr>\n",
       "      <th>4</th>\n",
       "      <td>2009-01-02</td>\n",
       "      <td>CAT</td>\n",
       "      <td>30.233940</td>\n",
       "      <td>30.279056</td>\n",
       "      <td>28.816019</td>\n",
       "      <td>28.944921</td>\n",
       "      <td>7117200.0</td>\n",
       "      <td>4.0</td>\n",
       "      <td>0.0</td>\n",
       "      <td>2.944414</td>\n",
       "      <td>2.619214</td>\n",
       "      <td>100.0</td>\n",
       "      <td>66.666667</td>\n",
       "      <td>100.0</td>\n",
       "      <td>30.233940</td>\n",
       "      <td>30.233940</td>\n",
       "      <td>39.189999</td>\n",
       "      <td>0.0</td>\n",
       "    </tr>\n",
       "  </tbody>\n",
       "</table>\n",
       "</div>"
      ],
      "text/plain": [
       "         date   tic      close       high        low       open       volume  \\\n",
       "0  2009-01-02  AAPL   2.724326   2.733033   2.556514   2.578128  746015200.0   \n",
       "1  2009-01-02  AMGN  40.463200  40.524934  39.612641  40.188825    6547900.0   \n",
       "2  2009-01-02   AXP  14.891701  15.038076  14.175235  14.306202   10955700.0   \n",
       "3  2009-01-02    BA  33.941090  34.173615  32.088393  32.103395    7010200.0   \n",
       "4  2009-01-02   CAT  30.233940  30.279056  28.816019  28.944921    7117200.0   \n",
       "\n",
       "   day  macd   boll_ub   boll_lb  rsi_30     cci_30  dx_30  close_30_sma  \\\n",
       "0  4.0   0.0  2.944414  2.619214   100.0  66.666667  100.0      2.724326   \n",
       "1  4.0   0.0  2.944414  2.619214   100.0  66.666667  100.0     40.463200   \n",
       "2  4.0   0.0  2.944414  2.619214   100.0  66.666667  100.0     14.891701   \n",
       "3  4.0   0.0  2.944414  2.619214   100.0  66.666667  100.0     33.941090   \n",
       "4  4.0   0.0  2.944414  2.619214   100.0  66.666667  100.0     30.233940   \n",
       "\n",
       "   close_60_sma        vix  turbulence  \n",
       "0      2.724326  39.189999         0.0  \n",
       "1     40.463200  39.189999         0.0  \n",
       "2     14.891701  39.189999         0.0  \n",
       "3     33.941090  39.189999         0.0  \n",
       "4     30.233940  39.189999         0.0  "
      ]
     },
     "execution_count": 15,
     "metadata": {},
     "output_type": "execute_result"
    }
   ],
   "source": [
    "processed_full.head()"
   ]
  },
  {
   "cell_type": "markdown",
   "metadata": {
    "id": "ydLNxwdPIJhW"
   },
   "source": [
    "# Part 4: Save the Data"
   ]
  },
  {
   "cell_type": "markdown",
   "metadata": {
    "id": "VbMDnfukILc_"
   },
   "source": [
    "### Split the data for training and trading"
   ]
  },
  {
   "cell_type": "code",
   "execution_count": 16,
   "metadata": {
    "colab": {
     "base_uri": "https://localhost:8080/"
    },
    "id": "iEiXDdUhZP7R",
    "outputId": "554b1c09-6d6f-48fb-c724-351b40a2ddaf"
   },
   "outputs": [
    {
     "name": "stdout",
     "output_type": "stream",
     "text": [
      "94917\n",
      "94917\n",
      "14500\n"
     ]
    }
   ],
   "source": [
    "train = data_split(processed_full, TRAIN_START_DATE,TRAIN_END_DATE)\n",
    "valid = data_split(processed_full, VALID_START_DATE,VALID_END_DATE)\n",
    "trade = data_split(processed_full, TRADE_START_DATE,TRADE_END_DATE)\n",
    "print(len(train))\n",
    "print(len(train))\n",
    "print(len(trade))"
   ]
  },
  {
   "cell_type": "markdown",
   "metadata": {
    "id": "DflbzEV8IRhF"
   },
   "source": [
    "### Save data to csv file"
   ]
  },
  {
   "cell_type": "markdown",
   "metadata": {
    "id": "Tud3IZDzIUpd"
   },
   "source": [
    "For Colab users, you can open the virtual directory in colab and manually download the files.\n",
    "\n",
    "For users running on your local environment, the csv files should be at the same directory of this notebook."
   ]
  },
  {
   "cell_type": "code",
   "execution_count": 17,
   "metadata": {
    "id": "j2c12CpfHEjE"
   },
   "outputs": [],
   "source": [
    "import os\n",
    "os.makedirs('./data', exist_ok=True)\n",
    "train.to_csv('./data/train_data.csv')\n",
    "valid.to_csv('./data/valid_data.csv')\n",
    "trade.to_csv('./data/trade_data.csv')"
   ]
  }
 ],
 "metadata": {
  "colab": {
   "provenance": []
  },
  "kernelspec": {
   "display_name": ".venv",
   "language": "python",
   "name": "python3"
  },
  "language_info": {
   "codemirror_mode": {
    "name": "ipython",
    "version": 3
   },
   "file_extension": ".py",
   "mimetype": "text/x-python",
   "name": "python",
   "nbconvert_exporter": "python",
   "pygments_lexer": "ipython3",
   "version": "3.12.3"
  }
 },
 "nbformat": 4,
 "nbformat_minor": 0
}

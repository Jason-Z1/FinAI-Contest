{
 "cells": [
  {
   "cell_type": "markdown",
   "metadata": {
    "id": "v7Cycmf3Zbok"
   },
   "source": [
    "# Stock NeurIPS2018 Part 3. Backtest\n",
    "This series is a reproduction of paper *the process in the paper Practical Deep Reinforcement Learning Approach for Stock Trading*. \n",
    "\n",
    "This is the third and last part of the NeurIPS2018 series, introducing how to use use the agents we trained to do backtest, and compare with baselines such as Mean Variance Optimization and DJIA index.\n",
    "\n",
    "Other demos can be found at the repo of [FinRL-Tutorials]((https://github.com/AI4Finance-Foundation/FinRL-Tutorials))."
   ]
  },
  {
   "cell_type": "markdown",
   "metadata": {
    "id": "1oWbj4HgqHBg"
   },
   "source": [
    "# Part 1. Install Packages"
   ]
  },
  {
   "cell_type": "code",
   "execution_count": 1,
   "metadata": {
    "id": "QJgoEYx3p_NG"
   },
   "outputs": [
    {
     "name": "stdout",
     "output_type": "stream",
     "text": [
      "Collecting git+https://github.com/AI4Finance-Foundation/FinRL.git\n",
      "  Cloning https://github.com/AI4Finance-Foundation/FinRL.git to c:\\users\\jason\\appdata\\local\\temp\\pip-req-build-dytmgdnx\n",
      "  Resolved https://github.com/AI4Finance-Foundation/FinRL.git to commit 9e8c38aa5b92bbf0e20f65fc611fd43b43196859\n",
      "  Installing build dependencies: started\n",
      "  Installing build dependencies: finished with status 'done'\n",
      "  Getting requirements to build wheel: started\n",
      "  Getting requirements to build wheel: finished with status 'done'\n",
      "  Preparing metadata (pyproject.toml): started\n",
      "  Preparing metadata (pyproject.toml): finished with status 'done'\n",
      "Collecting elegantrl@ git+https://github.com/AI4Finance-Foundation/ElegantRL.git (from finrl==0.3.8)\n",
      "  Cloning https://github.com/AI4Finance-Foundation/ElegantRL.git to c:\\users\\jason\\appdata\\local\\temp\\pip-install-_v8mkaw9\\elegantrl_060bb8ad75d041bc9212fb0c63cec693\n",
      "  Resolved https://github.com/AI4Finance-Foundation/ElegantRL.git to commit 37aac1f592e1add9f9fd37ae8db1094656009b76\n",
      "  Preparing metadata (setup.py): started\n",
      "  Preparing metadata (setup.py): finished with status 'done'\n",
      "Requirement already satisfied: alpaca-py<0.38,>=0.37 in c:\\users\\jason\\miniconda3\\lib\\site-packages (from finrl==0.3.8) (0.37.0)\n",
      "Requirement already satisfied: alpaca-trade-api<4,>=3 in c:\\users\\jason\\miniconda3\\lib\\site-packages (from finrl==0.3.8) (3.2.0)\n",
      "Requirement already satisfied: ccxt<4,>=3 in c:\\users\\jason\\miniconda3\\lib\\site-packages (from finrl==0.3.8) (3.1.60)\n",
      "Requirement already satisfied: jqdatasdk<2,>=1 in c:\\users\\jason\\miniconda3\\lib\\site-packages (from finrl==0.3.8) (1.9.7)\n",
      "Requirement already satisfied: pandas-market-calendars<6,>=5 in c:\\users\\jason\\miniconda3\\lib\\site-packages (from finrl==0.3.8) (5.1.1)\n",
      "Requirement already satisfied: pyfolio-reloaded<0.10,>=0.9 in c:\\users\\jason\\miniconda3\\lib\\site-packages (from finrl==0.3.8) (0.9.9)\n",
      "Requirement already satisfied: pyportfolioopt<2,>=1 in c:\\users\\jason\\miniconda3\\lib\\site-packages (from finrl==0.3.8) (1.5.6)\n",
      "Requirement already satisfied: ray<3,>=2 in c:\\users\\jason\\miniconda3\\lib\\site-packages (from ray[default,tune]<3,>=2->finrl==0.3.8) (2.49.1)\n",
      "Requirement already satisfied: scikit-learn<2,>=1 in c:\\users\\jason\\miniconda3\\lib\\site-packages (from finrl==0.3.8) (1.7.2)\n",
      "Requirement already satisfied: selenium<5,>=4 in c:\\users\\jason\\miniconda3\\lib\\site-packages (from finrl==0.3.8) (4.32.0)\n",
      "Requirement already satisfied: stable-baselines3>=2.0.0a5 in c:\\users\\jason\\miniconda3\\lib\\site-packages (from stable-baselines3[extra]>=2.0.0a5->finrl==0.3.8) (2.7.0)\n",
      "Requirement already satisfied: stockstats<0.6,>=0.5 in c:\\users\\jason\\miniconda3\\lib\\site-packages (from finrl==0.3.8) (0.5.4)\n",
      "Requirement already satisfied: webdriver-manager<5,>=4 in c:\\users\\jason\\miniconda3\\lib\\site-packages (from finrl==0.3.8) (4.0.2)\n",
      "Requirement already satisfied: wrds<4,>=3 in c:\\users\\jason\\miniconda3\\lib\\site-packages (from finrl==0.3.8) (3.4.0)\n",
      "Requirement already satisfied: yfinance<0.3,>=0.2 in c:\\users\\jason\\miniconda3\\lib\\site-packages (from finrl==0.3.8) (0.2.58)\n",
      "Requirement already satisfied: msgpack<2.0.0,>=1.0.3 in c:\\users\\jason\\miniconda3\\lib\\site-packages (from alpaca-py<0.38,>=0.37->finrl==0.3.8) (1.0.3)\n",
      "Requirement already satisfied: pandas>=1.5.3 in c:\\users\\jason\\miniconda3\\lib\\site-packages (from alpaca-py<0.38,>=0.37->finrl==0.3.8) (2.2.3)\n",
      "Requirement already satisfied: pydantic<3.0.0,>=2.0.3 in c:\\users\\jason\\miniconda3\\lib\\site-packages (from alpaca-py<0.38,>=0.37->finrl==0.3.8) (2.11.9)\n",
      "Requirement already satisfied: requests<3.0.0,>=2.30.0 in c:\\users\\jason\\miniconda3\\lib\\site-packages (from alpaca-py<0.38,>=0.37->finrl==0.3.8) (2.32.5)\n",
      "Requirement already satisfied: sseclient-py<2.0.0,>=1.7.2 in c:\\users\\jason\\miniconda3\\lib\\site-packages (from alpaca-py<0.38,>=0.37->finrl==0.3.8) (1.8.0)\n",
      "Requirement already satisfied: websockets>=10.4 in c:\\users\\jason\\miniconda3\\lib\\site-packages (from alpaca-py<0.38,>=0.37->finrl==0.3.8) (10.4)\n",
      "Requirement already satisfied: numpy>=1.11.1 in c:\\users\\jason\\miniconda3\\lib\\site-packages (from alpaca-trade-api<4,>=3->finrl==0.3.8) (2.2.6)\n",
      "Requirement already satisfied: urllib3<2,>1.24 in c:\\users\\jason\\miniconda3\\lib\\site-packages (from alpaca-trade-api<4,>=3->finrl==0.3.8) (1.26.20)\n",
      "Requirement already satisfied: websocket-client<2,>=0.56.0 in c:\\users\\jason\\miniconda3\\lib\\site-packages (from alpaca-trade-api<4,>=3->finrl==0.3.8) (1.8.0)\n",
      "Requirement already satisfied: aiohttp<4,>=3.8.3 in c:\\users\\jason\\miniconda3\\lib\\site-packages (from alpaca-trade-api<4,>=3->finrl==0.3.8) (3.12.15)\n",
      "Requirement already satisfied: PyYAML==6.0.1 in c:\\users\\jason\\miniconda3\\lib\\site-packages (from alpaca-trade-api<4,>=3->finrl==0.3.8) (6.0.1)\n",
      "Requirement already satisfied: deprecation==2.1.0 in c:\\users\\jason\\miniconda3\\lib\\site-packages (from alpaca-trade-api<4,>=3->finrl==0.3.8) (2.1.0)\n",
      "Requirement already satisfied: packaging in c:\\users\\jason\\miniconda3\\lib\\site-packages (from deprecation==2.1.0->alpaca-trade-api<4,>=3->finrl==0.3.8) (24.1)\n",
      "Requirement already satisfied: setuptools>=60.9.0 in c:\\users\\jason\\miniconda3\\lib\\site-packages (from ccxt<4,>=3->finrl==0.3.8) (72.1.0)\n",
      "Requirement already satisfied: certifi>=2018.1.18 in c:\\users\\jason\\miniconda3\\lib\\site-packages (from ccxt<4,>=3->finrl==0.3.8) (2025.8.3)\n",
      "Requirement already satisfied: cryptography>=2.6.1 in c:\\users\\jason\\miniconda3\\lib\\site-packages (from ccxt<4,>=3->finrl==0.3.8) (42.0.5)\n",
      "Requirement already satisfied: aiodns>=1.1.1 in c:\\users\\jason\\miniconda3\\lib\\site-packages (from ccxt<4,>=3->finrl==0.3.8) (3.5.0)\n",
      "Requirement already satisfied: yarl>=1.7.2 in c:\\users\\jason\\miniconda3\\lib\\site-packages (from ccxt<4,>=3->finrl==0.3.8) (1.20.1)\n",
      "Requirement already satisfied: six in c:\\users\\jason\\miniconda3\\lib\\site-packages (from jqdatasdk<2,>=1->finrl==0.3.8) (1.16.0)\n",
      "Requirement already satisfied: SQLAlchemy>=1.2.8 in c:\\users\\jason\\miniconda3\\lib\\site-packages (from jqdatasdk<2,>=1->finrl==0.3.8) (2.0.43)\n",
      "Requirement already satisfied: pymysql>=0.7.6 in c:\\users\\jason\\miniconda3\\lib\\site-packages (from jqdatasdk<2,>=1->finrl==0.3.8) (1.1.2)\n",
      "Requirement already satisfied: thriftpy2<=0.4.20,>=0.3.9 in c:\\users\\jason\\miniconda3\\lib\\site-packages (from jqdatasdk<2,>=1->finrl==0.3.8) (0.4.20)\n",
      "Requirement already satisfied: tzdata in c:\\users\\jason\\miniconda3\\lib\\site-packages (from pandas-market-calendars<6,>=5->finrl==0.3.8) (2025.2)\n",
      "Requirement already satisfied: python-dateutil in c:\\users\\jason\\miniconda3\\lib\\site-packages (from pandas-market-calendars<6,>=5->finrl==0.3.8) (2.9.0.post0)\n",
      "Requirement already satisfied: exchange-calendars>=3.3 in c:\\users\\jason\\miniconda3\\lib\\site-packages (from pandas-market-calendars<6,>=5->finrl==0.3.8) (4.11.1)\n",
      "Requirement already satisfied: ipython>=3.2.3 in c:\\users\\jason\\miniconda3\\lib\\site-packages (from pyfolio-reloaded<0.10,>=0.9->finrl==0.3.8) (8.25.0)\n",
      "Requirement already satisfied: matplotlib>=1.4.0 in c:\\users\\jason\\miniconda3\\lib\\site-packages (from pyfolio-reloaded<0.10,>=0.9->finrl==0.3.8) (3.10.6)\n",
      "Requirement already satisfied: pytz>=2014.10 in c:\\users\\jason\\miniconda3\\lib\\site-packages (from pyfolio-reloaded<0.10,>=0.9->finrl==0.3.8) (2024.1)\n",
      "Requirement already satisfied: scipy>=0.14.0 in c:\\users\\jason\\miniconda3\\lib\\site-packages (from pyfolio-reloaded<0.10,>=0.9->finrl==0.3.8) (1.16.2)\n",
      "Requirement already satisfied: seaborn>=0.7.1 in c:\\users\\jason\\miniconda3\\lib\\site-packages (from pyfolio-reloaded<0.10,>=0.9->finrl==0.3.8) (0.13.2)\n",
      "Requirement already satisfied: empyrical-reloaded>=0.5.9 in c:\\users\\jason\\miniconda3\\lib\\site-packages (from pyfolio-reloaded<0.10,>=0.9->finrl==0.3.8) (0.5.12)\n",
      "Requirement already satisfied: cvxpy>=1.1.19 in c:\\users\\jason\\miniconda3\\lib\\site-packages (from pyportfolioopt<2,>=1->finrl==0.3.8) (1.7.2)\n",
      "Requirement already satisfied: ecos<3.0.0,>=2.0.14 in c:\\users\\jason\\miniconda3\\lib\\site-packages (from pyportfolioopt<2,>=1->finrl==0.3.8) (2.0.14)\n",
      "Requirement already satisfied: plotly<6.0.0,>=5.0.0 in c:\\users\\jason\\miniconda3\\lib\\site-packages (from pyportfolioopt<2,>=1->finrl==0.3.8) (5.24.1)\n",
      "Requirement already satisfied: click>=7.0 in c:\\users\\jason\\miniconda3\\lib\\site-packages (from ray<3,>=2->ray[default,tune]<3,>=2->finrl==0.3.8) (8.1.7)\n",
      "Requirement already satisfied: filelock in c:\\users\\jason\\miniconda3\\lib\\site-packages (from ray<3,>=2->ray[default,tune]<3,>=2->finrl==0.3.8) (3.19.1)\n",
      "Requirement already satisfied: jsonschema in c:\\users\\jason\\miniconda3\\lib\\site-packages (from ray<3,>=2->ray[default,tune]<3,>=2->finrl==0.3.8) (4.19.2)\n",
      "Requirement already satisfied: protobuf>=3.20.3 in c:\\users\\jason\\miniconda3\\lib\\site-packages (from ray<3,>=2->ray[default,tune]<3,>=2->finrl==0.3.8) (6.32.1)\n",
      "Requirement already satisfied: aiohttp_cors in c:\\users\\jason\\miniconda3\\lib\\site-packages (from ray[default,tune]<3,>=2->finrl==0.3.8) (0.8.1)\n",
      "Requirement already satisfied: colorful in c:\\users\\jason\\miniconda3\\lib\\site-packages (from ray[default,tune]<3,>=2->finrl==0.3.8) (0.5.7)\n",
      "Requirement already satisfied: py-spy>=0.4.0 in c:\\users\\jason\\miniconda3\\lib\\site-packages (from ray[default,tune]<3,>=2->finrl==0.3.8) (0.4.1)\n",
      "Requirement already satisfied: grpcio>=1.42.0 in c:\\users\\jason\\miniconda3\\lib\\site-packages (from ray[default,tune]<3,>=2->finrl==0.3.8) (1.75.0)\n",
      "Requirement already satisfied: opencensus in c:\\users\\jason\\miniconda3\\lib\\site-packages (from ray[default,tune]<3,>=2->finrl==0.3.8) (0.11.4)\n",
      "Requirement already satisfied: opentelemetry-sdk>=1.30.0 in c:\\users\\jason\\miniconda3\\lib\\site-packages (from ray[default,tune]<3,>=2->finrl==0.3.8) (1.37.0)\n",
      "Requirement already satisfied: opentelemetry-exporter-prometheus in c:\\users\\jason\\miniconda3\\lib\\site-packages (from ray[default,tune]<3,>=2->finrl==0.3.8) (0.58b0)\n",
      "Requirement already satisfied: opentelemetry-proto in c:\\users\\jason\\miniconda3\\lib\\site-packages (from ray[default,tune]<3,>=2->finrl==0.3.8) (1.37.0)\n",
      "Requirement already satisfied: prometheus_client>=0.7.1 in c:\\users\\jason\\miniconda3\\lib\\site-packages (from ray[default,tune]<3,>=2->finrl==0.3.8) (0.23.1)\n",
      "Requirement already satisfied: smart_open in c:\\users\\jason\\miniconda3\\lib\\site-packages (from ray[default,tune]<3,>=2->finrl==0.3.8) (7.3.1)\n",
      "Requirement already satisfied: virtualenv!=20.21.1,>=20.0.24 in c:\\users\\jason\\miniconda3\\lib\\site-packages (from ray[default,tune]<3,>=2->finrl==0.3.8) (20.34.0)\n",
      "Requirement already satisfied: tensorboardX>=1.9 in c:\\users\\jason\\miniconda3\\lib\\site-packages (from ray[default,tune]<3,>=2->finrl==0.3.8) (2.6.4)\n",
      "Requirement already satisfied: pyarrow>=9.0.0 in c:\\users\\jason\\miniconda3\\lib\\site-packages (from ray[default,tune]<3,>=2->finrl==0.3.8) (21.0.0)\n",
      "Requirement already satisfied: fsspec in c:\\users\\jason\\miniconda3\\lib\\site-packages (from ray[default,tune]<3,>=2->finrl==0.3.8) (2025.9.0)\n",
      "Requirement already satisfied: joblib>=1.2.0 in c:\\users\\jason\\miniconda3\\lib\\site-packages (from scikit-learn<2,>=1->finrl==0.3.8) (1.5.2)\n",
      "Requirement already satisfied: threadpoolctl>=3.1.0 in c:\\users\\jason\\miniconda3\\lib\\site-packages (from scikit-learn<2,>=1->finrl==0.3.8) (3.6.0)\n",
      "Requirement already satisfied: trio~=0.17 in c:\\users\\jason\\miniconda3\\lib\\site-packages (from selenium<5,>=4->finrl==0.3.8) (0.31.0)\n",
      "Requirement already satisfied: trio-websocket~=0.9 in c:\\users\\jason\\miniconda3\\lib\\site-packages (from selenium<5,>=4->finrl==0.3.8) (0.12.2)\n",
      "Requirement already satisfied: typing_extensions~=4.9 in c:\\users\\jason\\miniconda3\\lib\\site-packages (from selenium<5,>=4->finrl==0.3.8) (4.15.0)\n",
      "Requirement already satisfied: gymnasium<1.3.0,>=0.29.1 in c:\\users\\jason\\miniconda3\\lib\\site-packages (from stable-baselines3>=2.0.0a5->stable-baselines3[extra]>=2.0.0a5->finrl==0.3.8) (1.2.0)\n",
      "Requirement already satisfied: torch<3.0,>=2.3 in c:\\users\\jason\\miniconda3\\lib\\site-packages (from stable-baselines3>=2.0.0a5->stable-baselines3[extra]>=2.0.0a5->finrl==0.3.8) (2.8.0)\n",
      "Requirement already satisfied: cloudpickle in c:\\users\\jason\\miniconda3\\lib\\site-packages (from stable-baselines3>=2.0.0a5->stable-baselines3[extra]>=2.0.0a5->finrl==0.3.8) (3.0.0)\n",
      "Requirement already satisfied: opencv-python in c:\\users\\jason\\miniconda3\\lib\\site-packages (from stable-baselines3[extra]>=2.0.0a5->finrl==0.3.8) (4.12.0.88)\n",
      "Requirement already satisfied: pygame in c:\\users\\jason\\miniconda3\\lib\\site-packages (from stable-baselines3[extra]>=2.0.0a5->finrl==0.3.8) (2.6.1)\n",
      "Requirement already satisfied: tensorboard>=2.9.1 in c:\\users\\jason\\miniconda3\\lib\\site-packages (from stable-baselines3[extra]>=2.0.0a5->finrl==0.3.8) (2.20.0)\n",
      "Requirement already satisfied: psutil in c:\\users\\jason\\miniconda3\\lib\\site-packages (from stable-baselines3[extra]>=2.0.0a5->finrl==0.3.8) (5.9.0)\n",
      "Requirement already satisfied: tqdm in c:\\users\\jason\\miniconda3\\lib\\site-packages (from stable-baselines3[extra]>=2.0.0a5->finrl==0.3.8) (4.66.4)\n",
      "Requirement already satisfied: rich in c:\\users\\jason\\miniconda3\\lib\\site-packages (from stable-baselines3[extra]>=2.0.0a5->finrl==0.3.8) (13.7.1)\n",
      "Requirement already satisfied: ale-py>=0.9.0 in c:\\users\\jason\\miniconda3\\lib\\site-packages (from stable-baselines3[extra]>=2.0.0a5->finrl==0.3.8) (0.11.2)\n",
      "Requirement already satisfied: pillow in c:\\users\\jason\\miniconda3\\lib\\site-packages (from stable-baselines3[extra]>=2.0.0a5->finrl==0.3.8) (10.4.0)\n",
      "Requirement already satisfied: python-dotenv in c:\\users\\jason\\miniconda3\\lib\\site-packages (from webdriver-manager<5,>=4->finrl==0.3.8) (1.1.0)\n",
      "Requirement already satisfied: psycopg2-binary<2.10,>=2.9 in c:\\users\\jason\\miniconda3\\lib\\site-packages (from wrds<4,>=3->finrl==0.3.8) (2.9.10)\n",
      "Requirement already satisfied: multitasking>=0.0.7 in c:\\users\\jason\\miniconda3\\lib\\site-packages (from yfinance<0.3,>=0.2->finrl==0.3.8) (0.0.12)\n",
      "Requirement already satisfied: platformdirs>=2.0.0 in c:\\users\\jason\\miniconda3\\lib\\site-packages (from yfinance<0.3,>=0.2->finrl==0.3.8) (3.10.0)\n",
      "Requirement already satisfied: frozendict>=2.3.4 in c:\\users\\jason\\miniconda3\\lib\\site-packages (from yfinance<0.3,>=0.2->finrl==0.3.8) (2.4.2)\n",
      "Requirement already satisfied: peewee>=3.16.2 in c:\\users\\jason\\miniconda3\\lib\\site-packages (from yfinance<0.3,>=0.2->finrl==0.3.8) (3.17.3)\n",
      "Requirement already satisfied: beautifulsoup4>=4.11.1 in c:\\users\\jason\\miniconda3\\lib\\site-packages (from yfinance<0.3,>=0.2->finrl==0.3.8) (4.12.3)\n",
      "Requirement already satisfied: curl_cffi>=0.7 in c:\\users\\jason\\miniconda3\\lib\\site-packages (from yfinance<0.3,>=0.2->finrl==0.3.8) (0.13.0)\n",
      "Requirement already satisfied: th in c:\\users\\jason\\miniconda3\\lib\\site-packages (from elegantrl@ git+https://github.com/AI4Finance-Foundation/ElegantRL.git->finrl==0.3.8) (0.4.1)\n",
      "Requirement already satisfied: pycares>=4.9.0 in c:\\users\\jason\\miniconda3\\lib\\site-packages (from aiodns>=1.1.1->ccxt<4,>=3->finrl==0.3.8) (4.11.0)\n",
      "Requirement already satisfied: aiohappyeyeballs>=2.5.0 in c:\\users\\jason\\miniconda3\\lib\\site-packages (from aiohttp<4,>=3.8.3->alpaca-trade-api<4,>=3->finrl==0.3.8) (2.6.1)\n",
      "Requirement already satisfied: aiosignal>=1.4.0 in c:\\users\\jason\\miniconda3\\lib\\site-packages (from aiohttp<4,>=3.8.3->alpaca-trade-api<4,>=3->finrl==0.3.8) (1.4.0)\n",
      "Requirement already satisfied: attrs>=17.3.0 in c:\\users\\jason\\miniconda3\\lib\\site-packages (from aiohttp<4,>=3.8.3->alpaca-trade-api<4,>=3->finrl==0.3.8) (25.3.0)\n",
      "Requirement already satisfied: frozenlist>=1.1.1 in c:\\users\\jason\\miniconda3\\lib\\site-packages (from aiohttp<4,>=3.8.3->alpaca-trade-api<4,>=3->finrl==0.3.8) (1.7.0)\n",
      "Requirement already satisfied: multidict<7.0,>=4.5 in c:\\users\\jason\\miniconda3\\lib\\site-packages (from aiohttp<4,>=3.8.3->alpaca-trade-api<4,>=3->finrl==0.3.8) (6.6.4)\n",
      "Requirement already satisfied: propcache>=0.2.0 in c:\\users\\jason\\miniconda3\\lib\\site-packages (from aiohttp<4,>=3.8.3->alpaca-trade-api<4,>=3->finrl==0.3.8) (0.3.2)\n",
      "Requirement already satisfied: soupsieve>1.2 in c:\\users\\jason\\miniconda3\\lib\\site-packages (from beautifulsoup4>=4.11.1->yfinance<0.3,>=0.2->finrl==0.3.8) (2.5)\n",
      "Requirement already satisfied: colorama in c:\\users\\jason\\miniconda3\\lib\\site-packages (from click>=7.0->ray<3,>=2->ray[default,tune]<3,>=2->finrl==0.3.8) (0.4.6)\n",
      "Requirement already satisfied: cffi>=1.12 in c:\\users\\jason\\miniconda3\\lib\\site-packages (from cryptography>=2.6.1->ccxt<4,>=3->finrl==0.3.8) (1.16.0)\n",
      "Requirement already satisfied: osqp>=0.6.2 in c:\\users\\jason\\miniconda3\\lib\\site-packages (from cvxpy>=1.1.19->pyportfolioopt<2,>=1->finrl==0.3.8) (1.0.4)\n",
      "Requirement already satisfied: clarabel>=0.5.0 in c:\\users\\jason\\miniconda3\\lib\\site-packages (from cvxpy>=1.1.19->pyportfolioopt<2,>=1->finrl==0.3.8) (0.11.1)\n",
      "Requirement already satisfied: scs>=3.2.4.post1 in c:\\users\\jason\\miniconda3\\lib\\site-packages (from cvxpy>=1.1.19->pyportfolioopt<2,>=1->finrl==0.3.8) (3.2.8)\n",
      "Requirement already satisfied: bottleneck>=1.3.0 in c:\\users\\jason\\miniconda3\\lib\\site-packages (from empyrical-reloaded>=0.5.9->pyfolio-reloaded<0.10,>=0.9->finrl==0.3.8) (1.6.0)\n",
      "Requirement already satisfied: pyluach in c:\\users\\jason\\miniconda3\\lib\\site-packages (from exchange-calendars>=3.3->pandas-market-calendars<6,>=5->finrl==0.3.8) (2.3.0)\n",
      "Requirement already satisfied: toolz in c:\\users\\jason\\miniconda3\\lib\\site-packages (from exchange-calendars>=3.3->pandas-market-calendars<6,>=5->finrl==0.3.8) (1.0.0)\n",
      "Requirement already satisfied: korean_lunar_calendar in c:\\users\\jason\\miniconda3\\lib\\site-packages (from exchange-calendars>=3.3->pandas-market-calendars<6,>=5->finrl==0.3.8) (0.3.1)\n",
      "Requirement already satisfied: farama-notifications>=0.0.1 in c:\\users\\jason\\miniconda3\\lib\\site-packages (from gymnasium<1.3.0,>=0.29.1->stable-baselines3>=2.0.0a5->stable-baselines3[extra]>=2.0.0a5->finrl==0.3.8) (0.0.4)\n",
      "Requirement already satisfied: decorator in c:\\users\\jason\\miniconda3\\lib\\site-packages (from ipython>=3.2.3->pyfolio-reloaded<0.10,>=0.9->finrl==0.3.8) (5.1.1)\n",
      "Requirement already satisfied: jedi>=0.16 in c:\\users\\jason\\miniconda3\\lib\\site-packages (from ipython>=3.2.3->pyfolio-reloaded<0.10,>=0.9->finrl==0.3.8) (0.19.1)\n",
      "Requirement already satisfied: matplotlib-inline in c:\\users\\jason\\miniconda3\\lib\\site-packages (from ipython>=3.2.3->pyfolio-reloaded<0.10,>=0.9->finrl==0.3.8) (0.1.6)\n",
      "Requirement already satisfied: prompt-toolkit<3.1.0,>=3.0.41 in c:\\users\\jason\\miniconda3\\lib\\site-packages (from ipython>=3.2.3->pyfolio-reloaded<0.10,>=0.9->finrl==0.3.8) (3.0.43)\n",
      "Requirement already satisfied: pygments>=2.4.0 in c:\\users\\jason\\miniconda3\\lib\\site-packages (from ipython>=3.2.3->pyfolio-reloaded<0.10,>=0.9->finrl==0.3.8) (2.15.1)\n",
      "Requirement already satisfied: stack-data in c:\\users\\jason\\miniconda3\\lib\\site-packages (from ipython>=3.2.3->pyfolio-reloaded<0.10,>=0.9->finrl==0.3.8) (0.2.0)\n",
      "Requirement already satisfied: traitlets>=5.13.0 in c:\\users\\jason\\miniconda3\\lib\\site-packages (from ipython>=3.2.3->pyfolio-reloaded<0.10,>=0.9->finrl==0.3.8) (5.14.3)\n",
      "Requirement already satisfied: contourpy>=1.0.1 in c:\\users\\jason\\miniconda3\\lib\\site-packages (from matplotlib>=1.4.0->pyfolio-reloaded<0.10,>=0.9->finrl==0.3.8) (1.3.3)\n",
      "Requirement already satisfied: cycler>=0.10 in c:\\users\\jason\\miniconda3\\lib\\site-packages (from matplotlib>=1.4.0->pyfolio-reloaded<0.10,>=0.9->finrl==0.3.8) (0.12.1)\n",
      "Requirement already satisfied: fonttools>=4.22.0 in c:\\users\\jason\\miniconda3\\lib\\site-packages (from matplotlib>=1.4.0->pyfolio-reloaded<0.10,>=0.9->finrl==0.3.8) (4.60.0)\n",
      "Requirement already satisfied: kiwisolver>=1.3.1 in c:\\users\\jason\\miniconda3\\lib\\site-packages (from matplotlib>=1.4.0->pyfolio-reloaded<0.10,>=0.9->finrl==0.3.8) (1.4.9)\n",
      "Requirement already satisfied: pyparsing>=2.3.1 in c:\\users\\jason\\miniconda3\\lib\\site-packages (from matplotlib>=1.4.0->pyfolio-reloaded<0.10,>=0.9->finrl==0.3.8) (3.2.4)\n",
      "Requirement already satisfied: opentelemetry-api==1.37.0 in c:\\users\\jason\\miniconda3\\lib\\site-packages (from opentelemetry-sdk>=1.30.0->ray[default,tune]<3,>=2->finrl==0.3.8) (1.37.0)\n",
      "Requirement already satisfied: opentelemetry-semantic-conventions==0.58b0 in c:\\users\\jason\\miniconda3\\lib\\site-packages (from opentelemetry-sdk>=1.30.0->ray[default,tune]<3,>=2->finrl==0.3.8) (0.58b0)\n",
      "Requirement already satisfied: importlib-metadata<8.8.0,>=6.0 in c:\\users\\jason\\miniconda3\\lib\\site-packages (from opentelemetry-api==1.37.0->opentelemetry-sdk>=1.30.0->ray[default,tune]<3,>=2->finrl==0.3.8) (7.0.1)\n",
      "Requirement already satisfied: tenacity>=6.2.0 in c:\\users\\jason\\miniconda3\\lib\\site-packages (from plotly<6.0.0,>=5.0.0->pyportfolioopt<2,>=1->finrl==0.3.8) (9.1.2)\n",
      "Requirement already satisfied: annotated-types>=0.6.0 in c:\\users\\jason\\miniconda3\\lib\\site-packages (from pydantic<3.0.0,>=2.0.3->alpaca-py<0.38,>=0.37->finrl==0.3.8) (0.7.0)\n",
      "Requirement already satisfied: pydantic-core==2.33.2 in c:\\users\\jason\\miniconda3\\lib\\site-packages (from pydantic<3.0.0,>=2.0.3->alpaca-py<0.38,>=0.37->finrl==0.3.8) (2.33.2)\n",
      "Requirement already satisfied: typing-inspection>=0.4.0 in c:\\users\\jason\\miniconda3\\lib\\site-packages (from pydantic<3.0.0,>=2.0.3->alpaca-py<0.38,>=0.37->finrl==0.3.8) (0.4.1)\n",
      "Requirement already satisfied: charset_normalizer<4,>=2 in c:\\users\\jason\\miniconda3\\lib\\site-packages (from requests<3.0.0,>=2.30.0->alpaca-py<0.38,>=0.37->finrl==0.3.8) (3.3.2)\n",
      "Requirement already satisfied: idna<4,>=2.5 in c:\\users\\jason\\miniconda3\\lib\\site-packages (from requests<3.0.0,>=2.30.0->alpaca-py<0.38,>=0.37->finrl==0.3.8) (3.7)\n",
      "Requirement already satisfied: greenlet>=1 in c:\\users\\jason\\miniconda3\\lib\\site-packages (from SQLAlchemy>=1.2.8->jqdatasdk<2,>=1->finrl==0.3.8) (3.2.4)\n",
      "Requirement already satisfied: absl-py>=0.4 in c:\\users\\jason\\miniconda3\\lib\\site-packages (from tensorboard>=2.9.1->stable-baselines3[extra]>=2.0.0a5->finrl==0.3.8) (2.3.1)\n",
      "Requirement already satisfied: markdown>=2.6.8 in c:\\users\\jason\\miniconda3\\lib\\site-packages (from tensorboard>=2.9.1->stable-baselines3[extra]>=2.0.0a5->finrl==0.3.8) (3.9)\n",
      "Requirement already satisfied: tensorboard-data-server<0.8.0,>=0.7.0 in c:\\users\\jason\\miniconda3\\lib\\site-packages (from tensorboard>=2.9.1->stable-baselines3[extra]>=2.0.0a5->finrl==0.3.8) (0.7.2)\n",
      "Requirement already satisfied: werkzeug>=1.0.1 in c:\\users\\jason\\miniconda3\\lib\\site-packages (from tensorboard>=2.9.1->stable-baselines3[extra]>=2.0.0a5->finrl==0.3.8) (3.1.3)\n",
      "Requirement already satisfied: ply<4.0,>=3.4 in c:\\users\\jason\\miniconda3\\lib\\site-packages (from thriftpy2<=0.4.20,>=0.3.9->jqdatasdk<2,>=1->finrl==0.3.8) (3.11)\n",
      "Requirement already satisfied: sympy>=1.13.3 in c:\\users\\jason\\miniconda3\\lib\\site-packages (from torch<3.0,>=2.3->stable-baselines3>=2.0.0a5->stable-baselines3[extra]>=2.0.0a5->finrl==0.3.8) (1.14.0)\n",
      "Requirement already satisfied: networkx in c:\\users\\jason\\miniconda3\\lib\\site-packages (from torch<3.0,>=2.3->stable-baselines3>=2.0.0a5->stable-baselines3[extra]>=2.0.0a5->finrl==0.3.8) (3.5)\n",
      "Requirement already satisfied: jinja2 in c:\\users\\jason\\miniconda3\\lib\\site-packages (from torch<3.0,>=2.3->stable-baselines3>=2.0.0a5->stable-baselines3[extra]>=2.0.0a5->finrl==0.3.8) (3.1.4)\n",
      "Requirement already satisfied: sortedcontainers in c:\\users\\jason\\miniconda3\\lib\\site-packages (from trio~=0.17->selenium<5,>=4->finrl==0.3.8) (2.4.0)\n",
      "Requirement already satisfied: outcome in c:\\users\\jason\\miniconda3\\lib\\site-packages (from trio~=0.17->selenium<5,>=4->finrl==0.3.8) (1.3.0.post0)\n",
      "Requirement already satisfied: sniffio>=1.3.0 in c:\\users\\jason\\miniconda3\\lib\\site-packages (from trio~=0.17->selenium<5,>=4->finrl==0.3.8) (1.3.1)\n",
      "Requirement already satisfied: wsproto>=0.14 in c:\\users\\jason\\miniconda3\\lib\\site-packages (from trio-websocket~=0.9->selenium<5,>=4->finrl==0.3.8) (1.2.0)\n",
      "Requirement already satisfied: PySocks!=1.5.7,<2.0,>=1.5.6 in c:\\users\\jason\\miniconda3\\lib\\site-packages (from urllib3[socks]<3,>=1.26->selenium<5,>=4->finrl==0.3.8) (1.7.1)\n",
      "Requirement already satisfied: distlib<1,>=0.3.7 in c:\\users\\jason\\miniconda3\\lib\\site-packages (from virtualenv!=20.21.1,>=20.0.24->ray[default,tune]<3,>=2->finrl==0.3.8) (0.4.0)\n",
      "Requirement already satisfied: jsonschema-specifications>=2023.03.6 in c:\\users\\jason\\miniconda3\\lib\\site-packages (from jsonschema->ray<3,>=2->ray[default,tune]<3,>=2->finrl==0.3.8) (2023.7.1)\n",
      "Requirement already satisfied: referencing>=0.28.4 in c:\\users\\jason\\miniconda3\\lib\\site-packages (from jsonschema->ray<3,>=2->ray[default,tune]<3,>=2->finrl==0.3.8) (0.30.2)\n",
      "Requirement already satisfied: rpds-py>=0.7.1 in c:\\users\\jason\\miniconda3\\lib\\site-packages (from jsonschema->ray<3,>=2->ray[default,tune]<3,>=2->finrl==0.3.8) (0.10.6)\n",
      "Requirement already satisfied: opencensus-context>=0.1.3 in c:\\users\\jason\\miniconda3\\lib\\site-packages (from opencensus->ray[default,tune]<3,>=2->finrl==0.3.8) (0.1.3)\n",
      "Requirement already satisfied: google-api-core<3.0.0,>=1.0.0 in c:\\users\\jason\\miniconda3\\lib\\site-packages (from opencensus->ray[default,tune]<3,>=2->finrl==0.3.8) (2.25.1)\n",
      "Requirement already satisfied: markdown-it-py>=2.2.0 in c:\\users\\jason\\miniconda3\\lib\\site-packages (from rich->stable-baselines3[extra]>=2.0.0a5->finrl==0.3.8) (2.2.0)\n",
      "Requirement already satisfied: wrapt in c:\\users\\jason\\miniconda3\\lib\\site-packages (from smart_open->ray[default,tune]<3,>=2->finrl==0.3.8) (1.14.1)\n",
      "Requirement already satisfied: niltype<2.0,>=0.3 in c:\\users\\jason\\miniconda3\\lib\\site-packages (from th->elegantrl@ git+https://github.com/AI4Finance-Foundation/ElegantRL.git->finrl==0.3.8) (1.0.2)\n",
      "Requirement already satisfied: pycparser in c:\\users\\jason\\miniconda3\\lib\\site-packages (from cffi>=1.12->cryptography>=2.6.1->ccxt<4,>=3->finrl==0.3.8) (2.21)\n",
      "Requirement already satisfied: googleapis-common-protos<2.0.0,>=1.56.2 in c:\\users\\jason\\miniconda3\\lib\\site-packages (from google-api-core<3.0.0,>=1.0.0->opencensus->ray[default,tune]<3,>=2->finrl==0.3.8) (1.70.0)\n",
      "Requirement already satisfied: proto-plus<2.0.0,>=1.22.3 in c:\\users\\jason\\miniconda3\\lib\\site-packages (from google-api-core<3.0.0,>=1.0.0->opencensus->ray[default,tune]<3,>=2->finrl==0.3.8) (1.26.1)\n",
      "Requirement already satisfied: google-auth<3.0.0,>=2.14.1 in c:\\users\\jason\\miniconda3\\lib\\site-packages (from google-api-core<3.0.0,>=1.0.0->opencensus->ray[default,tune]<3,>=2->finrl==0.3.8) (2.40.3)\n",
      "Requirement already satisfied: parso<0.9.0,>=0.8.3 in c:\\users\\jason\\miniconda3\\lib\\site-packages (from jedi>=0.16->ipython>=3.2.3->pyfolio-reloaded<0.10,>=0.9->finrl==0.3.8) (0.8.3)\n",
      "Requirement already satisfied: mdurl~=0.1 in c:\\users\\jason\\miniconda3\\lib\\site-packages (from markdown-it-py>=2.2.0->rich->stable-baselines3[extra]>=2.0.0a5->finrl==0.3.8) (0.1.0)\n",
      "Requirement already satisfied: wcwidth in c:\\users\\jason\\miniconda3\\lib\\site-packages (from prompt-toolkit<3.1.0,>=3.0.41->ipython>=3.2.3->pyfolio-reloaded<0.10,>=0.9->finrl==0.3.8) (0.2.5)\n",
      "Requirement already satisfied: mpmath<1.4,>=1.1.0 in c:\\users\\jason\\miniconda3\\lib\\site-packages (from sympy>=1.13.3->torch<3.0,>=2.3->stable-baselines3>=2.0.0a5->stable-baselines3[extra]>=2.0.0a5->finrl==0.3.8) (1.3.0)\n",
      "Requirement already satisfied: MarkupSafe>=2.1.1 in c:\\users\\jason\\miniconda3\\lib\\site-packages (from werkzeug>=1.0.1->tensorboard>=2.9.1->stable-baselines3[extra]>=2.0.0a5->finrl==0.3.8) (2.1.3)\n",
      "Requirement already satisfied: h11<1,>=0.9.0 in c:\\users\\jason\\miniconda3\\lib\\site-packages (from wsproto>=0.14->trio-websocket~=0.9->selenium<5,>=4->finrl==0.3.8) (0.16.0)\n",
      "Requirement already satisfied: executing in c:\\users\\jason\\miniconda3\\lib\\site-packages (from stack-data->ipython>=3.2.3->pyfolio-reloaded<0.10,>=0.9->finrl==0.3.8) (0.8.3)\n",
      "Requirement already satisfied: asttokens in c:\\users\\jason\\miniconda3\\lib\\site-packages (from stack-data->ipython>=3.2.3->pyfolio-reloaded<0.10,>=0.9->finrl==0.3.8) (2.0.5)\n",
      "Requirement already satisfied: pure-eval in c:\\users\\jason\\miniconda3\\lib\\site-packages (from stack-data->ipython>=3.2.3->pyfolio-reloaded<0.10,>=0.9->finrl==0.3.8) (0.2.2)\n",
      "Requirement already satisfied: cachetools<6.0,>=2.0.0 in c:\\users\\jason\\miniconda3\\lib\\site-packages (from google-auth<3.0.0,>=2.14.1->google-api-core<3.0.0,>=1.0.0->opencensus->ray[default,tune]<3,>=2->finrl==0.3.8) (5.5.2)\n",
      "Requirement already satisfied: pyasn1-modules>=0.2.1 in c:\\users\\jason\\miniconda3\\lib\\site-packages (from google-auth<3.0.0,>=2.14.1->google-api-core<3.0.0,>=1.0.0->opencensus->ray[default,tune]<3,>=2->finrl==0.3.8) (0.4.2)\n",
      "Requirement already satisfied: rsa<5,>=3.1.4 in c:\\users\\jason\\miniconda3\\lib\\site-packages (from google-auth<3.0.0,>=2.14.1->google-api-core<3.0.0,>=1.0.0->opencensus->ray[default,tune]<3,>=2->finrl==0.3.8) (4.9.1)\n",
      "Requirement already satisfied: zipp>=0.5 in c:\\users\\jason\\miniconda3\\lib\\site-packages (from importlib-metadata<8.8.0,>=6.0->opentelemetry-api==1.37.0->opentelemetry-sdk>=1.30.0->ray[default,tune]<3,>=2->finrl==0.3.8) (3.17.0)\n",
      "Requirement already satisfied: pyasn1<0.7.0,>=0.6.1 in c:\\users\\jason\\miniconda3\\lib\\site-packages (from pyasn1-modules>=0.2.1->google-auth<3.0.0,>=2.14.1->google-api-core<3.0.0,>=1.0.0->opencensus->ray[default,tune]<3,>=2->finrl==0.3.8) (0.6.1)\n"
     ]
    },
    {
     "name": "stderr",
     "output_type": "stream",
     "text": [
      "  Running command git clone --filter=blob:none --quiet https://github.com/AI4Finance-Foundation/FinRL.git 'C:\\Users\\Jason\\AppData\\Local\\Temp\\pip-req-build-dytmgdnx'\n",
      "  Running command git clone --filter=blob:none --quiet https://github.com/AI4Finance-Foundation/ElegantRL.git 'C:\\Users\\Jason\\AppData\\Local\\Temp\\pip-install-_v8mkaw9\\elegantrl_060bb8ad75d041bc9212fb0c63cec693'\n"
     ]
    }
   ],
   "source": [
    "## install finrl library\n",
    "!pip install git+https://github.com/AI4Finance-Foundation/FinRL.git"
   ]
  },
  {
   "cell_type": "code",
   "execution_count": 2,
   "metadata": {
    "id": "mqfBOKz-qJYF"
   },
   "outputs": [],
   "source": [
    "import matplotlib.pyplot as plt\n",
    "import numpy as np\n",
    "import pandas as pd\n",
    "from stable_baselines3 import A2C, DDPG, PPO, SAC, TD3\n",
    "\n",
    "from finrl.agents.stablebaselines3.models import DRLAgent\n",
    "from finrl.config import INDICATORS, TRAINED_MODEL_DIR\n",
    "\n",
    "import sys, pathlib\n",
    "sys.path.insert(0, str(pathlib.Path.cwd().parents[1]))\n",
    "from finai_contest.env_stock_trading.env_stock_trading_meta import StockTradingEnv_FinRLMeta\n",
    "from finai_contest.env_stock_trading.env_stock_trading_gym_anytrading import StockTradingEnv_gym_anytrading\n",
    "from finrl.meta.preprocessor.yahoodownloader import YahooDownloader"
   ]
  },
  {
   "cell_type": "markdown",
   "metadata": {
    "id": "mUF2P4hmqVjh"
   },
   "source": [
    "# Part 2. Backtesting"
   ]
  },
  {
   "cell_type": "markdown",
   "metadata": {
    "id": "BdU6qLsVWDxI"
   },
   "source": [
    "To backtest the agents, upload trade_data.csv in the same directory of this notebook. For Colab users, just upload trade_data.csv to the default directory."
   ]
  },
  {
   "cell_type": "code",
   "execution_count": 3,
   "metadata": {
    "id": "mSjBHn_MZr4U"
   },
   "outputs": [],
   "source": [
    "train = pd.read_csv('./data/train_data.csv')\n",
    "trade = pd.read_csv('./data/trade_data.csv')\n",
    "\n",
    "# If you are not using the data generated from part 1 of this tutorial, make sure \n",
    "# it has the columns and index in the form that could be make into the environment. \n",
    "# Then you can comment and skip the following lines.\n",
    "train = train.set_index(train.columns[0])\n",
    "train.index.names = ['']\n",
    "trade = trade.set_index(trade.columns[0])\n",
    "trade.index.names = ['']\n",
    "trade_aapl = trade[trade[\"tic\"] == \"AAPL\"]\n"
   ]
  },
  {
   "cell_type": "markdown",
   "metadata": {
    "id": "qu4Ey54b36oL"
   },
   "source": [
    "Then, upload the trained agent to the same directory, and set the corresponding variable to True."
   ]
  },
  {
   "cell_type": "code",
   "execution_count": 4,
   "metadata": {},
   "outputs": [],
   "source": [
    "env_used = \"finrl\"\n",
    "# env_used = \"gym_anytrading\""
   ]
  },
  {
   "cell_type": "code",
   "execution_count": 5,
   "metadata": {
    "id": "Z_mVZM4IIa55"
   },
   "outputs": [],
   "source": [
    "if_using_a2c = False\n",
    "if_using_ddpg = False\n",
    "if_using_ppo = True\n",
    "if_using_td3 = False\n",
    "if_using_sac = False"
   ]
  },
  {
   "cell_type": "markdown",
   "metadata": {
    "id": "73D4oRqAIkYj"
   },
   "source": [
    "Load the agents"
   ]
  },
  {
   "cell_type": "code",
   "execution_count": 6,
   "metadata": {
    "id": "6CagrX0I36ZN"
   },
   "outputs": [],
   "source": [
    "trained_a2c = A2C.load(TRAINED_MODEL_DIR + \"/agent_a2c\") if if_using_a2c else None\n",
    "trained_ddpg = DDPG.load(TRAINED_MODEL_DIR + \"/agent_ddpg\") if if_using_ddpg else None\n",
    "trained_ppo = PPO.load(TRAINED_MODEL_DIR + \"/agent_ppo_\"+env_used) if if_using_ppo else None\n",
    "trained_td3 = TD3.load(TRAINED_MODEL_DIR + \"/agent_td3\") if if_using_td3 else None\n",
    "trained_sac = SAC.load(TRAINED_MODEL_DIR + \"/agent_sac\") if if_using_sac else None"
   ]
  },
  {
   "cell_type": "markdown",
   "metadata": {
    "id": "U5mmgQF_h1jQ"
   },
   "source": [
    "### Trading (Out-of-sample Performance)\n",
    "\n",
    "We update periodically in order to take full advantage of the data, e.g., retrain quarterly, monthly or weekly. We also tune the parameters along the way, in this notebook we use the in-sample data from 2009-01 to 2020-07 to tune the parameters once, so there is some alpha decay here as the length of trade date extends. \n",
    "\n",
    "Numerous hyperparameters – e.g. the learning rate, the total number of samples to train on – influence the learning process and are usually determined by testing some variations."
   ]
  },
  {
   "cell_type": "code",
   "execution_count": 7,
   "metadata": {
    "colab": {
     "base_uri": "https://localhost:8080/"
    },
    "id": "4H_w3SaBAkKU",
    "outputId": "fdaed3a7-d3a9-4cde-d194-ee4576057175"
   },
   "outputs": [
    {
     "name": "stdout",
     "output_type": "stream",
     "text": [
      "Stock Dimension: 1, State Space: 11\n"
     ]
    }
   ],
   "source": [
    "stock_dimension = len(trade_aapl.tic.unique())\n",
    "state_space = 1 + 2 * stock_dimension + len(INDICATORS) * stock_dimension\n",
    "print(f\"Stock Dimension: {stock_dimension}, State Space: {state_space}\")"
   ]
  },
  {
   "cell_type": "code",
   "execution_count": 8,
   "metadata": {
    "id": "nKNmQMqGAknW"
   },
   "outputs": [],
   "source": [
    "buy_cost_list = sell_cost_list = [0.001] * stock_dimension\n",
    "num_stock_shares = [0] * stock_dimension\n",
    "\n",
    "if env_used ==\"finrl\":\n",
    "    env_kwargs = {\n",
    "        \"hmax\": 100,\n",
    "        \"initial_amount\": 1000000,\n",
    "        \"num_stock_shares\": num_stock_shares,\n",
    "        \"buy_cost_pct\": buy_cost_list,\n",
    "        \"sell_cost_pct\": sell_cost_list,\n",
    "        \"state_space\": state_space,\n",
    "        \"stock_dim\": stock_dimension,\n",
    "        \"tech_indicator_list\": INDICATORS,\n",
    "        \"action_space\": stock_dimension,\n",
    "        \"reward_scaling\": 1e-4\n",
    "    }\n",
    "\n",
    "\n",
    "    e_trade_gym = StockTradingEnv_FinRLMeta(df = trade_aapl, **env_kwargs)\n",
    "\n",
    "elif env_used ==\"gym_anytrading\":\n",
    "    env_kwargs = {\n",
    "    \"hmax\": np.inf,\n",
    "    \"initial_amount\": 1000000,\n",
    "    \"num_stock_shares\": num_stock_shares,\n",
    "    \"buy_cost_pct\": buy_cost_list,\n",
    "    \"sell_cost_pct\": sell_cost_list,\n",
    "    \"state_space\": state_space,\n",
    "    \"stock_dim\": stock_dimension,\n",
    "    \"tech_indicator_list\": INDICATORS,\n",
    "    \"action_space\": 2*stock_dimension,\n",
    "    \"reward_scaling\": 1e-4,\n",
    "    \"window_size\": 30\n",
    "    }\n",
    "\n",
    "    e_trade_gym = StockTradingEnv_gym_anytrading(df = trade_aapl, **env_kwargs)"
   ]
  },
  {
   "cell_type": "code",
   "execution_count": 9,
   "metadata": {
    "id": "cIqoV0GSI52v"
   },
   "outputs": [],
   "source": [
    "env_trade, obs_trade = e_trade_gym.get_sb_env()"
   ]
  },
  {
   "cell_type": "code",
   "execution_count": 10,
   "metadata": {},
   "outputs": [],
   "source": [
    "# trade_aapl = trade[trade[\"tic\"] == \"AAPL\"]\n",
    "# trade_gym_anytrade = pd.DataFrame()\n",
    "# trade_gym_anytrade['Time'] = pd.to_datetime(trade_aapl['date'])  # Convert to datetime\n",
    "# trade_gym_anytrade['Open'] = trade_aapl['open']\n",
    "# trade_gym_anytrade['High'] = trade_aapl['high']\n",
    "# trade_gym_anytrade['Low'] = trade_aapl['low']\n",
    "# trade_gym_anytrade['Close'] = trade_aapl['close']\n",
    "# trade_gym_anytrade['Volume'] = trade_aapl['volume']\n",
    "# trade_aapl\n"
   ]
  },
  {
   "cell_type": "code",
   "execution_count": 11,
   "metadata": {},
   "outputs": [],
   "source": [
    "# import os\n",
    "# import sys\n",
    "# module_path = os.path.abspath(os.path.join('..'))\n",
    "# if module_path not in sys.path:\n",
    "#     sys.path.append(module_path)\n",
    "\n",
    "# import gymnasium as gym\n",
    "# import gym_anytrading\n",
    "\n",
    "# e_trade_gym = gym.make(\n",
    "#     'stocks-v0',\n",
    "#     df=trade_gym_anytrade,\n",
    "#     window_size=30,\n",
    "#     frame_bound=(30, len(trade_gym_anytrade))\n",
    "# )\n",
    "\n",
    "# from stable_baselines3.common.vec_env import DummyVecEnv\n",
    "\n",
    "# def get_sb_env(self):\n",
    "#     e = DummyVecEnv([lambda: self])\n",
    "#     obs = e.reset()\n",
    "#     return e, obs\n",
    "\n",
    "\n",
    "# def save_asset_memory(self):\n",
    "#     if \"total_profit\" not in self.history:\n",
    "#         print(\"Warning: 'total_profit' not found in history. Returning empty DataFrame.\")\n",
    "#         return pd.DataFrame({\"date\": [], \"account_value\": []})\n",
    "#     dates = self.df['Time'][self._start_tick:self._current_tick].dt.strftime('%Y-%m-%d')\n",
    "#     profits = self.history[\"total_profit\"]\n",
    "\n",
    "#     assert len(dates) == len(profits), f\"Length mismatch: {len(dates)} dates vs {len(profits)} profits\"\n",
    "\n",
    "#     df_account_value = pd.DataFrame({\n",
    "#         \"date\": dates,\n",
    "#         \"account_value\": profits\n",
    "#     })\n",
    "#     return df_account_value\n",
    "\n",
    "\n",
    "# def save_action_memory(self):\n",
    "#     if \"total_profit\" not in self.history:\n",
    "#         print(\"Warning: 'total_profit' not found in history. Returning empty DataFrame.\")\n",
    "#         return pd.DataFrame({\"date\": [], \"account_value\": []})\n",
    "#     dates = self.df['Time'][self._start_tick:self._current_tick].dt.strftime('%Y-%m-%d')\n",
    "#     actions = self.history[\"position\"]\n",
    "\n",
    "#     assert len(dates) == len(actions), f\"Length mismatch: {len(dates)} dates vs {len(actions)} profits\"\n",
    "\n",
    "#     df_account_value = pd.DataFrame({\n",
    "#         \"date\": dates,\n",
    "#         \"action\": actions\n",
    "#     })\n",
    "#     return df_account_value\n",
    "\n",
    "# # Patch the method\n",
    "# e_trade_gym = e_trade_gym.env.env\n",
    "# e_trade_gym.get_sb_env = get_sb_env.__get__(e_trade_gym)\n",
    "# e_trade_gym.save_asset_memory = save_asset_memory.__get__(e_trade_gym)\n",
    "# e_trade_gym.save_action_memory = save_action_memory.__get__(e_trade_gym)\n",
    "# e_trade_gym.get_sb_env"
   ]
  },
  {
   "cell_type": "code",
   "execution_count": 10,
   "metadata": {
    "colab": {
     "base_uri": "https://localhost:8080/"
    },
    "id": "lbFchno5j3xs",
    "outputId": "44fffa47-3b47-4e7b-96c2-0a485e9efead"
   },
   "outputs": [],
   "source": [
    "df_account_value_a2c, df_actions_a2c = DRLAgent.DRL_prediction(\n",
    "    model=trained_a2c, \n",
    "    environment = e_trade_gym) if if_using_a2c else (None, None)"
   ]
  },
  {
   "cell_type": "code",
   "execution_count": 11,
   "metadata": {
    "id": "JbYljWGjj3pH"
   },
   "outputs": [],
   "source": [
    "df_account_value_ddpg, df_actions_ddpg = DRLAgent.DRL_prediction(\n",
    "    model=trained_ddpg, \n",
    "    environment = e_trade_gym) if if_using_ddpg else (None, None)"
   ]
  },
  {
   "cell_type": "code",
   "execution_count": 12,
   "metadata": {
    "id": "74jNP2DBj3hb"
   },
   "outputs": [
    {
     "name": "stdout",
     "output_type": "stream",
     "text": [
      "hit end!\n"
     ]
    }
   ],
   "source": [
    "df_account_value_ppo_list = []\n",
    "df_actions_ppo_list = []\n",
    "for i in range(1):\n",
    "    df_account_value_ppo, df_actions_ppo = DRLAgent.DRL_prediction(\n",
    "        model=trained_ppo, \n",
    "        environment = e_trade_gym, deterministic=False) if if_using_ppo else (None, None)\n",
    "    df_account_value_ppo_list.append(df_account_value_ppo)\n",
    "    df_actions_ppo_list.append(df_actions_ppo)\n",
    "    # print(df_account_value_ppo_list)\n",
    "\n",
    "df_account_value_all = pd.concat([df.set_index(\"date\")[\"account_value\"] for df in df_account_value_ppo_list],axis=1)\n",
    "df_account_value_all.columns = [f\"run_{i+1}\" for i in range(len(df_account_value_ppo_list))]\n",
    "df_account_value_all['mean'] = df_account_value_all.mean(axis=1)\n",
    "df_account_value_all['std'] = df_account_value_all.std(axis=1)\n",
    "\n"
   ]
  },
  {
   "cell_type": "code",
   "execution_count": 13,
   "metadata": {},
   "outputs": [],
   "source": [
    "df_account_value_ppo = df_account_value_all[['mean', 'std']].reset_index()\n",
    "df_account_value_ppo.columns = ['date', 'account_value', 'std']"
   ]
  },
  {
   "cell_type": "code",
   "execution_count": 14,
   "metadata": {},
   "outputs": [
    {
     "name": "stdout",
     "output_type": "stream",
     "text": [
      "           date  account_value  std\n",
      "0    2023-01-03   1.000000e+06  0.0\n",
      "1    2023-01-04   1.000115e+06  0.0\n",
      "2    2023-01-05   9.999234e+05  0.0\n",
      "3    2023-01-06   1.000097e+06  0.0\n",
      "4    2023-01-09   1.000115e+06  0.0\n",
      "..          ...            ...  ...\n",
      "495  2024-12-20   1.483083e+06  0.0\n",
      "496  2024-12-23   1.487406e+06  0.0\n",
      "497  2024-12-24   1.503829e+06  0.0\n",
      "498  2024-12-26   1.508444e+06  0.0\n",
      "499  2024-12-27   1.489090e+06  0.0\n",
      "\n",
      "[500 rows x 3 columns]\n"
     ]
    }
   ],
   "source": [
    "import os\n",
    "os.makedirs(\"./results_csv\", exist_ok=True)\n",
    "df_account_value_ppo.to_csv(\"./results_csv/account_value_ppo_\"+env_used+\".csv\", index=False)\n",
    "print(df_account_value_ppo)"
   ]
  },
  {
   "cell_type": "code",
   "execution_count": 15,
   "metadata": {
    "id": "S7VyGGJPj3SH"
   },
   "outputs": [],
   "source": [
    "df_account_value_td3, df_actions_td3 = DRLAgent.DRL_prediction(\n",
    "    model=trained_td3, \n",
    "    environment = e_trade_gym) if if_using_td3 else (None, None)"
   ]
  },
  {
   "cell_type": "code",
   "execution_count": 16,
   "metadata": {
    "colab": {
     "base_uri": "https://localhost:8080/"
    },
    "id": "eLOnL5eYh1jR",
    "outputId": "70e50e24-aed5-49f9-cdd7-de6b9689d9ce"
   },
   "outputs": [],
   "source": [
    "df_account_value_sac, df_actions_sac = DRLAgent.DRL_prediction(\n",
    "    model=trained_sac, \n",
    "    environment = e_trade_gym) if if_using_sac else (None, None)"
   ]
  },
  {
   "cell_type": "code",
   "execution_count": 17,
   "metadata": {},
   "outputs": [
    {
     "name": "stdout",
     "output_type": "stream",
     "text": [
      "Sharpe Ratio: 1.2302588903410787\n"
     ]
    }
   ],
   "source": [
    "def _calculate_sharpe_ratio(total_profits):\n",
    "    total_profits = np.array(total_profits)\n",
    "    \n",
    "    # Calculate daily returns (percentage change)\n",
    "    daily_returns = np.diff(total_profits) / total_profits[:-1]\n",
    "    \n",
    "    if daily_returns.std() == 0 or len(daily_returns) < 2:\n",
    "        return 0.0\n",
    "    \n",
    "    sharpe = (255 ** 0.5) * daily_returns.mean() / daily_returns.std()\n",
    "    return sharpe\n",
    "\n",
    "print(\"Sharpe Ratio:\",_calculate_sharpe_ratio(df_account_value_ppo[\"account_value\"]))"
   ]
  },
  {
   "cell_type": "code",
   "execution_count": 18,
   "metadata": {},
   "outputs": [
    {
     "name": "stderr",
     "output_type": "stream",
     "text": [
      "C:\\Users\\Jason\\AppData\\Local\\Temp\\ipykernel_58120\\1408449579.py:15: UserWarning: FigureCanvasAgg is non-interactive, and thus cannot be shown\n",
      "  plt.show()\n"
     ]
    }
   ],
   "source": [
    "import matplotlib.pyplot as plt\n",
    "\n",
    "# Ensure 'date' is in datetime format (optional, for better x-axis formatting)\n",
    "df_account_value_ppo['date'] = pd.to_datetime(df_account_value_ppo['date'])\n",
    "\n",
    "# Plot\n",
    "plt.figure(figsize=(12, 6))\n",
    "plt.plot(df_account_value_ppo['date'], df_account_value_ppo['account_value'], label='Account Value (PPO)', linewidth=2)\n",
    "plt.xlabel('Date')\n",
    "plt.ylabel('Account Value')\n",
    "plt.title('PPO Trading Strategy: Account Value Over Time')\n",
    "plt.grid(True)\n",
    "plt.legend()\n",
    "plt.tight_layout()\n",
    "plt.show()"
   ]
  },
  {
   "cell_type": "markdown",
   "metadata": {
    "id": "GcE-t08w6DaW"
   },
   "source": [
    "# Part 3: Mean Variance Optimization"
   ]
  },
  {
   "cell_type": "markdown",
   "metadata": {
    "id": "17TUs71EWj09"
   },
   "source": [
    "Mean Variance optimization is a very classic strategy in portfolio management. Here, we go through the whole process to do the mean variance optimization and add it as a baseline to compare.\n",
    "\n",
    "First, process dataframe to the form for MVO weight calculation."
   ]
  },
  {
   "cell_type": "code",
   "execution_count": 19,
   "metadata": {
    "id": "wungSNOwPwKR"
   },
   "outputs": [],
   "source": [
    "def process_df_for_mvo(df):\n",
    "  return df.pivot(index=\"date\", columns=\"tic\", values=\"close\")"
   ]
  },
  {
   "cell_type": "markdown",
   "metadata": {
    "id": "SwEwkHJ1d_6u"
   },
   "source": [
    "### Helper functions for mean returns and variance-covariance matrix"
   ]
  },
  {
   "cell_type": "code",
   "execution_count": 20,
   "metadata": {
    "id": "6KvXkpyE8MFq"
   },
   "outputs": [],
   "source": [
    "# Codes in this section partially refer to Dr G A Vijayalakshmi Pai\n",
    "# https://www.kaggle.com/code/vijipai/lesson-5-mean-variance-optimization-of-portfolios/notebook\n",
    "\n",
    "def StockReturnsComputing(StockPrice, Rows, Columns): \n",
    "  import numpy as np \n",
    "  StockReturn = np.zeros([Rows-1, Columns]) \n",
    "  for j in range(Columns):        # j: Assets \n",
    "    for i in range(Rows-1):     # i: Daily Prices \n",
    "      StockReturn[i,j]=((StockPrice[i+1, j]-StockPrice[i,j])/StockPrice[i,j])* 100 \n",
    "      \n",
    "  return StockReturn"
   ]
  },
  {
   "cell_type": "markdown",
   "metadata": {
    "id": "IeVVbuwveJ_5"
   },
   "source": [
    "### Calculate the weights for mean-variance"
   ]
  },
  {
   "cell_type": "code",
   "execution_count": 21,
   "metadata": {
    "colab": {
     "base_uri": "https://localhost:8080/"
    },
    "id": "kE8nruKLQYLO",
    "outputId": "42d07c80-f309-49f8-f2b4-36a51987086f"
   },
   "outputs": [
    {
     "data": {
      "text/plain": [
       "array([[123.33065033, 239.42544556, 142.09277344, ...,  33.34642029,\n",
       "         32.07088852,  46.24145508],\n",
       "       [124.60271454, 241.93273926, 145.39587402, ...,  34.18589401,\n",
       "         32.32959366,  46.29298401],\n",
       "       [123.28132629, 244.19287109, 141.91654968, ...,  34.65966034,\n",
       "         30.34617996,  46.13518906],\n",
       "       ...,\n",
       "       [257.28668213, 257.97912598, 300.98654175, ...,  37.87639999,\n",
       "          9.18999958,  91.98840332],\n",
       "       [258.10372925, 256.70135498, 301.51220703, ...,  38.02866745,\n",
       "          9.68000031,  92.09758759],\n",
       "       [254.68586731, 256.18441772, 298.59619141, ...,  37.99059677,\n",
       "          9.61999989,  90.97602844]], shape=(500, 29))"
      ]
     },
     "execution_count": 21,
     "metadata": {},
     "output_type": "execute_result"
    }
   ],
   "source": [
    "StockData = process_df_for_mvo(train)\n",
    "TradeData = process_df_for_mvo(trade)\n",
    "\n",
    "TradeData.to_numpy()"
   ]
  },
  {
   "cell_type": "code",
   "execution_count": 22,
   "metadata": {
    "colab": {
     "base_uri": "https://localhost:8080/"
    },
    "id": "u6_O6vrn_uD4",
    "outputId": "0c2f8bf7-07e7-4fe5-c409-93312b95a8dd"
   },
   "outputs": [
    {
     "name": "stdout",
     "output_type": "stream",
     "text": [
      "Mean returns of assets in k-portfolio 1\n",
      " [0.143 0.061 0.095 0.08  0.076 0.131 0.065 0.044 0.075 0.072 0.108 0.078\n",
      " 0.037 0.066 0.049 0.083 0.048 0.063 0.055 0.053 0.108 0.097 0.048 0.059\n",
      " 0.11  0.102 0.04  0.047 0.045]\n",
      "Variance-Covariance matrix of returns\n",
      " [[3.225 1.03  1.593 1.588 1.536 1.81  1.489 1.174 1.2   1.662 1.26  1.33\n",
      "  1.103 1.622 0.698 1.643 0.677 0.845 1.124 0.76  1.613 1.263 0.711 0.952\n",
      "  1.217 1.399 0.578 0.973 0.633]\n",
      " [1.03  2.517 1.203 1.049 1.106 1.227 1.059 0.984 0.965 1.156 1.001 1.036\n",
      "  0.841 1.164 0.895 1.261 0.655 0.684 0.958 1.108 1.122 0.902 0.757 0.898\n",
      "  1.208 1.053 0.649 1.038 0.644]\n",
      " [1.593 1.203 4.794 2.805 2.542 1.935 1.824 2.192 2.165 3.027 1.735 2.229\n",
      "  1.518 1.902 0.937 3.581 1.096 1.226 1.737 1.125 1.712 1.764 0.923 1.913\n",
      "  1.715 2.246 0.932 1.432 0.638]\n",
      " [1.588 1.049 2.805 5.092 2.344 1.833 1.625 2.202 1.991 2.375 1.618 2.293\n",
      "  1.553 1.786 0.901 2.584 1.129 1.236 1.569 0.975 1.507 1.688 0.804 1.678\n",
      "  1.577 1.764 0.776 1.437 0.613]\n",
      " [1.536 1.106 2.542 2.344 3.897 1.895 1.777 2.04  1.758 2.38  1.445 2.152\n",
      "  1.464 1.803 0.869 2.553 0.916 0.919 1.798 1.011 1.516 1.51  0.791 1.451\n",
      "  1.369 1.598 0.873 1.333 0.661]\n",
      " [1.81  1.227 1.935 1.833 1.895 5.404 1.825 1.384 1.568 1.914 1.509 1.618\n",
      "  1.286 1.828 0.767 1.939 0.776 1.014 1.309 0.944 1.98  1.634 0.718 1.165\n",
      "  1.241 1.824 0.695 1.097 0.645]\n",
      " [1.489 1.059 1.824 1.625 1.777 1.825 2.945 1.411 1.446 1.796 1.275 1.528\n",
      "  1.334 1.746 0.851 1.897 0.773 0.858 1.352 0.933 1.618 1.273 0.816 1.142\n",
      "  1.187 1.409 0.756 1.143 0.707]\n",
      " [1.174 0.984 2.192 2.202 2.04  1.384 1.411 2.928 1.512 2.021 1.296 1.754\n",
      "  1.303 1.472 0.838 2.252 0.936 1.015 1.343 1.009 1.284 1.216 0.746 1.459\n",
      "  1.375 1.437 0.799 1.105 0.535]\n",
      " [1.2   0.965 2.165 1.991 1.758 1.568 1.446 1.512 2.758 1.898 1.326 1.693\n",
      "  1.151 1.387 0.741 2.125 0.886 0.92  1.293 0.863 1.279 1.327 0.776 1.237\n",
      "  1.196 1.448 0.76  1.103 0.612]\n",
      " [1.662 1.156 3.027 2.375 2.38  1.914 1.796 2.021 1.898 4.226 1.628 2.02\n",
      "  1.509 1.85  0.878 3.753 0.912 1.016 1.642 1.057 1.617 1.573 0.816 1.825\n",
      "  1.583 1.872 0.882 1.399 0.662]\n",
      " [1.26  1.001 1.735 1.618 1.445 1.509 1.275 1.296 1.326 1.628 2.285 1.401\n",
      "  1.062 1.387 0.707 1.744 0.767 0.948 1.156 0.816 1.305 1.319 0.758 1.203\n",
      "  1.221 1.304 0.7   1.004 0.753]\n",
      " [1.33  1.036 2.229 2.293 2.152 1.618 1.528 1.754 1.693 2.02  1.401 2.45\n",
      "  1.282 1.521 0.851 2.242 0.949 0.967 1.56  0.948 1.371 1.437 0.783 1.361\n",
      "  1.365 1.493 0.771 1.214 0.596]\n",
      " [1.103 0.841 1.518 1.553 1.464 1.286 1.334 1.303 1.151 1.509 1.062 1.282\n",
      "  2.074 1.352 0.696 1.666 0.772 0.753 1.128 0.77  1.171 1.021 0.698 1.072\n",
      "  1.014 1.166 0.704 0.999 0.546]\n",
      " [1.622 1.164 1.902 1.786 1.803 1.828 1.746 1.472 1.387 1.85  1.387 1.521\n",
      "  1.352 3.422 0.792 1.952 0.807 0.844 1.295 0.908 1.812 1.263 0.771 1.245\n",
      "  1.251 1.429 0.762 1.12  0.712]\n",
      " [0.698 0.895 0.937 0.901 0.869 0.767 0.851 0.838 0.741 0.878 0.707 0.851\n",
      "  0.696 0.792 1.127 0.953 0.627 0.552 0.812 0.841 0.773 0.688 0.665 0.729\n",
      "  0.886 0.781 0.574 0.781 0.52 ]\n",
      " [1.643 1.261 3.581 2.584 2.553 1.939 1.897 2.252 2.125 3.753 1.744 2.242\n",
      "  1.666 1.952 0.953 4.973 1.042 1.133 1.766 1.187 1.698 1.708 0.953 2.099\n",
      "  1.708 2.033 1.042 1.537 0.711]\n",
      " [0.677 0.655 1.096 1.129 0.916 0.776 0.773 0.936 0.886 0.912 0.767 0.949\n",
      "  0.772 0.807 0.627 1.042 1.259 0.664 0.788 0.692 0.773 0.78  0.716 0.885\n",
      "  0.806 0.79  0.607 0.717 0.491]\n",
      " [0.845 0.684 1.226 1.236 0.919 1.014 0.858 1.015 0.92  1.016 0.948 0.967\n",
      "  0.753 0.844 0.552 1.133 0.664 1.458 0.774 0.661 0.893 0.956 0.583 0.947\n",
      "  0.878 0.945 0.497 0.644 0.477]\n",
      " [1.124 0.958 1.737 1.569 1.798 1.309 1.352 1.343 1.293 1.642 1.156 1.56\n",
      "  1.128 1.295 0.812 1.766 0.788 0.774 1.975 0.82  1.14  1.137 0.735 1.158\n",
      "  1.102 1.197 0.707 1.089 0.578]\n",
      " [0.76  1.108 1.125 0.975 1.011 0.944 0.933 1.009 0.863 1.057 0.816 0.948\n",
      "  0.77  0.908 0.841 1.187 0.692 0.661 0.82  1.993 0.885 0.776 0.682 0.926\n",
      "  1.085 0.866 0.674 0.832 0.563]\n",
      " [1.613 1.122 1.712 1.507 1.516 1.98  1.618 1.284 1.279 1.617 1.305 1.371\n",
      "  1.171 1.812 0.773 1.698 0.773 0.893 1.14  0.885 2.716 1.238 0.784 1.1\n",
      "  1.216 1.427 0.7   1.005 0.683]\n",
      " [1.263 0.902 1.764 1.688 1.51  1.634 1.273 1.216 1.327 1.573 1.319 1.437\n",
      "  1.021 1.263 0.688 1.708 0.78  0.956 1.137 0.776 1.238 2.869 0.695 1.082\n",
      "  1.169 1.337 0.637 0.967 0.6  ]\n",
      " [0.711 0.757 0.923 0.804 0.791 0.718 0.816 0.746 0.776 0.816 0.758 0.783\n",
      "  0.698 0.771 0.665 0.953 0.716 0.583 0.735 0.682 0.784 0.695 1.235 0.758\n",
      "  0.734 0.716 0.625 0.741 0.618]\n",
      " [0.952 0.898 1.913 1.678 1.451 1.165 1.142 1.459 1.237 1.825 1.203 1.361\n",
      "  1.072 1.245 0.729 2.099 0.885 0.947 1.158 0.926 1.1   1.082 0.758 2.273\n",
      "  1.193 1.255 0.784 1.006 0.634]\n",
      " [1.217 1.208 1.715 1.577 1.369 1.241 1.187 1.375 1.196 1.583 1.221 1.365\n",
      "  1.014 1.251 0.886 1.708 0.806 0.878 1.102 1.085 1.216 1.169 0.734 1.193\n",
      "  3.179 1.205 0.659 1.089 0.64 ]\n",
      " [1.399 1.053 2.246 1.764 1.598 1.824 1.409 1.437 1.448 1.872 1.304 1.493\n",
      "  1.166 1.429 0.781 2.033 0.79  0.945 1.197 0.866 1.427 1.337 0.716 1.255\n",
      "  1.205 2.903 0.667 0.963 0.613]\n",
      " [0.578 0.649 0.932 0.776 0.873 0.695 0.756 0.799 0.76  0.882 0.7   0.771\n",
      "  0.704 0.762 0.574 1.042 0.607 0.497 0.707 0.674 0.7   0.637 0.625 0.784\n",
      "  0.659 0.667 1.298 0.679 0.518]\n",
      " [0.973 1.038 1.432 1.437 1.333 1.097 1.143 1.105 1.103 1.399 1.004 1.214\n",
      "  0.999 1.12  0.781 1.537 0.717 0.644 1.089 0.832 1.005 0.967 0.741 1.006\n",
      "  1.089 0.963 0.679 3.178 0.729]\n",
      " [0.633 0.644 0.638 0.613 0.661 0.645 0.707 0.535 0.612 0.662 0.753 0.596\n",
      "  0.546 0.712 0.52  0.711 0.491 0.477 0.578 0.563 0.683 0.6   0.618 0.634\n",
      "  0.64  0.613 0.518 0.729 1.447]]\n"
     ]
    }
   ],
   "source": [
    "#compute asset returns\n",
    "arStockPrices = np.asarray(StockData)\n",
    "[Rows, Cols]=arStockPrices.shape\n",
    "arReturns = StockReturnsComputing(arStockPrices, Rows, Cols)\n",
    "\n",
    "#compute mean returns and variance covariance matrix of returns\n",
    "meanReturns = np.mean(arReturns, axis = 0)\n",
    "covReturns = np.cov(arReturns, rowvar=False)\n",
    " \n",
    "#set precision for printing results\n",
    "np.set_printoptions(precision=3, suppress = True)\n",
    "\n",
    "#display mean returns and variance-covariance matrix of returns\n",
    "print('Mean returns of assets in k-portfolio 1\\n', meanReturns)\n",
    "print('Variance-Covariance matrix of returns\\n', covReturns)"
   ]
  },
  {
   "cell_type": "markdown",
   "metadata": {
    "id": "zC7r-cI8RR1X"
   },
   "source": [
    "### Use PyPortfolioOpt"
   ]
  },
  {
   "cell_type": "code",
   "execution_count": 23,
   "metadata": {
    "colab": {
     "base_uri": "https://localhost:8080/"
    },
    "id": "b1btTONEdCU4",
    "outputId": "75096462-7dfb-4ce6-c6f4-4671f11e79fc"
   },
   "outputs": [
    {
     "data": {
      "text/plain": [
       "array([361430.,      0.,      0.,      0.,      0.,  56980.,      0.,\n",
       "            0.,      0.,      0., 246140.,      0.,      0.,      0.,\n",
       "            0.,      0.,      0.,      0.,      0.,      0.,  58030.,\n",
       "        49750.,      0.,      0., 173330.,  54350.,      0.,      0.,\n",
       "            0.])"
      ]
     },
     "execution_count": 23,
     "metadata": {},
     "output_type": "execute_result"
    }
   ],
   "source": [
    "from pypfopt.efficient_frontier import EfficientFrontier\n",
    "\n",
    "ef_mean = EfficientFrontier(meanReturns, covReturns, weight_bounds=(0, 0.5))\n",
    "raw_weights_mean = ef_mean.max_sharpe()\n",
    "cleaned_weights_mean = ef_mean.clean_weights()\n",
    "mvo_weights = np.array([1000000 * cleaned_weights_mean[i] for i in range(len(cleaned_weights_mean))])\n",
    "mvo_weights"
   ]
  },
  {
   "cell_type": "code",
   "execution_count": 24,
   "metadata": {
    "colab": {
     "base_uri": "https://localhost:8080/"
    },
    "id": "F38NJRJJgOmj",
    "outputId": "f575651b-1e9b-4015-ae71-c9fc2c3a3dae"
   },
   "outputs": [
    {
     "data": {
      "text/plain": [
       "array([2076.108,    0.   ,    0.   ,    0.   ,    0.   ,  226.575,\n",
       "          0.   ,    0.   ,    0.   ,    0.   ,  651.987,    0.   ,\n",
       "          0.   ,    0.   ,    0.   ,    0.   ,    0.   ,    0.   ,\n",
       "          0.   ,    0.   ,  177.992,  316.127,    0.   ,    0.   ,\n",
       "        366.832,  257.959,    0.   ,    0.   ,    0.   ])"
      ]
     },
     "execution_count": 24,
     "metadata": {},
     "output_type": "execute_result"
    }
   ],
   "source": [
    "LastPrice = np.array([1/p for p in StockData.tail(1).to_numpy()[0]])\n",
    "Initial_Portfolio = np.multiply(mvo_weights, LastPrice)\n",
    "Initial_Portfolio"
   ]
  },
  {
   "cell_type": "code",
   "execution_count": 25,
   "metadata": {
    "id": "ZAd1iXqZhQ6X"
   },
   "outputs": [
    {
     "data": {
      "text/html": [
       "<div>\n",
       "<style scoped>\n",
       "    .dataframe tbody tr th:only-of-type {\n",
       "        vertical-align: middle;\n",
       "    }\n",
       "\n",
       "    .dataframe tbody tr th {\n",
       "        vertical-align: top;\n",
       "    }\n",
       "\n",
       "    .dataframe thead th {\n",
       "        text-align: right;\n",
       "    }\n",
       "</style>\n",
       "<table border=\"1\" class=\"dataframe\">\n",
       "  <thead>\n",
       "    <tr style=\"text-align: right;\">\n",
       "      <th></th>\n",
       "      <th>Mean Var</th>\n",
       "    </tr>\n",
       "    <tr>\n",
       "      <th>date</th>\n",
       "      <th></th>\n",
       "    </tr>\n",
       "  </thead>\n",
       "  <tbody>\n",
       "    <tr>\n",
       "      <th>2023-01-03</th>\n",
       "      <td>7.896225e+05</td>\n",
       "    </tr>\n",
       "    <tr>\n",
       "      <th>2023-01-04</th>\n",
       "      <td>7.909572e+05</td>\n",
       "    </tr>\n",
       "    <tr>\n",
       "      <th>2023-01-05</th>\n",
       "      <td>7.780722e+05</td>\n",
       "    </tr>\n",
       "    <tr>\n",
       "      <th>2023-01-06</th>\n",
       "      <td>7.930048e+05</td>\n",
       "    </tr>\n",
       "    <tr>\n",
       "      <th>2023-01-09</th>\n",
       "      <td>7.964514e+05</td>\n",
       "    </tr>\n",
       "    <tr>\n",
       "      <th>...</th>\n",
       "      <td>...</td>\n",
       "    </tr>\n",
       "    <tr>\n",
       "      <th>2024-12-20</th>\n",
       "      <td>1.218321e+06</td>\n",
       "    </tr>\n",
       "    <tr>\n",
       "      <th>2024-12-23</th>\n",
       "      <td>1.221487e+06</td>\n",
       "    </tr>\n",
       "    <tr>\n",
       "      <th>2024-12-24</th>\n",
       "      <td>1.231781e+06</td>\n",
       "    </tr>\n",
       "    <tr>\n",
       "      <th>2024-12-26</th>\n",
       "      <td>1.233944e+06</td>\n",
       "    </tr>\n",
       "    <tr>\n",
       "      <th>2024-12-27</th>\n",
       "      <td>1.222152e+06</td>\n",
       "    </tr>\n",
       "  </tbody>\n",
       "</table>\n",
       "<p>500 rows × 1 columns</p>\n",
       "</div>"
      ],
      "text/plain": [
       "                Mean Var\n",
       "date                    \n",
       "2023-01-03  7.896225e+05\n",
       "2023-01-04  7.909572e+05\n",
       "2023-01-05  7.780722e+05\n",
       "2023-01-06  7.930048e+05\n",
       "2023-01-09  7.964514e+05\n",
       "...                  ...\n",
       "2024-12-20  1.218321e+06\n",
       "2024-12-23  1.221487e+06\n",
       "2024-12-24  1.231781e+06\n",
       "2024-12-26  1.233944e+06\n",
       "2024-12-27  1.222152e+06\n",
       "\n",
       "[500 rows x 1 columns]"
      ]
     },
     "execution_count": 25,
     "metadata": {},
     "output_type": "execute_result"
    }
   ],
   "source": [
    "Portfolio_Assets = TradeData @ Initial_Portfolio\n",
    "MVO_result = pd.DataFrame(Portfolio_Assets, columns=[\"Mean Var\"])\n",
    "MVO_result"
   ]
  },
  {
   "cell_type": "markdown",
   "metadata": {
    "id": "I5sgGe7g1HsL"
   },
   "source": [
    "# Part 4: DJIA index"
   ]
  },
  {
   "cell_type": "markdown",
   "metadata": {
    "id": "sVe_ufxTY2CW"
   },
   "source": [
    "Add DJIA index as a baseline to compare with."
   ]
  },
  {
   "cell_type": "code",
   "execution_count": 26,
   "metadata": {
    "id": "sACPzsI-6k8q"
   },
   "outputs": [],
   "source": [
    "# TRAIN_START_DATE = '2009-01-01'\n",
    "# TRAIN_END_DATE = '2020-07-01'\n",
    "# TRADE_START_DATE = '2020-07-01'\n",
    "# TRADE_END_DATE = '2021-10-29'\n",
    "TRAIN_START_DATE = '2009-01-01'\n",
    "TRAIN_END_DATE = '2023-01-01'\n",
    "TRADE_START_DATE = '2023-01-01'\n",
    "TRADE_END_DATE = '2024-12-31'"
   ]
  },
  {
   "cell_type": "code",
   "execution_count": 27,
   "metadata": {
    "colab": {
     "base_uri": "https://localhost:8080/"
    },
    "id": "TuszW-OB1K0m",
    "outputId": "b89a8350-de58-4fea-8e4b-856efa872712"
   },
   "outputs": [
    {
     "name": "stdout",
     "output_type": "stream",
     "text": [
      "YF deprecation warning: set proxy via new config function: yf.set_config(proxy=proxy)\n"
     ]
    },
    {
     "name": "stderr",
     "output_type": "stream",
     "text": [
      "[*********************100%***********************]  1 of 1 completed"
     ]
    },
    {
     "name": "stdout",
     "output_type": "stream",
     "text": [
      "Shape of DataFrame:  (501, 8)\n"
     ]
    },
    {
     "name": "stderr",
     "output_type": "stream",
     "text": [
      "\n"
     ]
    }
   ],
   "source": [
    "df_dji = YahooDownloader(\n",
    "    start_date=TRADE_START_DATE, end_date=TRADE_END_DATE, ticker_list=[\"^DJI\"]\n",
    ").fetch_data()"
   ]
  },
  {
   "cell_type": "code",
   "execution_count": 28,
   "metadata": {
    "id": "Q3RXz72U1VbV"
   },
   "outputs": [],
   "source": [
    "df_dji = df_dji[[\"date\", \"close\"]]\n",
    "fst_day = df_dji[\"close\"][0]\n",
    "dji = pd.merge(\n",
    "    df_dji[\"date\"],\n",
    "    df_dji[\"close\"].div(fst_day).mul(1000000),\n",
    "    how=\"outer\",\n",
    "    left_index=True,\n",
    "    right_index=True,\n",
    ").set_index(\"date\")"
   ]
  },
  {
   "cell_type": "markdown",
   "metadata": {},
   "source": [
    "# Part 5: Equally Weighted Strategy\n"
   ]
  },
  {
   "cell_type": "code",
   "execution_count": 29,
   "metadata": {},
   "outputs": [],
   "source": [
    "def process_df(df):\n",
    "  return df.pivot(index=\"date\", columns=\"tic\", values=\"close\")"
   ]
  },
  {
   "cell_type": "code",
   "execution_count": 30,
   "metadata": {},
   "outputs": [
    {
     "data": {
      "text/plain": [
       "array([[123.331, 239.425, 142.093, ...,  33.346,  32.071,  46.241],\n",
       "       [124.603, 241.933, 145.396, ...,  34.186,  32.33 ,  46.293],\n",
       "       [123.281, 244.193, 141.917, ...,  34.66 ,  30.346,  46.135],\n",
       "       ...,\n",
       "       [257.287, 257.979, 300.987, ...,  37.876,   9.19 ,  91.988],\n",
       "       [258.104, 256.701, 301.512, ...,  38.029,   9.68 ,  92.098],\n",
       "       [254.686, 256.184, 298.596, ...,  37.991,   9.62 ,  90.976]],\n",
       "      shape=(500, 29))"
      ]
     },
     "execution_count": 30,
     "metadata": {},
     "output_type": "execute_result"
    }
   ],
   "source": [
    "StockData = process_df(train)\n",
    "TradeData = process_df(trade)\n",
    "\n",
    "TradeData.to_numpy()"
   ]
  },
  {
   "cell_type": "code",
   "execution_count": 31,
   "metadata": {},
   "outputs": [
    {
     "data": {
      "text/html": [
       "<div>\n",
       "<style scoped>\n",
       "    .dataframe tbody tr th:only-of-type {\n",
       "        vertical-align: middle;\n",
       "    }\n",
       "\n",
       "    .dataframe tbody tr th {\n",
       "        vertical-align: top;\n",
       "    }\n",
       "\n",
       "    .dataframe thead th {\n",
       "        text-align: right;\n",
       "    }\n",
       "</style>\n",
       "<table border=\"1\" class=\"dataframe\">\n",
       "  <thead>\n",
       "    <tr style=\"text-align: right;\">\n",
       "      <th></th>\n",
       "      <th>Equal Weight</th>\n",
       "    </tr>\n",
       "    <tr>\n",
       "      <th>date</th>\n",
       "      <th></th>\n",
       "    </tr>\n",
       "  </thead>\n",
       "  <tbody>\n",
       "    <tr>\n",
       "      <th>2023-01-03</th>\n",
       "      <td>1.000000e+06</td>\n",
       "    </tr>\n",
       "    <tr>\n",
       "      <th>2023-01-04</th>\n",
       "      <td>1.008939e+06</td>\n",
       "    </tr>\n",
       "    <tr>\n",
       "      <th>2023-01-05</th>\n",
       "      <td>9.994740e+05</td>\n",
       "    </tr>\n",
       "    <tr>\n",
       "      <th>2023-01-06</th>\n",
       "      <td>1.023346e+06</td>\n",
       "    </tr>\n",
       "    <tr>\n",
       "      <th>2023-01-09</th>\n",
       "      <td>1.020309e+06</td>\n",
       "    </tr>\n",
       "    <tr>\n",
       "      <th>...</th>\n",
       "      <td>...</td>\n",
       "    </tr>\n",
       "    <tr>\n",
       "      <th>2024-12-20</th>\n",
       "      <td>1.293422e+06</td>\n",
       "    </tr>\n",
       "    <tr>\n",
       "      <th>2024-12-23</th>\n",
       "      <td>1.293978e+06</td>\n",
       "    </tr>\n",
       "    <tr>\n",
       "      <th>2024-12-24</th>\n",
       "      <td>1.304220e+06</td>\n",
       "    </tr>\n",
       "    <tr>\n",
       "      <th>2024-12-26</th>\n",
       "      <td>1.308777e+06</td>\n",
       "    </tr>\n",
       "    <tr>\n",
       "      <th>2024-12-27</th>\n",
       "      <td>1.300318e+06</td>\n",
       "    </tr>\n",
       "  </tbody>\n",
       "</table>\n",
       "<p>500 rows × 1 columns</p>\n",
       "</div>"
      ],
      "text/plain": [
       "            Equal Weight\n",
       "date                    \n",
       "2023-01-03  1.000000e+06\n",
       "2023-01-04  1.008939e+06\n",
       "2023-01-05  9.994740e+05\n",
       "2023-01-06  1.023346e+06\n",
       "2023-01-09  1.020309e+06\n",
       "...                  ...\n",
       "2024-12-20  1.293422e+06\n",
       "2024-12-23  1.293978e+06\n",
       "2024-12-24  1.304220e+06\n",
       "2024-12-26  1.308777e+06\n",
       "2024-12-27  1.300318e+06\n",
       "\n",
       "[500 rows x 1 columns]"
      ]
     },
     "execution_count": 31,
     "metadata": {},
     "output_type": "execute_result"
    }
   ],
   "source": [
    "trade_data = TradeData.to_numpy()\n",
    "T, N = trade_data.shape\n",
    "\n",
    "# Initialize portfolio\n",
    "portfolio_value = [1000000]\n",
    "weights = np.ones(N) / N  # equal weights\n",
    "\n",
    "for t in range(1, T):\n",
    "    # Previous prices and today's prices\n",
    "    prev_prices = trade_data[t - 1]\n",
    "    curr_prices = trade_data[t]\n",
    "\n",
    "    # How many shares of each asset we held yesterday\n",
    "    shares = (portfolio_value[-1] * weights) / prev_prices\n",
    "\n",
    "    # Today's value = shares * today's price\n",
    "    new_value = np.sum(shares * curr_prices)\n",
    "\n",
    "    portfolio_value.append(new_value)\n",
    "\n",
    "TradeData.index = pd.to_datetime(TradeData.index)\n",
    "\n",
    "# Step 2: Convert your portfolio_value into a DataFrame\n",
    "EWS_result = pd.DataFrame(\n",
    "    portfolio_value, \n",
    "    index=TradeData.index,   # align with dates\n",
    "    columns=[\"Equal Weight\"] # name the strategy\n",
    ")\n",
    "EWS_result"
   ]
  },
  {
   "cell_type": "markdown",
   "metadata": {
    "id": "W6vvNSC6h1jZ"
   },
   "source": [
    "<a id='4'></a>\n",
    "# Part 6: Backtesting Results\n",
    "Backtesting plays a key role in evaluating the performance of a trading strategy. Automated backtesting tool is preferred because it reduces the human error. We usually use the Quantopian pyfolio package to backtest our trading strategies. It is easy to use and consists of various individual plots that provide a comprehensive image of the performance of a trading strategy."
   ]
  },
  {
   "cell_type": "code",
   "execution_count": 32,
   "metadata": {
    "id": "KeDeGAc9VrEg"
   },
   "outputs": [
    {
     "name": "stdout",
     "output_type": "stream",
     "text": [
      "date\n",
      "2023-01-03    1.000000e+06\n",
      "2023-01-04    1.000115e+06\n",
      "2023-01-05    9.999234e+05\n",
      "2023-01-06    1.000097e+06\n",
      "2023-01-09    1.000115e+06\n",
      "                  ...     \n",
      "2024-12-20    1.483083e+06\n",
      "2024-12-23    1.487406e+06\n",
      "2024-12-24    1.503829e+06\n",
      "2024-12-26    1.508444e+06\n",
      "2024-12-27    1.489090e+06\n",
      "Name: account_value, Length: 500, dtype: float64\n",
      "date\n",
      "2023-01-03    7.896225e+05\n",
      "2023-01-04    7.909572e+05\n",
      "2023-01-05    7.780722e+05\n",
      "2023-01-06    7.930048e+05\n",
      "2023-01-09    7.964514e+05\n",
      "                  ...     \n",
      "2024-12-20    1.218321e+06\n",
      "2024-12-23    1.221487e+06\n",
      "2024-12-24    1.231781e+06\n",
      "2024-12-26    1.233944e+06\n",
      "2024-12-27    1.222152e+06\n",
      "Name: Mean Var, Length: 500, dtype: float64\n",
      "[<class 'float'>]\n",
      "[<class 'float'>]\n",
      "[<class 'float'>]\n"
     ]
    }
   ],
   "source": [
    "df_result_a2c = (\n",
    "    df_account_value_a2c.set_index(df_account_value_a2c.columns[0])\n",
    "    if if_using_a2c\n",
    "    else None\n",
    ")\n",
    "df_result_ddpg = (\n",
    "    df_account_value_ddpg.set_index(df_account_value_ddpg.columns[0])\n",
    "    if if_using_ddpg\n",
    "    else None\n",
    ")\n",
    "df_result_ppo = (\n",
    "    df_account_value_ppo.set_index(df_account_value_ppo.columns[0])\n",
    "    if if_using_ppo\n",
    "    else None\n",
    ")\n",
    "df_result_td3 = (\n",
    "    df_account_value_td3.set_index(df_account_value_td3.columns[0])\n",
    "    if if_using_td3\n",
    "    else None\n",
    ")\n",
    "df_result_sac = (\n",
    "    df_account_value_sac.set_index(df_account_value_sac.columns[0])\n",
    "    if if_using_sac\n",
    "    else None\n",
    ")\n",
    "df_result_ppo.index = pd.to_datetime(df_result_ppo.index)\n",
    "MVO_result.index = pd.to_datetime(MVO_result.index)\n",
    "dji.index = pd.to_datetime(dji.index)\n",
    "print(df_result_ppo[\"account_value\"])\n",
    "print(MVO_result[\"Mean Var\"])\n",
    "print(df_result_ppo[\"account_value\"].apply(type).unique())\n",
    "print(MVO_result[\"Mean Var\"].apply(type).unique())\n",
    "print(dji[\"close\"].apply(type).unique())\n",
    "result = pd.DataFrame(\n",
    "    {\n",
    "        \"a2c\": df_result_a2c[\"account_value\"] if if_using_a2c else None,\n",
    "        \"ddpg\": df_result_ddpg[\"account_value\"] if if_using_ddpg else None,\n",
    "        \"ppo\": df_result_ppo[\"account_value\"] if if_using_ppo else None,\n",
    "        \"td3\": df_result_td3[\"account_value\"] if if_using_td3 else None,\n",
    "        \"sac\": df_result_sac[\"account_value\"] if if_using_sac else None,\n",
    "        \"mvo\": MVO_result[\"Mean Var\"],\n",
    "        \"dji\": dji[\"close\"],\n",
    "        \"ews\": EWS_result[\"Equal Weight\"]\n",
    "    }\n",
    ")"
   ]
  },
  {
   "cell_type": "code",
   "execution_count": 33,
   "metadata": {},
   "outputs": [
    {
     "name": "stdout",
     "output_type": "stream",
     "text": [
      "baseline trade 500\n",
      "mvo 789622.490278661 1222152.0565361185\n",
      "baseline trade 501\n",
      "dji 1000000.0 1284803.6481816208\n",
      "baseline trade 500\n",
      "ews 1000000.0 1300317.8524948538\n",
      "agent trade 500\n"
     ]
    },
    {
     "name": "stderr",
     "output_type": "stream",
     "text": [
      "c:\\Users\\Jason\\miniconda3\\Lib\\site-packages\\numpy\\_core\\_methods.py:223: RuntimeWarning: Degrees of freedom <= 0 for slice\n",
      "  ret = _var(a, axis=axis, dtype=dtype, out=out, ddof=ddof,\n",
      "c:\\Users\\Jason\\miniconda3\\Lib\\site-packages\\numpy\\_core\\_methods.py:215: RuntimeWarning: invalid value encountered in scalar divide\n",
      "  ret = ret.dtype.type(ret / rcount)\n"
     ]
    }
   ],
   "source": [
    "import numpy as np\n",
    "import pandas as pd\n",
    "\n",
    "trading_days_per_year = 252\n",
    "\n",
    "# === Utility Functions ===\n",
    "def compute_annualized_return(v0, vT, T):\n",
    "    return (1+((vT - v0)/ v0))** (365 / T) - 1\n",
    "\n",
    "def compute_sharpe_ratio(daily_returns):\n",
    "    if daily_returns.std() == 0 or len(daily_returns) < 2:\n",
    "        return 0.0\n",
    "    return daily_returns.mean() / daily_returns.std() * np.sqrt(trading_days_per_year)\n",
    "\n",
    "def compute_annualized_volatility(daily_returns):\n",
    "    return daily_returns.std() * np.sqrt(trading_days_per_year)\n",
    "\n",
    "def compute_max_drawdown(daily_returns):\n",
    "    r = np.asarray(daily_returns, dtype=float)\n",
    "    if r.size == 0:\n",
    "        return 0.0\n",
    "    r = r[~np.isnan(r)]\n",
    "    if r.size == 0:\n",
    "        return 0.0\n",
    "    equity = np.cumprod(1.0 + r)\n",
    "    peaks = np.maximum.accumulate(equity)\n",
    "    drawdowns = equity / peaks - 1.0  # ≤ 0\n",
    "    return float(np.min(drawdowns) * 100.0)\n",
    "# === Initialize Metrics Dictionary ===\n",
    "metrics = {}\n",
    "\n",
    "# === Process Baselines ===\n",
    "for strategy in result.columns.drop('ppo'):\n",
    "    series = result[strategy].dropna()\n",
    "    if len(series) < 2:\n",
    "        continue\n",
    "\n",
    "    daily_returns = series.pct_change().dropna()\n",
    "    final_value = series.iloc[-1]\n",
    "    v0 = series.iloc[0]\n",
    "    T = len(series)\n",
    "    print(\"baseline trade\",T)\n",
    "    print(strategy,v0,final_value)\n",
    "    annual_return = compute_annualized_return(v0, final_value, T)\n",
    "    volatility = compute_annualized_volatility(daily_returns)\n",
    "    sharpe = compute_sharpe_ratio(daily_returns)\n",
    "    max_drawdown = compute_max_drawdown(daily_returns)\n",
    "    metrics[strategy] = {\n",
    "        \"Final Value\": final_value,\n",
    "        \"Annualized Return\": annual_return,\n",
    "        \"Annualized Volatility\": volatility,\n",
    "        \"Annualized StdErr\": np.nan,\n",
    "        \"Sharpe Ratio\": sharpe,\n",
    "        \"Maximum Drawdown\":max_drawdown,\n",
    "    }\n",
    "\n",
    "# === Process PPO Multi-run ===\n",
    "ppo_runs = [df_account_value_all[f'run_{i+1}'] for i in range(1)]\n",
    "ppo_final_values = []\n",
    "ppo_annual_returns = []\n",
    "ppo_sharpe_ratios = []\n",
    "ppo_volatilities = []\n",
    "ppo_max_drawdown = []\n",
    "for series in ppo_runs:\n",
    "    series = series.dropna()\n",
    "    v0 = series.iloc[0]\n",
    "    vT = series.iloc[-1]\n",
    "    T = len(series)\n",
    "    print(\"agent trade\",T)\n",
    "\n",
    "    daily_returns = series.pct_change().dropna()\n",
    "\n",
    "    ppo_final_values.append(vT)\n",
    "    ppo_annual_returns.append(compute_annualized_return(v0, vT, T))\n",
    "    ppo_sharpe_ratios.append(compute_sharpe_ratio(daily_returns))\n",
    "    ppo_volatilities.append(daily_returns.std() * np.sqrt(252)) \n",
    "    ppo_max_drawdown.append(compute_max_drawdown(daily_returns))\n",
    "# Convert to arrays\n",
    "ppo_annual_returns = np.array(ppo_annual_returns)\n",
    "ppo_sharpe_ratios = np.array(ppo_sharpe_ratios)\n",
    "ppo_final_values = np.array(ppo_final_values)\n",
    "ppo_volatilities = np.array(ppo_volatilities)\n",
    "ppo_max_drawdown = np.array(ppo_max_drawdown)\n",
    "\n",
    "# Compute stats\n",
    "mean_volatility = ppo_volatilities.mean()\n",
    "std_volatility = ppo_volatilities.std(ddof=1)\n",
    "\n",
    "mean_final_value = ppo_final_values.mean()\n",
    "std_final_value = ppo_final_values.std(ddof=1)\n",
    "mean_annual_return = ppo_annual_returns.mean()\n",
    "std_annual_return = ppo_annual_returns.std(ddof=1)\n",
    "stderr_annual_return = std_annual_return / np.sqrt(len(ppo_annual_returns))\n",
    "mean_sharpe = ppo_sharpe_ratios.mean()\n",
    "std_sharpe = ppo_sharpe_ratios.std(ddof=1)\n",
    "mean_max_drawdown = ppo_max_drawdown.mean()\n",
    "\n",
    "# Save PPO to metrics\n",
    "metrics['ppo'] = {\n",
    "    \"Final Value\": f\"{mean_final_value:.2f}\",\n",
    "    \"Annualized Return\": f\"{mean_annual_return:.4f}\",\n",
    "    \"Annualized Volatility\": f\"{mean_volatility:.4f}\",\n",
    "    \"Annualized StdErr\": f\"{stderr_annual_return:.4f}\",\n",
    "    \"Sharpe Ratio\": f\"{mean_sharpe:.4f}\",\n",
    "    \"Maximum Drawdown\": f\"{mean_max_drawdown:.4f}\"\n",
    "\n",
    "}\n",
    "\n",
    "\n",
    "# === Final DataFrame ===\n",
    "df_metrics = pd.DataFrame(metrics)\n",
    "\n"
   ]
  },
  {
   "cell_type": "code",
   "execution_count": 34,
   "metadata": {},
   "outputs": [
    {
     "data": {
      "text/html": [
       "<div>\n",
       "<style scoped>\n",
       "    .dataframe tbody tr th:only-of-type {\n",
       "        vertical-align: middle;\n",
       "    }\n",
       "\n",
       "    .dataframe tbody tr th {\n",
       "        vertical-align: top;\n",
       "    }\n",
       "\n",
       "    .dataframe thead th {\n",
       "        text-align: right;\n",
       "    }\n",
       "</style>\n",
       "<table border=\"1\" class=\"dataframe\">\n",
       "  <thead>\n",
       "    <tr style=\"text-align: right;\">\n",
       "      <th></th>\n",
       "      <th>mvo</th>\n",
       "      <th>dji</th>\n",
       "      <th>ews</th>\n",
       "      <th>ppo</th>\n",
       "    </tr>\n",
       "  </thead>\n",
       "  <tbody>\n",
       "    <tr>\n",
       "      <th>Final Value</th>\n",
       "      <td>1.222152e+06</td>\n",
       "      <td>1.284804e+06</td>\n",
       "      <td>1.300318e+06</td>\n",
       "      <td>1489089.78</td>\n",
       "    </tr>\n",
       "    <tr>\n",
       "      <th>Annualized Return</th>\n",
       "      <td>3.755779e-01</td>\n",
       "      <td>2.003068e-01</td>\n",
       "      <td>2.113124e-01</td>\n",
       "      <td>0.3373</td>\n",
       "    </tr>\n",
       "    <tr>\n",
       "      <th>Annualized Volatility</th>\n",
       "      <td>1.372538e-01</td>\n",
       "      <td>1.139912e-01</td>\n",
       "      <td>1.124035e-01</td>\n",
       "      <td>0.1775</td>\n",
       "    </tr>\n",
       "    <tr>\n",
       "      <th>Annualized StdErr</th>\n",
       "      <td>NaN</td>\n",
       "      <td>NaN</td>\n",
       "      <td>NaN</td>\n",
       "      <td>nan</td>\n",
       "    </tr>\n",
       "    <tr>\n",
       "      <th>Sharpe Ratio</th>\n",
       "      <td>1.676379e+00</td>\n",
       "      <td>1.165158e+00</td>\n",
       "      <td>1.236259e+00</td>\n",
       "      <td>1.2218</td>\n",
       "    </tr>\n",
       "    <tr>\n",
       "      <th>Maximum Drawdown</th>\n",
       "      <td>-9.858092e+00</td>\n",
       "      <td>-9.017762e+00</td>\n",
       "      <td>-8.675963e+00</td>\n",
       "      <td>-16.5661</td>\n",
       "    </tr>\n",
       "  </tbody>\n",
       "</table>\n",
       "</div>"
      ],
      "text/plain": [
       "                                mvo           dji           ews         ppo\n",
       "Final Value            1.222152e+06  1.284804e+06  1.300318e+06  1489089.78\n",
       "Annualized Return      3.755779e-01  2.003068e-01  2.113124e-01      0.3373\n",
       "Annualized Volatility  1.372538e-01  1.139912e-01  1.124035e-01      0.1775\n",
       "Annualized StdErr               NaN           NaN           NaN         nan\n",
       "Sharpe Ratio           1.676379e+00  1.165158e+00  1.236259e+00      1.2218\n",
       "Maximum Drawdown      -9.858092e+00 -9.017762e+00 -8.675963e+00    -16.5661"
      ]
     },
     "execution_count": 34,
     "metadata": {},
     "output_type": "execute_result"
    }
   ],
   "source": [
    "df_metrics"
   ]
  },
  {
   "cell_type": "code",
   "execution_count": 37,
   "metadata": {
    "colab": {
     "base_uri": "https://localhost:8080/",
     "height": 455
    },
    "id": "l4FZxyDt3XaE",
    "outputId": "2e739637-bf88-4698-9cf1-9a526452e465"
   },
   "outputs": [
    {
     "data": {
      "text/html": [
       "<div>\n",
       "<style scoped>\n",
       "    .dataframe tbody tr th:only-of-type {\n",
       "        vertical-align: middle;\n",
       "    }\n",
       "\n",
       "    .dataframe tbody tr th {\n",
       "        vertical-align: top;\n",
       "    }\n",
       "\n",
       "    .dataframe thead th {\n",
       "        text-align: right;\n",
       "    }\n",
       "</style>\n",
       "<table border=\"1\" class=\"dataframe\">\n",
       "  <thead>\n",
       "    <tr style=\"text-align: right;\">\n",
       "      <th></th>\n",
       "      <th>a2c</th>\n",
       "      <th>ddpg</th>\n",
       "      <th>ppo</th>\n",
       "      <th>td3</th>\n",
       "      <th>sac</th>\n",
       "      <th>mvo</th>\n",
       "      <th>dji</th>\n",
       "      <th>ews</th>\n",
       "    </tr>\n",
       "    <tr>\n",
       "      <th>date</th>\n",
       "      <th></th>\n",
       "      <th></th>\n",
       "      <th></th>\n",
       "      <th></th>\n",
       "      <th></th>\n",
       "      <th></th>\n",
       "      <th></th>\n",
       "      <th></th>\n",
       "    </tr>\n",
       "  </thead>\n",
       "  <tbody>\n",
       "    <tr>\n",
       "      <th>2023-01-03</th>\n",
       "      <td>None</td>\n",
       "      <td>None</td>\n",
       "      <td>1.000000e+06</td>\n",
       "      <td>None</td>\n",
       "      <td>None</td>\n",
       "      <td>7.896225e+05</td>\n",
       "      <td>1.000000e+06</td>\n",
       "      <td>1.000000e+06</td>\n",
       "    </tr>\n",
       "    <tr>\n",
       "      <th>2023-01-04</th>\n",
       "      <td>None</td>\n",
       "      <td>None</td>\n",
       "      <td>1.000115e+06</td>\n",
       "      <td>None</td>\n",
       "      <td>None</td>\n",
       "      <td>7.909572e+05</td>\n",
       "      <td>1.004026e+06</td>\n",
       "      <td>1.008939e+06</td>\n",
       "    </tr>\n",
       "    <tr>\n",
       "      <th>2023-01-05</th>\n",
       "      <td>None</td>\n",
       "      <td>None</td>\n",
       "      <td>9.999234e+05</td>\n",
       "      <td>None</td>\n",
       "      <td>None</td>\n",
       "      <td>7.780722e+05</td>\n",
       "      <td>9.937744e+05</td>\n",
       "      <td>9.994740e+05</td>\n",
       "    </tr>\n",
       "    <tr>\n",
       "      <th>2023-01-06</th>\n",
       "      <td>None</td>\n",
       "      <td>None</td>\n",
       "      <td>1.000097e+06</td>\n",
       "      <td>None</td>\n",
       "      <td>None</td>\n",
       "      <td>7.930048e+05</td>\n",
       "      <td>1.014915e+06</td>\n",
       "      <td>1.023346e+06</td>\n",
       "    </tr>\n",
       "    <tr>\n",
       "      <th>2023-01-09</th>\n",
       "      <td>None</td>\n",
       "      <td>None</td>\n",
       "      <td>1.000115e+06</td>\n",
       "      <td>None</td>\n",
       "      <td>None</td>\n",
       "      <td>7.964514e+05</td>\n",
       "      <td>1.011506e+06</td>\n",
       "      <td>1.020309e+06</td>\n",
       "    </tr>\n",
       "    <tr>\n",
       "      <th>...</th>\n",
       "      <td>...</td>\n",
       "      <td>...</td>\n",
       "      <td>...</td>\n",
       "      <td>...</td>\n",
       "      <td>...</td>\n",
       "      <td>...</td>\n",
       "      <td>...</td>\n",
       "      <td>...</td>\n",
       "    </tr>\n",
       "    <tr>\n",
       "      <th>2024-12-23</th>\n",
       "      <td>None</td>\n",
       "      <td>None</td>\n",
       "      <td>1.487406e+06</td>\n",
       "      <td>None</td>\n",
       "      <td>None</td>\n",
       "      <td>1.221487e+06</td>\n",
       "      <td>1.294860e+06</td>\n",
       "      <td>1.293978e+06</td>\n",
       "    </tr>\n",
       "    <tr>\n",
       "      <th>2024-12-24</th>\n",
       "      <td>None</td>\n",
       "      <td>None</td>\n",
       "      <td>1.503829e+06</td>\n",
       "      <td>None</td>\n",
       "      <td>None</td>\n",
       "      <td>1.231781e+06</td>\n",
       "      <td>1.306632e+06</td>\n",
       "      <td>1.304220e+06</td>\n",
       "    </tr>\n",
       "    <tr>\n",
       "      <th>2024-12-26</th>\n",
       "      <td>None</td>\n",
       "      <td>None</td>\n",
       "      <td>1.508444e+06</td>\n",
       "      <td>None</td>\n",
       "      <td>None</td>\n",
       "      <td>1.233944e+06</td>\n",
       "      <td>1.307500e+06</td>\n",
       "      <td>1.308777e+06</td>\n",
       "    </tr>\n",
       "    <tr>\n",
       "      <th>2024-12-27</th>\n",
       "      <td>None</td>\n",
       "      <td>None</td>\n",
       "      <td>1.489090e+06</td>\n",
       "      <td>None</td>\n",
       "      <td>None</td>\n",
       "      <td>1.222152e+06</td>\n",
       "      <td>1.297433e+06</td>\n",
       "      <td>1.300318e+06</td>\n",
       "    </tr>\n",
       "    <tr>\n",
       "      <th>2024-12-30</th>\n",
       "      <td>None</td>\n",
       "      <td>None</td>\n",
       "      <td>NaN</td>\n",
       "      <td>None</td>\n",
       "      <td>None</td>\n",
       "      <td>NaN</td>\n",
       "      <td>1.284804e+06</td>\n",
       "      <td>NaN</td>\n",
       "    </tr>\n",
       "  </tbody>\n",
       "</table>\n",
       "<p>501 rows × 8 columns</p>\n",
       "</div>"
      ],
      "text/plain": [
       "             a2c  ddpg           ppo   td3   sac           mvo           dji  \\\n",
       "date                                                                           \n",
       "2023-01-03  None  None  1.000000e+06  None  None  7.896225e+05  1.000000e+06   \n",
       "2023-01-04  None  None  1.000115e+06  None  None  7.909572e+05  1.004026e+06   \n",
       "2023-01-05  None  None  9.999234e+05  None  None  7.780722e+05  9.937744e+05   \n",
       "2023-01-06  None  None  1.000097e+06  None  None  7.930048e+05  1.014915e+06   \n",
       "2023-01-09  None  None  1.000115e+06  None  None  7.964514e+05  1.011506e+06   \n",
       "...          ...   ...           ...   ...   ...           ...           ...   \n",
       "2024-12-23  None  None  1.487406e+06  None  None  1.221487e+06  1.294860e+06   \n",
       "2024-12-24  None  None  1.503829e+06  None  None  1.231781e+06  1.306632e+06   \n",
       "2024-12-26  None  None  1.508444e+06  None  None  1.233944e+06  1.307500e+06   \n",
       "2024-12-27  None  None  1.489090e+06  None  None  1.222152e+06  1.297433e+06   \n",
       "2024-12-30  None  None           NaN  None  None           NaN  1.284804e+06   \n",
       "\n",
       "                     ews  \n",
       "date                      \n",
       "2023-01-03  1.000000e+06  \n",
       "2023-01-04  1.008939e+06  \n",
       "2023-01-05  9.994740e+05  \n",
       "2023-01-06  1.023346e+06  \n",
       "2023-01-09  1.020309e+06  \n",
       "...                  ...  \n",
       "2024-12-23  1.293978e+06  \n",
       "2024-12-24  1.304220e+06  \n",
       "2024-12-26  1.308777e+06  \n",
       "2024-12-27  1.300318e+06  \n",
       "2024-12-30           NaN  \n",
       "\n",
       "[501 rows x 8 columns]"
      ]
     },
     "execution_count": 37,
     "metadata": {},
     "output_type": "execute_result"
    }
   ],
   "source": [
    "result"
   ]
  },
  {
   "cell_type": "markdown",
   "metadata": {
    "id": "QQuc5hI9Yklt"
   },
   "source": [
    "Now, everything is ready, we can plot the backtest result."
   ]
  },
  {
   "cell_type": "code",
   "execution_count": 38,
   "metadata": {
    "colab": {
     "base_uri": "https://localhost:8080/",
     "height": 381
    },
    "id": "6xRfrqK4RVfq",
    "outputId": "469c9729-fd57-417c-9b13-2243426923e2"
   },
   "outputs": [
    {
     "data": {
      "text/plain": [
       "<Axes: xlabel='date'>"
      ]
     },
     "execution_count": 38,
     "metadata": {},
     "output_type": "execute_result"
    }
   ],
   "source": [
    "plt.rcParams[\"figure.figsize\"] = (15,5)\n",
    "plt.figure()\n",
    "result.plot()"
   ]
  }
 ],
 "metadata": {
  "colab": {
   "collapsed_sections": [
    "GfZ5vY5wRjkJ"
   ],
   "provenance": []
  },
  "kernelspec": {
   "display_name": "base",
   "language": "python",
   "name": "python3"
  },
  "language_info": {
   "codemirror_mode": {
    "name": "ipython",
    "version": 3
   },
   "file_extension": ".py",
   "mimetype": "text/x-python",
   "name": "python",
   "nbconvert_exporter": "python",
   "pygments_lexer": "ipython3",
   "version": "3.12.4"
  }
 },
 "nbformat": 4,
 "nbformat_minor": 0
}
